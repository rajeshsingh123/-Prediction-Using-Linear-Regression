{
  "cells": [
    {
      "cell_type": "markdown",
      "metadata": {
        "id": "view-in-github",
        "colab_type": "text"
      },
      "source": [
        "<a href=\"https://colab.research.google.com/github/rajeshsingh123/-Prediction-Using-Linear-Regression/blob/main/Linear_Regression.ipynb\" target=\"_parent\"><img src=\"https://colab.research.google.com/assets/colab-badge.svg\" alt=\"Open In Colab\"/></a>"
      ]
    },
    {
      "cell_type": "code",
      "execution_count": null,
      "metadata": {
        "id": "_dryX3EdcBjJ"
      },
      "outputs": [],
      "source": [
        "import pandas as pd"
      ]
    },
    {
      "cell_type": "code",
      "execution_count": null,
      "metadata": {
        "id": "1V4bKsIEhNt-"
      },
      "outputs": [],
      "source": [
        "df = pd.read_csv(\"https://raw.githubusercontent.com/purna135/ML-Datasets/main/weight-height.csv\")\n"
      ]
    },
    {
      "cell_type": "code",
      "execution_count": null,
      "metadata": {
        "colab": {
          "base_uri": "https://localhost:8080/",
          "height": 206
        },
        "id": "szx9GG6KhRFp",
        "outputId": "014ca52d-3376-4bae-9511-3e20df099ef5"
      },
      "outputs": [
        {
          "data": {
            "text/html": [
              "\n",
              "  <div id=\"df-d5cd4a90-00f9-4771-9e78-572e8d431504\">\n",
              "    <div class=\"colab-df-container\">\n",
              "      <div>\n",
              "<style scoped>\n",
              "    .dataframe tbody tr th:only-of-type {\n",
              "        vertical-align: middle;\n",
              "    }\n",
              "\n",
              "    .dataframe tbody tr th {\n",
              "        vertical-align: top;\n",
              "    }\n",
              "\n",
              "    .dataframe thead th {\n",
              "        text-align: right;\n",
              "    }\n",
              "</style>\n",
              "<table border=\"1\" class=\"dataframe\">\n",
              "  <thead>\n",
              "    <tr style=\"text-align: right;\">\n",
              "      <th></th>\n",
              "      <th>Gender</th>\n",
              "      <th>Height</th>\n",
              "      <th>Weight</th>\n",
              "    </tr>\n",
              "  </thead>\n",
              "  <tbody>\n",
              "    <tr>\n",
              "      <th>0</th>\n",
              "      <td>Male</td>\n",
              "      <td>73.847017</td>\n",
              "      <td>241.893563</td>\n",
              "    </tr>\n",
              "    <tr>\n",
              "      <th>1</th>\n",
              "      <td>Male</td>\n",
              "      <td>68.781904</td>\n",
              "      <td>162.310473</td>\n",
              "    </tr>\n",
              "    <tr>\n",
              "      <th>2</th>\n",
              "      <td>Male</td>\n",
              "      <td>74.110105</td>\n",
              "      <td>212.740856</td>\n",
              "    </tr>\n",
              "    <tr>\n",
              "      <th>3</th>\n",
              "      <td>Male</td>\n",
              "      <td>71.730978</td>\n",
              "      <td>220.042470</td>\n",
              "    </tr>\n",
              "    <tr>\n",
              "      <th>4</th>\n",
              "      <td>Male</td>\n",
              "      <td>69.881796</td>\n",
              "      <td>206.349801</td>\n",
              "    </tr>\n",
              "  </tbody>\n",
              "</table>\n",
              "</div>\n",
              "      <button class=\"colab-df-convert\" onclick=\"convertToInteractive('df-d5cd4a90-00f9-4771-9e78-572e8d431504')\"\n",
              "              title=\"Convert this dataframe to an interactive table.\"\n",
              "              style=\"display:none;\">\n",
              "        \n",
              "  <svg xmlns=\"http://www.w3.org/2000/svg\" height=\"24px\"viewBox=\"0 0 24 24\"\n",
              "       width=\"24px\">\n",
              "    <path d=\"M0 0h24v24H0V0z\" fill=\"none\"/>\n",
              "    <path d=\"M18.56 5.44l.94 2.06.94-2.06 2.06-.94-2.06-.94-.94-2.06-.94 2.06-2.06.94zm-11 1L8.5 8.5l.94-2.06 2.06-.94-2.06-.94L8.5 2.5l-.94 2.06-2.06.94zm10 10l.94 2.06.94-2.06 2.06-.94-2.06-.94-.94-2.06-.94 2.06-2.06.94z\"/><path d=\"M17.41 7.96l-1.37-1.37c-.4-.4-.92-.59-1.43-.59-.52 0-1.04.2-1.43.59L10.3 9.45l-7.72 7.72c-.78.78-.78 2.05 0 2.83L4 21.41c.39.39.9.59 1.41.59.51 0 1.02-.2 1.41-.59l7.78-7.78 2.81-2.81c.8-.78.8-2.07 0-2.86zM5.41 20L4 18.59l7.72-7.72 1.47 1.35L5.41 20z\"/>\n",
              "  </svg>\n",
              "      </button>\n",
              "      \n",
              "  <style>\n",
              "    .colab-df-container {\n",
              "      display:flex;\n",
              "      flex-wrap:wrap;\n",
              "      gap: 12px;\n",
              "    }\n",
              "\n",
              "    .colab-df-convert {\n",
              "      background-color: #E8F0FE;\n",
              "      border: none;\n",
              "      border-radius: 50%;\n",
              "      cursor: pointer;\n",
              "      display: none;\n",
              "      fill: #1967D2;\n",
              "      height: 32px;\n",
              "      padding: 0 0 0 0;\n",
              "      width: 32px;\n",
              "    }\n",
              "\n",
              "    .colab-df-convert:hover {\n",
              "      background-color: #E2EBFA;\n",
              "      box-shadow: 0px 1px 2px rgba(60, 64, 67, 0.3), 0px 1px 3px 1px rgba(60, 64, 67, 0.15);\n",
              "      fill: #174EA6;\n",
              "    }\n",
              "\n",
              "    [theme=dark] .colab-df-convert {\n",
              "      background-color: #3B4455;\n",
              "      fill: #D2E3FC;\n",
              "    }\n",
              "\n",
              "    [theme=dark] .colab-df-convert:hover {\n",
              "      background-color: #434B5C;\n",
              "      box-shadow: 0px 1px 3px 1px rgba(0, 0, 0, 0.15);\n",
              "      filter: drop-shadow(0px 1px 2px rgba(0, 0, 0, 0.3));\n",
              "      fill: #FFFFFF;\n",
              "    }\n",
              "  </style>\n",
              "\n",
              "      <script>\n",
              "        const buttonEl =\n",
              "          document.querySelector('#df-d5cd4a90-00f9-4771-9e78-572e8d431504 button.colab-df-convert');\n",
              "        buttonEl.style.display =\n",
              "          google.colab.kernel.accessAllowed ? 'block' : 'none';\n",
              "\n",
              "        async function convertToInteractive(key) {\n",
              "          const element = document.querySelector('#df-d5cd4a90-00f9-4771-9e78-572e8d431504');\n",
              "          const dataTable =\n",
              "            await google.colab.kernel.invokeFunction('convertToInteractive',\n",
              "                                                     [key], {});\n",
              "          if (!dataTable) return;\n",
              "\n",
              "          const docLinkHtml = 'Like what you see? Visit the ' +\n",
              "            '<a target=\"_blank\" href=https://colab.research.google.com/notebooks/data_table.ipynb>data table notebook</a>'\n",
              "            + ' to learn more about interactive tables.';\n",
              "          element.innerHTML = '';\n",
              "          dataTable['output_type'] = 'display_data';\n",
              "          await google.colab.output.renderOutput(dataTable, element);\n",
              "          const docLink = document.createElement('div');\n",
              "          docLink.innerHTML = docLinkHtml;\n",
              "          element.appendChild(docLink);\n",
              "        }\n",
              "      </script>\n",
              "    </div>\n",
              "  </div>\n",
              "  "
            ],
            "text/plain": [
              "  Gender     Height      Weight\n",
              "0   Male  73.847017  241.893563\n",
              "1   Male  68.781904  162.310473\n",
              "2   Male  74.110105  212.740856\n",
              "3   Male  71.730978  220.042470\n",
              "4   Male  69.881796  206.349801"
            ]
          },
          "execution_count": 3,
          "metadata": {},
          "output_type": "execute_result"
        }
      ],
      "source": [
        "df.head()"
      ]
    },
    {
      "cell_type": "code",
      "execution_count": null,
      "metadata": {
        "id": "A3KJ6WnJhVr6"
      },
      "outputs": [],
      "source": [
        "df.drop([\"Gender\"], inplace = True, axis = 1)\n"
      ]
    },
    {
      "cell_type": "code",
      "execution_count": null,
      "metadata": {
        "colab": {
          "base_uri": "https://localhost:8080/",
          "height": 206
        },
        "id": "EEwPCzsQheqR",
        "outputId": "544f9c24-de59-4b51-ff2c-53f1663f1eab"
      },
      "outputs": [
        {
          "data": {
            "text/html": [
              "\n",
              "  <div id=\"df-4553db93-4fa2-46db-a32c-2253188c443d\">\n",
              "    <div class=\"colab-df-container\">\n",
              "      <div>\n",
              "<style scoped>\n",
              "    .dataframe tbody tr th:only-of-type {\n",
              "        vertical-align: middle;\n",
              "    }\n",
              "\n",
              "    .dataframe tbody tr th {\n",
              "        vertical-align: top;\n",
              "    }\n",
              "\n",
              "    .dataframe thead th {\n",
              "        text-align: right;\n",
              "    }\n",
              "</style>\n",
              "<table border=\"1\" class=\"dataframe\">\n",
              "  <thead>\n",
              "    <tr style=\"text-align: right;\">\n",
              "      <th></th>\n",
              "      <th>Height</th>\n",
              "      <th>Weight</th>\n",
              "    </tr>\n",
              "  </thead>\n",
              "  <tbody>\n",
              "    <tr>\n",
              "      <th>0</th>\n",
              "      <td>73.847017</td>\n",
              "      <td>241.893563</td>\n",
              "    </tr>\n",
              "    <tr>\n",
              "      <th>1</th>\n",
              "      <td>68.781904</td>\n",
              "      <td>162.310473</td>\n",
              "    </tr>\n",
              "    <tr>\n",
              "      <th>2</th>\n",
              "      <td>74.110105</td>\n",
              "      <td>212.740856</td>\n",
              "    </tr>\n",
              "    <tr>\n",
              "      <th>3</th>\n",
              "      <td>71.730978</td>\n",
              "      <td>220.042470</td>\n",
              "    </tr>\n",
              "    <tr>\n",
              "      <th>4</th>\n",
              "      <td>69.881796</td>\n",
              "      <td>206.349801</td>\n",
              "    </tr>\n",
              "  </tbody>\n",
              "</table>\n",
              "</div>\n",
              "      <button class=\"colab-df-convert\" onclick=\"convertToInteractive('df-4553db93-4fa2-46db-a32c-2253188c443d')\"\n",
              "              title=\"Convert this dataframe to an interactive table.\"\n",
              "              style=\"display:none;\">\n",
              "        \n",
              "  <svg xmlns=\"http://www.w3.org/2000/svg\" height=\"24px\"viewBox=\"0 0 24 24\"\n",
              "       width=\"24px\">\n",
              "    <path d=\"M0 0h24v24H0V0z\" fill=\"none\"/>\n",
              "    <path d=\"M18.56 5.44l.94 2.06.94-2.06 2.06-.94-2.06-.94-.94-2.06-.94 2.06-2.06.94zm-11 1L8.5 8.5l.94-2.06 2.06-.94-2.06-.94L8.5 2.5l-.94 2.06-2.06.94zm10 10l.94 2.06.94-2.06 2.06-.94-2.06-.94-.94-2.06-.94 2.06-2.06.94z\"/><path d=\"M17.41 7.96l-1.37-1.37c-.4-.4-.92-.59-1.43-.59-.52 0-1.04.2-1.43.59L10.3 9.45l-7.72 7.72c-.78.78-.78 2.05 0 2.83L4 21.41c.39.39.9.59 1.41.59.51 0 1.02-.2 1.41-.59l7.78-7.78 2.81-2.81c.8-.78.8-2.07 0-2.86zM5.41 20L4 18.59l7.72-7.72 1.47 1.35L5.41 20z\"/>\n",
              "  </svg>\n",
              "      </button>\n",
              "      \n",
              "  <style>\n",
              "    .colab-df-container {\n",
              "      display:flex;\n",
              "      flex-wrap:wrap;\n",
              "      gap: 12px;\n",
              "    }\n",
              "\n",
              "    .colab-df-convert {\n",
              "      background-color: #E8F0FE;\n",
              "      border: none;\n",
              "      border-radius: 50%;\n",
              "      cursor: pointer;\n",
              "      display: none;\n",
              "      fill: #1967D2;\n",
              "      height: 32px;\n",
              "      padding: 0 0 0 0;\n",
              "      width: 32px;\n",
              "    }\n",
              "\n",
              "    .colab-df-convert:hover {\n",
              "      background-color: #E2EBFA;\n",
              "      box-shadow: 0px 1px 2px rgba(60, 64, 67, 0.3), 0px 1px 3px 1px rgba(60, 64, 67, 0.15);\n",
              "      fill: #174EA6;\n",
              "    }\n",
              "\n",
              "    [theme=dark] .colab-df-convert {\n",
              "      background-color: #3B4455;\n",
              "      fill: #D2E3FC;\n",
              "    }\n",
              "\n",
              "    [theme=dark] .colab-df-convert:hover {\n",
              "      background-color: #434B5C;\n",
              "      box-shadow: 0px 1px 3px 1px rgba(0, 0, 0, 0.15);\n",
              "      filter: drop-shadow(0px 1px 2px rgba(0, 0, 0, 0.3));\n",
              "      fill: #FFFFFF;\n",
              "    }\n",
              "  </style>\n",
              "\n",
              "      <script>\n",
              "        const buttonEl =\n",
              "          document.querySelector('#df-4553db93-4fa2-46db-a32c-2253188c443d button.colab-df-convert');\n",
              "        buttonEl.style.display =\n",
              "          google.colab.kernel.accessAllowed ? 'block' : 'none';\n",
              "\n",
              "        async function convertToInteractive(key) {\n",
              "          const element = document.querySelector('#df-4553db93-4fa2-46db-a32c-2253188c443d');\n",
              "          const dataTable =\n",
              "            await google.colab.kernel.invokeFunction('convertToInteractive',\n",
              "                                                     [key], {});\n",
              "          if (!dataTable) return;\n",
              "\n",
              "          const docLinkHtml = 'Like what you see? Visit the ' +\n",
              "            '<a target=\"_blank\" href=https://colab.research.google.com/notebooks/data_table.ipynb>data table notebook</a>'\n",
              "            + ' to learn more about interactive tables.';\n",
              "          element.innerHTML = '';\n",
              "          dataTable['output_type'] = 'display_data';\n",
              "          await google.colab.output.renderOutput(dataTable, element);\n",
              "          const docLink = document.createElement('div');\n",
              "          docLink.innerHTML = docLinkHtml;\n",
              "          element.appendChild(docLink);\n",
              "        }\n",
              "      </script>\n",
              "    </div>\n",
              "  </div>\n",
              "  "
            ],
            "text/plain": [
              "      Height      Weight\n",
              "0  73.847017  241.893563\n",
              "1  68.781904  162.310473\n",
              "2  74.110105  212.740856\n",
              "3  71.730978  220.042470\n",
              "4  69.881796  206.349801"
            ]
          },
          "execution_count": 5,
          "metadata": {},
          "output_type": "execute_result"
        }
      ],
      "source": [
        "df.head()"
      ]
    },
    {
      "cell_type": "code",
      "execution_count": null,
      "metadata": {
        "colab": {
          "base_uri": "https://localhost:8080/",
          "height": 282
        },
        "id": "VKSUv8pph9kZ",
        "outputId": "fb1f059f-9078-4d93-d1b1-1f75022002ed"
      },
      "outputs": [
        {
          "data": {
            "text/plain": [
              "<matplotlib.collections.PathCollection at 0x7f36fbd9a2d0>"
            ]
          },
          "execution_count": 6,
          "metadata": {},
          "output_type": "execute_result"
        },
        {
          "data": {
            "image/png": "[encoded data removed]",
            "text/plain": [
              "<Figure size 432x288 with 1 Axes>"
            ]
          },
          "metadata": {},
          "output_type": "display_data"
        }
      ],
      "source": [
        "import matplotlib.pyplot as plt\n",
        "plt.scatter(df[\"Height\"],df[\"Weight\"])"
      ]
    },
    {
      "cell_type": "code",
      "execution_count": null,
      "metadata": {
        "id": "byiivl5ZiKy-"
      },
      "outputs": [],
      "source": [
        "# As the dataset is large so we are taking some points\n",
        "X = df[\"Height\"][:200]\n",
        "Y = df[\"Weight\"][:200]"
      ]
    },
    {
      "cell_type": "code",
      "execution_count": null,
      "metadata": {
        "colab": {
          "base_uri": "https://localhost:8080/",
          "height": 282
        },
        "id": "ZlMv9fnhia-q",
        "outputId": "048de03c-71b9-446d-d5a8-2415a90c5739"
      },
      "outputs": [
        {
          "data": {
            "text/plain": [
              "<matplotlib.collections.PathCollection at 0x7f36fbd9a050>"
            ]
          },
          "execution_count": 8,
          "metadata": {},
          "output_type": "execute_result"
        },
        {
          "data": {
            "image/png": "[encoded data removed]",
            "text/plain": [
              "<Figure size 432x288 with 1 Axes>"
            ]
          },
          "metadata": {},
          "output_type": "display_data"
        }
      ],
      "source": [
        "plt.scatter(X,Y)"
      ]
    },
    {
      "cell_type": "code",
      "execution_count": null,
      "metadata": {
        "colab": {
          "base_uri": "https://localhost:8080/"
        },
        "id": "__tuJEgjig0e",
        "outputId": "d2194da1-b0b6-41d5-8db6-adda326d4751"
      },
      "outputs": [
        {
          "data": {
            "text/plain": [
              "(200,)"
            ]
          },
          "execution_count": 9,
          "metadata": {},
          "output_type": "execute_result"
        }
      ],
      "source": [
        "X.shape"
      ]
    },
    {
      "cell_type": "code",
      "execution_count": null,
      "metadata": {
        "id": "LhG4Nzcbij4G"
      },
      "outputs": [],
      "source": [
        "X=X.values.reshape(-1,1)"
      ]
    },
    {
      "cell_type": "code",
      "execution_count": null,
      "metadata": {
        "colab": {
          "base_uri": "https://localhost:8080/"
        },
        "id": "16RWcFMIitjh",
        "outputId": "e5ae1e23-6063-4ebf-ddc6-ddf34d1676fa"
      },
      "outputs": [
        {
          "data": {
            "text/plain": [
              "(200, 1)"
            ]
          },
          "execution_count": 11,
          "metadata": {},
          "output_type": "execute_result"
        }
      ],
      "source": [
        "X.shape"
      ]
    },
    {
      "cell_type": "code",
      "execution_count": null,
      "metadata": {
        "id": "CEmf_XV6i6oz"
      },
      "outputs": [],
      "source": [
        "from sklearn.model_selection import train_test_split\n",
        "X_train,X_test,y_train,y_test=train_test_split(X,Y,train_size=0.7,random_state=50) "
      ]
    },
    {
      "cell_type": "code",
      "execution_count": null,
      "metadata": {
        "colab": {
          "base_uri": "https://localhost:8080/"
        },
        "id": "J3g-gGHVjrTy",
        "outputId": "eb6f8da2-cd37-4018-c607-5646d7c9c494"
      },
      "outputs": [
        {
          "data": {
            "text/plain": [
              "(140, 1)"
            ]
          },
          "execution_count": 13,
          "metadata": {},
          "output_type": "execute_result"
        }
      ],
      "source": [
        "X_train.shape"
      ]
    },
    {
      "cell_type": "code",
      "execution_count": null,
      "metadata": {
        "colab": {
          "base_uri": "https://localhost:8080/"
        },
        "id": "nHOmjDGSjt2v",
        "outputId": "c2a17d04-82e2-4f62-bfa2-a34d3cd397f8"
      },
      "outputs": [
        {
          "data": {
            "text/plain": [
              "LinearRegression()"
            ]
          },
          "execution_count": 14,
          "metadata": {},
          "output_type": "execute_result"
        }
      ],
      "source": [
        "from sklearn.linear_model import LinearRegression\n",
        "lr=LinearRegression()\n",
        "lr.fit(X_train,y_train)"
      ]
    },
    {
      "cell_type": "code",
      "execution_count": null,
      "metadata": {
        "colab": {
          "base_uri": "https://localhost:8080/"
        },
        "id": "ZTsng0Rwk3r9",
        "outputId": "7e893d7b-1c1f-4311-f53b-a1945937a77d"
      },
      "outputs": [
        {
          "data": {
            "text/plain": [
              "array([202.42772225, 163.93751992, 161.84842036, 178.62966295,\n",
              "       189.75711108, 180.52660301, 199.75220299, 175.21094339,\n",
              "       159.10700302, 182.48066941, 182.49316698, 228.15698598,\n",
              "       186.34977612, 159.28176073, 181.88492559, 189.40368422,\n",
              "       165.31318567, 223.77628971, 181.60129903, 164.53114187,\n",
              "       206.63788901, 215.59105305, 180.39696616, 169.55293439,\n",
              "       183.37603486, 191.72272546, 170.67108965, 190.3864735 ,\n",
              "       174.10716933, 179.26089108, 149.63243912, 145.06678513,\n",
              "       200.32720334, 197.90147501, 182.87869438, 207.98137756,\n",
              "       175.0800427 , 175.04481456, 198.28462606, 178.52220574,\n",
              "       183.8890044 , 172.67921416, 168.02354226, 192.52954079,\n",
              "       180.87828719, 232.69717995, 182.4894624 , 168.01721067,\n",
              "       188.64168375, 185.30866665, 185.66877162, 190.14926888,\n",
              "       193.20402122, 170.72558983, 166.38263697, 188.02942834,\n",
              "       162.09929792, 188.04333922, 190.23700354, 207.23993561])"
            ]
          },
          "execution_count": 15,
          "metadata": {},
          "output_type": "execute_result"
        }
      ],
      "source": [
        "lr.predict(X_test)\n"
      ]
    },
    {
      "cell_type": "code",
      "execution_count": null,
      "metadata": {
        "id": "ePp64XsDk94p"
      },
      "outputs": [],
      "source": [
        "y_pred = lr.predict(X_test)\n"
      ]
    },
    {
      "cell_type": "code",
      "execution_count": null,
      "metadata": {
        "colab": {
          "base_uri": "https://localhost:8080/",
          "height": 282
        },
        "id": "X_o4ev7ilBI3",
        "outputId": "af823b92-f745-47c0-9554-bc74eed15066"
      },
      "outputs": [
        {
          "data": {
            "text/plain": [
              "[<matplotlib.lines.Line2D at 0x7f36ec921d90>]"
            ]
          },
          "execution_count": 17,
          "metadata": {},
          "output_type": "execute_result"
        },
        {
          "data": {
            "image/png": "[encoded data removed]",
            "text/plain": [
              "<Figure size 432x288 with 1 Axes>"
            ]
          },
          "metadata": {},
          "output_type": "display_data"
        }
      ],
      "source": [
        "plt.scatter(X,Y)\n",
        "plt.plot(X_test,y_pred,color='r')"
      ]
    },
    {
      "cell_type": "code",
      "execution_count": null,
      "metadata": {
        "colab": {
          "base_uri": "https://localhost:8080/"
        },
        "id": "V08A7iTolM79",
        "outputId": "46d7ccbd-26be-4cb3-d61e-11f52031b448"
      },
      "outputs": [
        {
          "data": {
            "text/plain": [
              "array([5.93199026])"
            ]
          },
          "execution_count": 18,
          "metadata": {},
          "output_type": "execute_result"
        }
      ],
      "source": [
        "lr.coef_"
      ]
    },
    {
      "cell_type": "code",
      "execution_count": null,
      "metadata": {
        "colab": {
          "base_uri": "https://localhost:8080/"
        },
        "id": "1RAAUet4laYB",
        "outputId": "0cf2ecc9-5458-42a4-ead9-ff2431f7a1df"
      },
      "outputs": [
        {
          "data": {
            "text/plain": [
              "-222.34481302666856"
            ]
          },
          "execution_count": 19,
          "metadata": {},
          "output_type": "execute_result"
        }
      ],
      "source": [
        "# Y intercept of line\n",
        "lr.intercept_"
      ]
    },
    {
      "cell_type": "code",
      "execution_count": null,
      "metadata": {
        "id": "500ag5jQlfYU"
      },
      "outputs": [],
      "source": [
        "m = lr.coef_\n",
        "c = lr.intercept_"
      ]
    },
    {
      "cell_type": "code",
      "execution_count": null,
      "metadata": {
        "colab": {
          "base_uri": "https://localhost:8080/"
        },
        "id": "L24Neaqclh94",
        "outputId": "5b3faf45-6954-41d6-cab0-174aa6a8d97d"
      },
      "outputs": [
        {
          "data": {
            "text/plain": [
              "71.6070857988906"
            ]
          },
          "execution_count": 21,
          "metadata": {},
          "output_type": "execute_result"
        }
      ],
      "source": [
        "# take a sample point\n",
        "x = X_test[0][0]\n",
        "x"
      ]
    },
    {
      "cell_type": "code",
      "execution_count": null,
      "metadata": {
        "id": "OJXHJG7ElkX-"
      },
      "outputs": [],
      "source": [
        "# Equation of line Y = M*X + C \n",
        "y = m * x + c"
      ]
    },
    {
      "cell_type": "code",
      "execution_count": null,
      "metadata": {
        "colab": {
          "base_uri": "https://localhost:8080/"
        },
        "id": "CO4PKHZgltR4",
        "outputId": "a58bff21-c6d5-4bb9-ead7-8158a0cba0a9"
      },
      "outputs": [
        {
          "data": {
            "text/plain": [
              "array([202.42772225])"
            ]
          },
          "execution_count": 23,
          "metadata": {},
          "output_type": "execute_result"
        }
      ],
      "source": [
        "y"
      ]
    },
    {
      "cell_type": "code",
      "execution_count": null,
      "metadata": {
        "colab": {
          "base_uri": "https://localhost:8080/"
        },
        "id": "1kNG-DMrlwvX",
        "outputId": "e9566797-fa23-451a-ac51-e4ebef30788b"
      },
      "outputs": [
        {
          "data": {
            "text/plain": [
              "array([202.42772225])"
            ]
          },
          "execution_count": 24,
          "metadata": {},
          "output_type": "execute_result"
        }
      ],
      "source": [
        "lr.predict(x.reshape(-1,1))\n"
      ]
    },
    {
      "cell_type": "markdown",
      "metadata": {
        "id": "qYAL_HlQl7e3"
      },
      "source": [
        "**CUSTOM LINEAR REGRESSION**"
      ]
    },
    {
      "cell_type": "code",
      "execution_count": null,
      "metadata": {
        "id": "BgVgzIdglw_g"
      },
      "outputs": [],
      "source": [
        "class CustomRL():\n",
        "  def __init__(self):\n",
        "    self.m = None\n",
        "    self.c = None\n",
        "\n",
        "  def fit(self, x, y):\n",
        "    p = 0\n",
        "    q = 0\n",
        "    for i in range(x.shape[0]):\n",
        "      p = p + (y[i] - y.mean()) * (x[i] - x.mean())\n",
        "      q = q + (x[i] - x.mean()) ** 2\n",
        "    \n",
        "    self.m = p/q\n",
        "    self.c = y.mean() - self.m * x.mean()\n",
        "  \n",
        "  def predict(self, x_test):\n",
        "    return self.m * x_test + self.c"
      ]
    },
    {
      "cell_type": "code",
      "execution_count": null,
      "metadata": {
        "id": "C93AQVgEndGu"
      },
      "outputs": [],
      "source": [
        "clr = CustomRL()\n",
        "clr.fit(X_train, y_train.values)"
      ]
    },
    {
      "cell_type": "code",
      "execution_count": null,
      "metadata": {
        "colab": {
          "background_save": true,
          "base_uri": "https://localhost:8080/"
        },
        "id": "n6Xd6pYwngyB",
        "outputId": "44912bc9-e5c6-49ec-fc65-c12f4d7ad788"
      },
      "outputs": [
        {
          "data": {
            "text/plain": [
              "114    164.014428\n",
              "187    193.386985\n",
              "76     200.920571\n",
              "122    164.439146\n",
              "142    180.889555\n",
              "          ...    \n",
              "132    185.662741\n",
              "33     205.183621\n",
              "109    174.364182\n",
              "139    183.044660\n",
              "176    177.766426\n",
              "Name: Weight, Length: 140, dtype: float64"
            ]
          },
          "execution_count": null,
          "metadata": {},
          "output_type": "execute_result"
        }
      ],
      "source": [
        "y_train.values"
      ]
    },
    {
      "cell_type": "code",
      "execution_count": null,
      "metadata": {
        "colab": {
          "base_uri": "https://localhost:8080/"
        },
        "id": "F1Anzc2wnnIv",
        "outputId": "20793f8d-d790-4e0a-a8b6-c722fc6eea82"
      },
      "outputs": [
        {
          "data": {
            "text/plain": [
              "array([[202.42772225],\n",
              "       [163.93751992],\n",
              "       [161.84842036],\n",
              "       [178.62966295],\n",
              "       [189.75711108],\n",
              "       [180.52660301],\n",
              "       [199.75220299],\n",
              "       [175.21094339],\n",
              "       [159.10700302],\n",
              "       [182.48066941],\n",
              "       [182.49316698],\n",
              "       [228.15698598],\n",
              "       [186.34977612],\n",
              "       [159.28176073],\n",
              "       [181.88492559],\n",
              "       [189.40368422],\n",
              "       [165.31318567],\n",
              "       [223.77628971],\n",
              "       [181.60129903],\n",
              "       [164.53114187],\n",
              "       [206.63788901],\n",
              "       [215.59105305],\n",
              "       [180.39696616],\n",
              "       [169.55293439],\n",
              "       [183.37603486],\n",
              "       [191.72272546],\n",
              "       [170.67108965],\n",
              "       [190.3864735 ],\n",
              "       [174.10716933],\n",
              "       [179.26089108],\n",
              "       [149.63243912],\n",
              "       [145.06678513],\n",
              "       [200.32720334],\n",
              "       [197.90147501],\n",
              "       [182.87869438],\n",
              "       [207.98137756],\n",
              "       [175.0800427 ],\n",
              "       [175.04481456],\n",
              "       [198.28462606],\n",
              "       [178.52220574],\n",
              "       [183.8890044 ],\n",
              "       [172.67921416],\n",
              "       [168.02354226],\n",
              "       [192.52954079],\n",
              "       [180.87828719],\n",
              "       [232.69717995],\n",
              "       [182.4894624 ],\n",
              "       [168.01721067],\n",
              "       [188.64168375],\n",
              "       [185.30866665],\n",
              "       [185.66877162],\n",
              "       [190.14926888],\n",
              "       [193.20402122],\n",
              "       [170.72558983],\n",
              "       [166.38263697],\n",
              "       [188.02942834],\n",
              "       [162.09929792],\n",
              "       [188.04333922],\n",
              "       [190.23700354],\n",
              "       [207.23993561]])"
            ]
          },
          "execution_count": 28,
          "metadata": {},
          "output_type": "execute_result"
        }
      ],
      "source": [
        "clr.predict(X_test)"
      ]
    },
    {
      "cell_type": "code",
      "execution_count": null,
      "metadata": {
        "id": "jpb9IYgdog8W"
      },
      "outputs": [],
      "source": [
        "y_custom = clr.predict(X_test)"
      ]
    },
    {
      "cell_type": "code",
      "execution_count": null,
      "metadata": {
        "id": "UvhXGBnToprW"
      },
      "outputs": [],
      "source": [
        "y_sklealn = lr.predict(X_test)"
      ]
    },
    {
      "cell_type": "code",
      "execution_count": null,
      "metadata": {
        "colab": {
          "base_uri": "https://localhost:8080/"
        },
        "id": "hVxCqjUIostN",
        "outputId": "de7e6c9a-9a28-452f-acf4-d84f8c4016f4"
      },
      "outputs": [
        {
          "data": {
            "text/plain": [
              "array([202.42772225, 163.93751992, 161.84842036, 178.62966295,\n",
              "       189.75711108, 180.52660301, 199.75220299, 175.21094339,\n",
              "       159.10700302, 182.48066941, 182.49316698, 228.15698598,\n",
              "       186.34977612, 159.28176073, 181.88492559, 189.40368422,\n",
              "       165.31318567, 223.77628971, 181.60129903, 164.53114187,\n",
              "       206.63788901, 215.59105305, 180.39696616, 169.55293439,\n",
              "       183.37603486, 191.72272546, 170.67108965, 190.3864735 ,\n",
              "       174.10716933, 179.26089108, 149.63243912, 145.06678513,\n",
              "       200.32720334, 197.90147501, 182.87869438, 207.98137756,\n",
              "       175.0800427 , 175.04481456, 198.28462606, 178.52220574,\n",
              "       183.8890044 , 172.67921416, 168.02354226, 192.52954079,\n",
              "       180.87828719, 232.69717995, 182.4894624 , 168.01721067,\n",
              "       188.64168375, 185.30866665, 185.66877162, 190.14926888,\n",
              "       193.20402122, 170.72558983, 166.38263697, 188.02942834,\n",
              "       162.09929792, 188.04333922, 190.23700354, 207.23993561])"
            ]
          },
          "execution_count": 31,
          "metadata": {},
          "output_type": "execute_result"
        }
      ],
      "source": [
        "y_sklealn "
      ]
    },
    {
      "cell_type": "code",
      "execution_count": null,
      "metadata": {
        "colab": {
          "base_uri": "https://localhost:8080/"
        },
        "id": "AEKOn8T5ouKf",
        "outputId": "f4066c2b-536c-4e78-8aaa-a62a07907ade"
      },
      "outputs": [
        {
          "data": {
            "text/plain": [
              "array([[202.42772225],\n",
              "       [163.93751992],\n",
              "       [161.84842036],\n",
              "       [178.62966295],\n",
              "       [189.75711108],\n",
              "       [180.52660301],\n",
              "       [199.75220299],\n",
              "       [175.21094339],\n",
              "       [159.10700302],\n",
              "       [182.48066941],\n",
              "       [182.49316698],\n",
              "       [228.15698598],\n",
              "       [186.34977612],\n",
              "       [159.28176073],\n",
              "       [181.88492559],\n",
              "       [189.40368422],\n",
              "       [165.31318567],\n",
              "       [223.77628971],\n",
              "       [181.60129903],\n",
              "       [164.53114187],\n",
              "       [206.63788901],\n",
              "       [215.59105305],\n",
              "       [180.39696616],\n",
              "       [169.55293439],\n",
              "       [183.37603486],\n",
              "       [191.72272546],\n",
              "       [170.67108965],\n",
              "       [190.3864735 ],\n",
              "       [174.10716933],\n",
              "       [179.26089108],\n",
              "       [149.63243912],\n",
              "       [145.06678513],\n",
              "       [200.32720334],\n",
              "       [197.90147501],\n",
              "       [182.87869438],\n",
              "       [207.98137756],\n",
              "       [175.0800427 ],\n",
              "       [175.04481456],\n",
              "       [198.28462606],\n",
              "       [178.52220574],\n",
              "       [183.8890044 ],\n",
              "       [172.67921416],\n",
              "       [168.02354226],\n",
              "       [192.52954079],\n",
              "       [180.87828719],\n",
              "       [232.69717995],\n",
              "       [182.4894624 ],\n",
              "       [168.01721067],\n",
              "       [188.64168375],\n",
              "       [185.30866665],\n",
              "       [185.66877162],\n",
              "       [190.14926888],\n",
              "       [193.20402122],\n",
              "       [170.72558983],\n",
              "       [166.38263697],\n",
              "       [188.02942834],\n",
              "       [162.09929792],\n",
              "       [188.04333922],\n",
              "       [190.23700354],\n",
              "       [207.23993561]])"
            ]
          },
          "execution_count": 32,
          "metadata": {},
          "output_type": "execute_result"
        }
      ],
      "source": [
        "y_custom "
      ]
    },
    {
      "cell_type": "code",
      "execution_count": null,
      "metadata": {
        "colab": {
          "base_uri": "https://localhost:8080/"
        },
        "id": "XKN8s3m8o3AU",
        "outputId": "abb9682b-36da-46f0-d94b-634fcaccad2f"
      },
      "outputs": [
        {
          "name": "stdout",
          "output_type": "stream",
          "text": [
            "Slope [5.93199026]\n",
            "Intercept -222.34481302666856\n"
          ]
        }
      ],
      "source": [
        "# Slope and Intercept for sklean linear regression\n",
        "print(\"Slope\", lr.coef_)\n",
        "print(\"Intercept\", lr.intercept_)\n"
      ]
    },
    {
      "cell_type": "code",
      "execution_count": null,
      "metadata": {
        "colab": {
          "base_uri": "https://localhost:8080/"
        },
        "id": "joo3tLYkpRRR",
        "outputId": "ba4c2614-d91a-4141-b83e-02a5706bf260"
      },
      "outputs": [
        {
          "name": "stdout",
          "output_type": "stream",
          "text": [
            "Slope [5.93199026]\n",
            "Intercept [-222.34481303]\n"
          ]
        }
      ],
      "source": [
        "# Slope and Intercept for our custom function\n",
        "print(\"Slope\", clr.m)\n",
        "print(\"Intercept\", clr.c)"
      ]
    },
    {
      "cell_type": "code",
      "execution_count": null,
      "metadata": {
        "id": "hb-XrjSnpaCb"
      },
      "outputs": [],
      "source": [
        "X_train"
      ]
    },
    {
      "cell_type": "code",
      "execution_count": null,
      "metadata": {
        "colab": {
          "base_uri": "https://localhost:8080/"
        },
        "id": "b6JFfZ_m973R",
        "outputId": "1fbffd8b-f787-46c1-ab64-85be121f738d"
      },
      "outputs": [
        {
          "data": {
            "text/plain": [
              "114    164.014428\n",
              "187    193.386985\n",
              "76     200.920571\n",
              "122    164.439146\n",
              "142    180.889555\n",
              "          ...    \n",
              "132    185.662741\n",
              "33     205.183621\n",
              "109    174.364182\n",
              "139    183.044660\n",
              "176    177.766426\n",
              "Name: Weight, Length: 140, dtype: float64"
            ]
          },
          "execution_count": 36,
          "metadata": {},
          "output_type": "execute_result"
        }
      ],
      "source": [
        "y_train"
      ]
    },
    {
      "cell_type": "code",
      "execution_count": null,
      "metadata": {
        "id": "hONKKIs1-KqB"
      },
      "outputs": [],
      "source": [
        "import numpy as np\n",
        "from sklearn.preprocessing import MinMaxScaler\n",
        "mms = MinMaxScaler()\n",
        "X_train = mms.fit_transform(X_train)#why we are normalising x_trin and not x,y also all other features have still same value"
      ]
    },
    {
      "cell_type": "code",
      "execution_count": null,
      "metadata": {
        "id": "GILbw0AN-ik-"
      },
      "outputs": [],
      "source": [
        "X_train"
      ]
    },
    {
      "cell_type": "code",
      "execution_count": null,
      "metadata": {
        "id": "sWagcteu-l3h"
      },
      "outputs": [],
      "source": [
        "class MyLinearRegression():\n",
        "  def __init__(self, learning_rate, interation):\n",
        "    self.learning_rate = learning_rate\n",
        "    self.interation = interation\n",
        "  \n",
        "  def fit(self, X, Y):\n",
        "    row, col = X.shape\n",
        "    self.W = np.random.rand(col)\n",
        "    self.c = np.random.randint(0, 10)\n",
        "\n",
        "    for i in range(self.interation):\n",
        "      y_pred = self.predict(X)\n",
        "\n",
        "      dW = -2 * (X.T).dot(Y - y_pred) / row   #here dw is of n*1 matrix?\n",
        "      dc = -2 * (Y - y_pred).sum() / row\n",
        "\n",
        "      self.W = self.W - self.learning_rate * dW  # here w have diff dim and dw have diff how can they add\n",
        "      self.c = self.c - self.learning_rate * dc\n",
        "\n",
        "      plt.scatter(X, Y)\n",
        "      plt.plot(X, y_pred, color = \"r\")\n",
        "      plt.title(\"Interation: \" + str(i))\n",
        "      plt.show()\n",
        "\n",
        "  def predict(self, X):\n",
        "    return X.dot(self.W) + self.c   #how will this run for ix x have 3*2 dim and y have 3*1 dim\n"
      ]
    },
    {
      "cell_type": "code",
      "execution_count": null,
      "metadata": {
        "colab": {
          "base_uri": "https://localhost:8080/"
        },
        "id": "hBv13J89G9M1",
        "outputId": "0a767807-5b95-4c37-b740-9d259e028151"
      },
      "outputs": [
        {
          "data": {
            "text/plain": [
              "array([0.4565419 , 0.84047905])"
            ]
          },
          "execution_count": 40,
          "metadata": {},
          "output_type": "execute_result"
        }
      ],
      "source": [
        "v=np.random.rand(2)\n",
        "v"
      ]
    },
    {
      "cell_type": "code",
      "execution_count": null,
      "metadata": {
        "colab": {
          "base_uri": "https://localhost:8080/"
        },
        "id": "6j4wqvykrC7H",
        "outputId": "db0662e1-bce2-4d93-cd0f-31f1bea8339c"
      },
      "outputs": [
        {
          "data": {
            "text/plain": [
              "(2,)"
            ]
          },
          "execution_count": 41,
          "metadata": {},
          "output_type": "execute_result"
        }
      ],
      "source": [
        "v.shape"
      ]
    },
    {
      "cell_type": "code",
      "execution_count": null,
      "metadata": {
        "id": "Swhy-SxcrifB"
      },
      "outputs": [],
      "source": []
    },
    {
      "cell_type": "code",
      "execution_count": null,
      "metadata": {
        "colab": {
          "base_uri": "https://localhost:8080/"
        },
        "id": "DQSzGMZwDyUh",
        "outputId": "849f739b-8280-4b8d-f25b-957c8bd02ac9"
      },
      "outputs": [
        {
          "data": {
            "text/plain": [
              "array([[0.15703908, 0.69278664],\n",
              "       [0.95820065, 0.81069486],\n",
              "       [0.19068669, 0.22121563]])"
            ]
          },
          "execution_count": 42,
          "metadata": {},
          "output_type": "execute_result"
        }
      ],
      "source": [
        "u=np.random.rand(6).reshape(3,2)\n",
        "u"
      ]
    },
    {
      "cell_type": "code",
      "execution_count": null,
      "metadata": {
        "id": "rvO_OjQ5HH53"
      },
      "outputs": [],
      "source": [
        "#l=u*v\n",
        "l=u.dot(v)#the dot product is not happening but in code it is running ..why??"
      ]
    },
    {
      "cell_type": "code",
      "execution_count": null,
      "metadata": {
        "colab": {
          "base_uri": "https://localhost:8080/"
        },
        "id": "8LlglP3MDcEO",
        "outputId": "f6cfc9e1-a69e-4dad-ec9f-27fd197fc1d1"
      },
      "outputs": [
        {
          "data": {
            "text/plain": [
              "(60,)"
            ]
          },
          "execution_count": 44,
          "metadata": {},
          "output_type": "execute_result"
        }
      ],
      "source": [
        "y_pred.shape"
      ]
    },
    {
      "cell_type": "code",
      "execution_count": null,
      "metadata": {
        "colab": {
          "base_uri": "https://localhost:8080/"
        },
        "id": "N7DnaMBk6FRm",
        "outputId": "8b29eea0-a354-4683-c230-0bcb337d3ca4"
      },
      "outputs": [
        {
          "data": {
            "text/plain": [
              "array([0.42887089, 0.95393361, 0.18441205])"
            ]
          },
          "execution_count": 45,
          "metadata": {},
          "output_type": "execute_result"
        }
      ],
      "source": [
        "np.random.rand(3)"
      ]
    },
    {
      "cell_type": "code",
      "execution_count": null,
      "metadata": {
        "id": "z5ORvZNK-uFz"
      },
      "outputs": [],
      "source": [
        "mlr = MyLinearRegression(0.01, 200)\n",
        "mlr.fit(X_train, y_train)# why we are not send xtest for prediction "
      ]
    },
    {
      "cell_type": "code",
      "execution_count": null,
      "metadata": {
        "colab": {
          "base_uri": "https://localhost:8080/"
        },
        "id": "mIc-uxHy_goh",
        "outputId": "9b14a2ed-3c6f-45f1-9703-ee5e27d203c9"
      },
      "outputs": [
        {
          "data": {
            "text/plain": [
              "array([75.05640098])"
            ]
          },
          "execution_count": 47,
          "metadata": {},
          "output_type": "execute_result"
        }
      ],
      "source": [
        "mlr.W"
      ]
    },
    {
      "cell_type": "code",
      "execution_count": null,
      "metadata": {
        "id": "_Qd5-sY-EzKs"
      },
      "outputs": [],
      "source": [
        "import numpy as np\n",
        "from sklearn.preprocessing import MinMaxScaler\n",
        "mms = MinMaxScaler()\n",
        "X_test = mms.fit_transform(X_test)"
      ]
    },
    {
      "cell_type": "code",
      "execution_count": null,
      "metadata": {
        "colab": {
          "base_uri": "https://localhost:8080/"
        },
        "id": "loYn_S9sADqk",
        "outputId": "8acd93b2-4509-412c-b0f2-e0f19cc193eb"
      },
      "outputs": [
        {
          "data": {
            "text/plain": [
              "array([195.76342753, 162.79614414, 161.0068073 , 175.38012691,\n",
              "       184.91090913, 177.00487703, 193.47181574, 172.45195585,\n",
              "       158.65875307, 178.67855647, 178.68926078, 217.80082608,\n",
              "       181.9924891 , 158.80843497, 178.16829532, 184.60819512,\n",
              "       163.97441705, 214.04871134, 177.92536603, 163.30458789,\n",
              "       199.36948186, 207.03796574, 176.89384163, 167.60580865,\n",
              "       179.44544687, 186.59447955, 168.56352098, 185.44996499,\n",
              "       171.50656117, 175.92078078, 150.54368444, 146.63315138,\n",
              "       193.96430989, 191.88664678, 179.01946926, 200.52019464,\n",
              "       172.33983796, 172.30966468, 192.21481989, 175.28808863,\n",
              "       179.88481095, 170.2835018 , 166.29586741, 187.28552579,\n",
              "       177.3060984 , 221.68955236, 178.68608777, 166.29044433,\n",
              "       183.9555333 , 181.10076734, 181.40920123, 185.24679662,\n",
              "       187.86322573, 168.61020099, 164.8904139 , 183.43112978,\n",
              "       161.22168669, 183.4430446 , 185.32194232, 199.88514143])"
            ]
          },
          "execution_count": 49,
          "metadata": {},
          "output_type": "execute_result"
        }
      ],
      "source": [
        "mlr.predict(X_test)"
      ]
    },
    {
      "cell_type": "code",
      "execution_count": null,
      "metadata": {
        "id": "J1Feu7tPAaEI"
      },
      "outputs": [],
      "source": [
        "y_test#this is very wrong prediction why??"
      ]
    },
    {
      "cell_type": "code",
      "execution_count": null,
      "metadata": {
        "colab": {
          "base_uri": "https://localhost:8080/"
        },
        "id": "Fo-Q76g7VnVt",
        "outputId": "68f56e3b-1340-458b-ff46-f559752eee27"
      },
      "outputs": [
        {
          "data": {
            "text/plain": [
              "array([-10.        ,  -8.68421053,  -7.36842105,  -6.05263158,\n",
              "        -4.73684211,  -3.42105263,  -2.10526316,  -0.78947368,\n",
              "         0.52631579,   1.84210526,   3.15789474,   4.47368421,\n",
              "         5.78947368,   7.10526316,   8.42105263,   9.73684211,\n",
              "        11.05263158,  12.36842105,  13.68421053,  15.        ])"
            ]
          },
          "execution_count": 51,
          "metadata": {},
          "output_type": "execute_result"
        }
      ],
      "source": [
        "x1 = np.linspace(-10, 15, 20)\n",
        "x1"
      ]
    },
    {
      "cell_type": "code",
      "execution_count": null,
      "metadata": {
        "colab": {
          "base_uri": "https://localhost:8080/"
        },
        "id": "aKTQB1vCV57f",
        "outputId": "ec5dcc3e-3ffc-4bc3-e15d-23f381b80137"
      },
      "outputs": [
        {
          "data": {
            "text/plain": [
              "(20,)"
            ]
          },
          "execution_count": 52,
          "metadata": {},
          "output_type": "execute_result"
        }
      ],
      "source": [
        "x1.shape"
      ]
    },
    {
      "cell_type": "code",
      "execution_count": null,
      "metadata": {
        "id": "Va0UMRHlCks-"
      },
      "outputs": [],
      "source": [
        "X = np.linspace(-10, 15, 200)\n",
        "# y = 2x^2 + 3x + 4\n",
        "Y = 2 * X**2 + 3*X + 4 + np.random.randn(200) * 50"
      ]
    },
    {
      "cell_type": "code",
      "execution_count": null,
      "metadata": {
        "colab": {
          "base_uri": "https://localhost:8080/",
          "height": 282
        },
        "id": "qNlowZS0Ul_G",
        "outputId": "ae1f5045-f568-4997-8d95-e08f037a6057"
      },
      "outputs": [
        {
          "data": {
            "text/plain": [
              "<matplotlib.collections.PathCollection at 0x7f36ec485290>"
            ]
          },
          "execution_count": 54,
          "metadata": {},
          "output_type": "execute_result"
        },
        {
          "data": {
            "image/png": "[encoded data removed]",
            "text/plain": [
              "<Figure size 432x288 with 1 Axes>"
            ]
          },
          "metadata": {},
          "output_type": "display_data"
        }
      ],
      "source": [
        "import matplotlib.pyplot as plt\n",
        "\n",
        "plt.scatter(X, Y)"
      ]
    },
    {
      "cell_type": "code",
      "execution_count": null,
      "metadata": {
        "colab": {
          "base_uri": "https://localhost:8080/",
          "height": 265
        },
        "id": "DxiM_TnOUoi8",
        "outputId": "c564c187-b7c7-47fd-c15c-26aa19a81dfc"
      },
      "outputs": [
        {
          "data": {
            "image/png": "[encoded data removed]",
            "text/plain": [
              "<Figure size 432x288 with 1 Axes>"
            ]
          },
          "metadata": {},
          "output_type": "display_data"
        }
      ],
      "source": [
        "\n",
        "X = X.reshape(-1, 1)\n",
        "lr = LinearRegression()\n",
        "lr.fit(X, Y)\n",
        "y_pred = lr.predict(X)\n",
        "\n",
        "plt.scatter(X, Y)\n",
        "plt.scatter(X, y_pred)\n",
        "plt.show()"
      ]
    },
    {
      "cell_type": "code",
      "execution_count": null,
      "metadata": {
        "colab": {
          "base_uri": "https://localhost:8080/"
        },
        "id": "XOJzwyGzUtIO",
        "outputId": "bb3535e1-3b67-4bc6-dedb-9d7fea27a0b3"
      },
      "outputs": [
        {
          "data": {
            "text/plain": [
              "(200,)"
            ]
          },
          "execution_count": 56,
          "metadata": {},
          "output_type": "execute_result"
        }
      ],
      "source": [
        "x = X.reshape(-1)\n",
        "x.shape"
      ]
    },
    {
      "cell_type": "code",
      "execution_count": null,
      "metadata": {
        "id": "qEgh7GUEVRcY"
      },
      "outputs": [],
      "source": [
        "x"
      ]
    },
    {
      "cell_type": "code",
      "execution_count": null,
      "metadata": {
        "colab": {
          "base_uri": "https://localhost:8080/"
        },
        "id": "E18IXrW_VAf_",
        "outputId": "0667746c-2f2d-4f29-a30b-c92631752849"
      },
      "outputs": [
        {
          "data": {
            "text/plain": [
              "(200, 2)"
            ]
          },
          "execution_count": 58,
          "metadata": {},
          "output_type": "execute_result"
        }
      ],
      "source": [
        "x = X.reshape(-1)\n",
        "x = np.dstack([x, x**2])[0]\n",
        "x.shape"
      ]
    },
    {
      "cell_type": "code",
      "execution_count": null,
      "metadata": {
        "id": "wDQrhJTqVERQ"
      },
      "outputs": [],
      "source": [
        "x# see in this case x and x*2 are of same values but this should be square of each other"
      ]
    },
    {
      "cell_type": "code",
      "execution_count": null,
      "metadata": {
        "colab": {
          "base_uri": "https://localhost:8080/",
          "height": 265
        },
        "id": "giUEPh63VFRv",
        "outputId": "f8effbff-be77-47b0-d2d8-a81419908110"
      },
      "outputs": [
        {
          "data": {
            "image/png": "[encoded data removed]",
            "text/plain": [
              "<Figure size 432x288 with 1 Axes>"
            ]
          },
          "metadata": {},
          "output_type": "display_data"
        }
      ],
      "source": [
        "lr.fit(x, Y)\n",
        "y_pred = lr.predict(x)\n",
        "\n",
        "plt.scatter(X, Y)\n",
        "plt.scatter(X, y_pred)\n",
        "plt.show()"
      ]
    },
    {
      "cell_type": "code",
      "execution_count": null,
      "metadata": {
        "colab": {
          "base_uri": "https://localhost:8080/"
        },
        "id": "_y6VdHTdpEuV",
        "outputId": "774984f6-6acc-45f5-ef1a-cd5228e6d416"
      },
      "outputs": [
        {
          "data": {
            "text/plain": [
              "(200, 3)"
            ]
          },
          "execution_count": 62,
          "metadata": {},
          "output_type": "execute_result"
        }
      ],
      "source": [
        "from sklearn.preprocessing import PolynomialFeatures\n",
        "po = PolynomialFeatures(degree = 2)\n",
        "x = po.fit_transform(X)\n",
        "x.shape"
      ]
    },
    {
      "cell_type": "code",
      "execution_count": null,
      "metadata": {
        "colab": {
          "base_uri": "https://localhost:8080/",
          "height": 265
        },
        "id": "kfWKVPokpXFj",
        "outputId": "768aaf0d-96c9-4455-bb58-eecea47d58a2"
      },
      "outputs": [
        {
          "data": {
            "image/png": "[encoded data removed]",
            "text/plain": [
              "<Figure size 432x288 with 1 Axes>"
            ]
          },
          "metadata": {},
          "output_type": "display_data"
        }
      ],
      "source": [
        "lr.fit(x, Y)\n",
        "y_pred = lr.predict(x)\n",
        "\n",
        "plt.scatter(X, Y)\n",
        "plt.scatter(X, y_pred)\n",
        "plt.show()"
      ]
    },
    {
      "cell_type": "code",
      "execution_count": null,
      "metadata": {
        "colab": {
          "base_uri": "https://localhost:8080/",
          "height": 265
        },
        "id": "3S35SKWJpkEe",
        "outputId": "a40c9265-e273-48c2-aaeb-829ec4ac2b57"
      },
      "outputs": [
        {
          "data": {
            "image/png": "[encoded data removed]",
            "text/plain": [
              "<Figure size 432x288 with 1 Axes>"
            ]
          },
          "metadata": {},
          "output_type": "display_data"
        }
      ],
      "source": [
        "from sklearn.preprocessing import PolynomialFeatures\n",
        "po = PolynomialFeatures(degree = 50)\n",
        "x = po.fit_transform(X)\n",
        "\n",
        "\n",
        "lr.fit(x, Y)\n",
        "y_pred = lr.predict(x)\n",
        "\n",
        "plt.scatter(X, Y)\n",
        "plt.scatter(X, y_pred)\n",
        "plt.show()"
      ]
    },
    {
      "cell_type": "code",
      "execution_count": null,
      "metadata": {
        "colab": {
          "base_uri": "https://localhost:8080/"
        },
        "id": "vpOoDO-Zp4up",
        "outputId": "d993ec63-28ec-4c74-f6b4-834b62867467"
      },
      "outputs": [
        {
          "data": {
            "text/plain": [
              "array([ 3.72653840e-45,  6.56220035e-45, -2.99000241e-48, -6.67337489e-51,\n",
              "        6.31624216e-54,  7.37629558e-56, -1.52463874e-58, -9.55855147e-58,\n",
              "        4.26966753e-78,  5.73657956e-77,  7.05761875e-76,  8.18029483e-75,\n",
              "        9.92486216e-74,  1.15198784e-72,  1.38061961e-71,  1.60068207e-70,\n",
              "        1.89663941e-69,  2.19087832e-68,  2.56684692e-67,  2.94684672e-66,\n",
              "        3.41181264e-65,  3.88304167e-64,  4.43712001e-63,  4.99271754e-62,\n",
              "        5.61984179e-61,  6.23240416e-60,  6.89146816e-59,  7.50411033e-58,\n",
              "        8.12073929e-57,  8.64076224e-56,  9.10441492e-55,  9.40580770e-54,\n",
              "        9.57995152e-53,  9.52369705e-52,  9.27852421e-51,  8.75932406e-50,\n",
              "        8.03259260e-49,  7.05141366e-48,  5.92650578e-47,  4.66293474e-46,\n",
              "        3.41842333e-45,  2.23483093e-44,  1.27774630e-43,  5.59840021e-43,\n",
              "        1.67473452e-42, -4.52342937e-43,  2.91386159e-44,  2.03339402e-45,\n",
              "       -3.55485516e-46,  1.68447823e-47, -2.75791132e-49])"
            ]
          },
          "execution_count": 66,
          "metadata": {},
          "output_type": "execute_result"
        }
      ],
      "source": [
        "lr.coef_"
      ]
    },
    {
      "cell_type": "code",
      "execution_count": null,
      "metadata": {
        "id": "hDQb-0LyqFKB"
      },
      "outputs": [],
      "source": []
    }
  ],
  "metadata": {
    "colab": {
      "collapsed_sections": [],
      "provenance": [],
      "authorship_tag": "ABX9TyNaN4Du21MCnHQ+7QxzdbA/",
      "include_colab_link": true
    },
    "kernelspec": {
      "display_name": "Python 3",
      "name": "python3"
    },
    "language_info": {
      "name": "python"
    }
  },
  "nbformat": 4,
  "nbformat_minor": 0
}