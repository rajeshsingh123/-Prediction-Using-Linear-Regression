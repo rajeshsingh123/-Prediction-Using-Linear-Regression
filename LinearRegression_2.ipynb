{
  "nbformat": 4,
  "nbformat_minor": 0,
  "metadata": {
    "colab": {
      "provenance": [],
      "collapsed_sections": [],
      "include_colab_link": true
    },
    "kernelspec": {
      "name": "python3",
      "display_name": "Python 3"
    },
    "language_info": {
      "name": "python"
    }
  },
  "cells": [
    {
      "cell_type": "markdown",
      "metadata": {
        "id": "view-in-github",
        "colab_type": "text"
      },
      "source": [
        "<a href=\"https://colab.research.google.com/github/rajeshsingh123/-Prediction-Using-Linear-Regression/blob/main/LinearRegression_2.ipynb\" target=\"_parent\"><img src=\"https://colab.research.google.com/assets/colab-badge.svg\" alt=\"Open In Colab\"/></a>"
      ]
    },
    {
      "cell_type": "code",
      "source": [
        "import numpy as np\n",
        "import matplotlib.pyplot as plt\n",
        "import pandas as pd"
      ],
      "metadata": {
        "id": "6WNpN-FowLxT"
      },
      "execution_count": null,
      "outputs": []
    },
    {
      "cell_type": "markdown",
      "source": [
        "Feature Engineering "
      ],
      "metadata": {
        "id": "DbqTYrO2gqjt"
      }
    },
    {
      "cell_type": "markdown",
      "source": [
        "Feature Engineering is generally required when we do not have a correlation between the given features and the required label, in such a situation, one might want to merge a few features and create a feature having a better correlation. \n",
        "\n",
        "Taking a very basic example, if i have a some values of x, say -5,-4,-3,-2,... upto +5, and i have Y with values 25,16,9,4,... upto 25, now it is clear that y is the square of x. If i want to apply linear regression, obviously it will be very difficult if not impossible. Since it is a second degree curve.\n",
        "\n",
        "Another approach could be to use feature engineering, in this case if I , multiply x and x, it will become equal to y, which is having a direct correlaton with y. \n",
        "\n",
        "This might seem very confusing, so let me give a real life example, if i need to predict the price of a house, the number of rooms will not matter if i dont know the number of people who are going to live there. \n",
        "\n",
        "So, if i calculate rooms per person, that will have a better correlation, with the price of the house. \n",
        "\n",
        "Similarly, we have to manipulate the data, so as to make a better correlation."
      ],
      "metadata": {
        "id": "eYnF3YK19yQd"
      }
    },
    {
      "cell_type": "code",
      "source": [
        "data1 = {'X':[-5,-4,-3,-2,-1,0,1,2,3,4,5],\n",
        " 'Y':[49.5, 34.2, 22.3, 13.8,  8.7,  7. ,  8.7, 13.8, 22.3, 34.2, 49.5]}"
      ],
      "metadata": {
        "id": "6vp94vESg_XX"
      },
      "execution_count": null,
      "outputs": []
    },
    {
      "cell_type": "code",
      "source": [
        "df1 = pd.DataFrame(data1)"
      ],
      "metadata": {
        "id": "DA06775AhY_6"
      },
      "execution_count": null,
      "outputs": []
    },
    {
      "cell_type": "markdown",
      "source": [
        "We prepare a dataset of our own.\n",
        "\n",
        "View the head to gain some insight."
      ],
      "metadata": {
        "id": "5D328WRbERUU"
      }
    },
    {
      "cell_type": "code",
      "source": [
        "df1.head()"
      ],
      "metadata": {
        "id": "pPJXNbRpNkNg",
        "colab": {
          "base_uri": "https://localhost:8080/",
          "height": 206
        },
        "outputId": "407bcd69-f6b3-4e31-fdfe-556c60c4aa19"
      },
      "execution_count": null,
      "outputs": [
        {
          "output_type": "execute_result",
          "data": {
            "text/plain": [
              "   X     Y\n",
              "0 -5  49.5\n",
              "1 -4  34.2\n",
              "2 -3  22.3\n",
              "3 -2  13.8\n",
              "4 -1   8.7"
            ],
            "text/html": [
              "\n",
              "  <div id=\"df-83315a9b-a610-4797-a255-2fc7b619af37\">\n",
              "    <div class=\"colab-df-container\">\n",
              "      <div>\n",
              "<style scoped>\n",
              "    .dataframe tbody tr th:only-of-type {\n",
              "        vertical-align: middle;\n",
              "    }\n",
              "\n",
              "    .dataframe tbody tr th {\n",
              "        vertical-align: top;\n",
              "    }\n",
              "\n",
              "    .dataframe thead th {\n",
              "        text-align: right;\n",
              "    }\n",
              "</style>\n",
              "<table border=\"1\" class=\"dataframe\">\n",
              "  <thead>\n",
              "    <tr style=\"text-align: right;\">\n",
              "      <th></th>\n",
              "      <th>X</th>\n",
              "      <th>Y</th>\n",
              "    </tr>\n",
              "  </thead>\n",
              "  <tbody>\n",
              "    <tr>\n",
              "      <th>0</th>\n",
              "      <td>-5</td>\n",
              "      <td>49.5</td>\n",
              "    </tr>\n",
              "    <tr>\n",
              "      <th>1</th>\n",
              "      <td>-4</td>\n",
              "      <td>34.2</td>\n",
              "    </tr>\n",
              "    <tr>\n",
              "      <th>2</th>\n",
              "      <td>-3</td>\n",
              "      <td>22.3</td>\n",
              "    </tr>\n",
              "    <tr>\n",
              "      <th>3</th>\n",
              "      <td>-2</td>\n",
              "      <td>13.8</td>\n",
              "    </tr>\n",
              "    <tr>\n",
              "      <th>4</th>\n",
              "      <td>-1</td>\n",
              "      <td>8.7</td>\n",
              "    </tr>\n",
              "  </tbody>\n",
              "</table>\n",
              "</div>\n",
              "      <button class=\"colab-df-convert\" onclick=\"convertToInteractive('df-83315a9b-a610-4797-a255-2fc7b619af37')\"\n",
              "              title=\"Convert this dataframe to an interactive table.\"\n",
              "              style=\"display:none;\">\n",
              "        \n",
              "  <svg xmlns=\"http://www.w3.org/2000/svg\" height=\"24px\"viewBox=\"0 0 24 24\"\n",
              "       width=\"24px\">\n",
              "    <path d=\"M0 0h24v24H0V0z\" fill=\"none\"/>\n",
              "    <path d=\"M18.56 5.44l.94 2.06.94-2.06 2.06-.94-2.06-.94-.94-2.06-.94 2.06-2.06.94zm-11 1L8.5 8.5l.94-2.06 2.06-.94-2.06-.94L8.5 2.5l-.94 2.06-2.06.94zm10 10l.94 2.06.94-2.06 2.06-.94-2.06-.94-.94-2.06-.94 2.06-2.06.94z\"/><path d=\"M17.41 7.96l-1.37-1.37c-.4-.4-.92-.59-1.43-.59-.52 0-1.04.2-1.43.59L10.3 9.45l-7.72 7.72c-.78.78-.78 2.05 0 2.83L4 21.41c.39.39.9.59 1.41.59.51 0 1.02-.2 1.41-.59l7.78-7.78 2.81-2.81c.8-.78.8-2.07 0-2.86zM5.41 20L4 18.59l7.72-7.72 1.47 1.35L5.41 20z\"/>\n",
              "  </svg>\n",
              "      </button>\n",
              "      \n",
              "  <style>\n",
              "    .colab-df-container {\n",
              "      display:flex;\n",
              "      flex-wrap:wrap;\n",
              "      gap: 12px;\n",
              "    }\n",
              "\n",
              "    .colab-df-convert {\n",
              "      background-color: #E8F0FE;\n",
              "      border: none;\n",
              "      border-radius: 50%;\n",
              "      cursor: pointer;\n",
              "      display: none;\n",
              "      fill: #1967D2;\n",
              "      height: 32px;\n",
              "      padding: 0 0 0 0;\n",
              "      width: 32px;\n",
              "    }\n",
              "\n",
              "    .colab-df-convert:hover {\n",
              "      background-color: #E2EBFA;\n",
              "      box-shadow: 0px 1px 2px rgba(60, 64, 67, 0.3), 0px 1px 3px 1px rgba(60, 64, 67, 0.15);\n",
              "      fill: #174EA6;\n",
              "    }\n",
              "\n",
              "    [theme=dark] .colab-df-convert {\n",
              "      background-color: #3B4455;\n",
              "      fill: #D2E3FC;\n",
              "    }\n",
              "\n",
              "    [theme=dark] .colab-df-convert:hover {\n",
              "      background-color: #434B5C;\n",
              "      box-shadow: 0px 1px 3px 1px rgba(0, 0, 0, 0.15);\n",
              "      filter: drop-shadow(0px 1px 2px rgba(0, 0, 0, 0.3));\n",
              "      fill: #FFFFFF;\n",
              "    }\n",
              "  </style>\n",
              "\n",
              "      <script>\n",
              "        const buttonEl =\n",
              "          document.querySelector('#df-83315a9b-a610-4797-a255-2fc7b619af37 button.colab-df-convert');\n",
              "        buttonEl.style.display =\n",
              "          google.colab.kernel.accessAllowed ? 'block' : 'none';\n",
              "\n",
              "        async function convertToInteractive(key) {\n",
              "          const element = document.querySelector('#df-83315a9b-a610-4797-a255-2fc7b619af37');\n",
              "          const dataTable =\n",
              "            await google.colab.kernel.invokeFunction('convertToInteractive',\n",
              "                                                     [key], {});\n",
              "          if (!dataTable) return;\n",
              "\n",
              "          const docLinkHtml = 'Like what you see? Visit the ' +\n",
              "            '<a target=\"_blank\" href=https://colab.research.google.com/notebooks/data_table.ipynb>data table notebook</a>'\n",
              "            + ' to learn more about interactive tables.';\n",
              "          element.innerHTML = '';\n",
              "          dataTable['output_type'] = 'display_data';\n",
              "          await google.colab.output.renderOutput(dataTable, element);\n",
              "          const docLink = document.createElement('div');\n",
              "          docLink.innerHTML = docLinkHtml;\n",
              "          element.appendChild(docLink);\n",
              "        }\n",
              "      </script>\n",
              "    </div>\n",
              "  </div>\n",
              "  "
            ]
          },
          "metadata": {},
          "execution_count": 5
        }
      ]
    },
    {
      "cell_type": "markdown",
      "source": [
        "Did not worked, scatter plot x with y axis."
      ],
      "metadata": {
        "id": "VQAw-ReLxRk2"
      }
    },
    {
      "cell_type": "code",
      "source": [
        "plt.scatter(df1[\"X\"],df1[\"Y\"])"
      ],
      "metadata": {
        "id": "xt4qsCF6Nl1b",
        "colab": {
          "base_uri": "https://localhost:8080/",
          "height": 282
        },
        "outputId": "beb729cc-a844-44f6-b741-80d86871dbfc"
      },
      "execution_count": null,
      "outputs": [
        {
          "output_type": "execute_result",
          "data": {
            "text/plain": [
              "<matplotlib.collections.PathCollection at 0x7f292bb22110>"
            ]
          },
          "metadata": {},
          "execution_count": 13
        },
        {
          "output_type": "display_data",
          "data": {
            "text/plain": [
              "<Figure size 432x288 with 1 Axes>"
            ],
            "image/png": "[encoded data removed]"
          },
          "metadata": {
            "needs_background": "light"
          }
        }
      ]
    },
    {
      "cell_type": "markdown",
      "source": [
        "Now u got it we need to add another feature to make LinearRegression recognize this pattern figure out the patterns by looking at the plot and add them."
      ],
      "metadata": {
        "id": "bhXQ8bkoxiyK"
      }
    },
    {
      "cell_type": "code",
      "source": [
        "df1['NewFeature'] = df1[\"X\"]*df1[\"X\"]"
      ],
      "metadata": {
        "id": "_9cqoPawNoZ4"
      },
      "execution_count": null,
      "outputs": []
    },
    {
      "cell_type": "markdown",
      "source": [
        "**Split X and Y**"
      ],
      "metadata": {
        "id": "ISVJmGv-N2n6"
      }
    },
    {
      "cell_type": "code",
      "source": [
        "df1"
      ],
      "metadata": {
        "colab": {
          "base_uri": "https://localhost:8080/",
          "height": 394
        },
        "id": "2Imv65TT4OZQ",
        "outputId": "b81ec78b-0561-411c-caeb-2d104fe61854"
      },
      "execution_count": null,
      "outputs": [
        {
          "output_type": "execute_result",
          "data": {
            "text/plain": [
              "    X     Y  NewFeature\n",
              "0  -5  49.5          25\n",
              "1  -4  34.2          16\n",
              "2  -3  22.3           9\n",
              "3  -2  13.8           4\n",
              "4  -1   8.7           1\n",
              "5   0   7.0           0\n",
              "6   1   8.7           1\n",
              "7   2  13.8           4\n",
              "8   3  22.3           9\n",
              "9   4  34.2          16\n",
              "10  5  49.5          25"
            ],
            "text/html": [
              "\n",
              "  <div id=\"df-590880ac-526f-4a1a-865b-354512325416\">\n",
              "    <div class=\"colab-df-container\">\n",
              "      <div>\n",
              "<style scoped>\n",
              "    .dataframe tbody tr th:only-of-type {\n",
              "        vertical-align: middle;\n",
              "    }\n",
              "\n",
              "    .dataframe tbody tr th {\n",
              "        vertical-align: top;\n",
              "    }\n",
              "\n",
              "    .dataframe thead th {\n",
              "        text-align: right;\n",
              "    }\n",
              "</style>\n",
              "<table border=\"1\" class=\"dataframe\">\n",
              "  <thead>\n",
              "    <tr style=\"text-align: right;\">\n",
              "      <th></th>\n",
              "      <th>X</th>\n",
              "      <th>Y</th>\n",
              "      <th>NewFeature</th>\n",
              "    </tr>\n",
              "  </thead>\n",
              "  <tbody>\n",
              "    <tr>\n",
              "      <th>0</th>\n",
              "      <td>-5</td>\n",
              "      <td>49.5</td>\n",
              "      <td>25</td>\n",
              "    </tr>\n",
              "    <tr>\n",
              "      <th>1</th>\n",
              "      <td>-4</td>\n",
              "      <td>34.2</td>\n",
              "      <td>16</td>\n",
              "    </tr>\n",
              "    <tr>\n",
              "      <th>2</th>\n",
              "      <td>-3</td>\n",
              "      <td>22.3</td>\n",
              "      <td>9</td>\n",
              "    </tr>\n",
              "    <tr>\n",
              "      <th>3</th>\n",
              "      <td>-2</td>\n",
              "      <td>13.8</td>\n",
              "      <td>4</td>\n",
              "    </tr>\n",
              "    <tr>\n",
              "      <th>4</th>\n",
              "      <td>-1</td>\n",
              "      <td>8.7</td>\n",
              "      <td>1</td>\n",
              "    </tr>\n",
              "    <tr>\n",
              "      <th>5</th>\n",
              "      <td>0</td>\n",
              "      <td>7.0</td>\n",
              "      <td>0</td>\n",
              "    </tr>\n",
              "    <tr>\n",
              "      <th>6</th>\n",
              "      <td>1</td>\n",
              "      <td>8.7</td>\n",
              "      <td>1</td>\n",
              "    </tr>\n",
              "    <tr>\n",
              "      <th>7</th>\n",
              "      <td>2</td>\n",
              "      <td>13.8</td>\n",
              "      <td>4</td>\n",
              "    </tr>\n",
              "    <tr>\n",
              "      <th>8</th>\n",
              "      <td>3</td>\n",
              "      <td>22.3</td>\n",
              "      <td>9</td>\n",
              "    </tr>\n",
              "    <tr>\n",
              "      <th>9</th>\n",
              "      <td>4</td>\n",
              "      <td>34.2</td>\n",
              "      <td>16</td>\n",
              "    </tr>\n",
              "    <tr>\n",
              "      <th>10</th>\n",
              "      <td>5</td>\n",
              "      <td>49.5</td>\n",
              "      <td>25</td>\n",
              "    </tr>\n",
              "  </tbody>\n",
              "</table>\n",
              "</div>\n",
              "      <button class=\"colab-df-convert\" onclick=\"convertToInteractive('df-590880ac-526f-4a1a-865b-354512325416')\"\n",
              "              title=\"Convert this dataframe to an interactive table.\"\n",
              "              style=\"display:none;\">\n",
              "        \n",
              "  <svg xmlns=\"http://www.w3.org/2000/svg\" height=\"24px\"viewBox=\"0 0 24 24\"\n",
              "       width=\"24px\">\n",
              "    <path d=\"M0 0h24v24H0V0z\" fill=\"none\"/>\n",
              "    <path d=\"M18.56 5.44l.94 2.06.94-2.06 2.06-.94-2.06-.94-.94-2.06-.94 2.06-2.06.94zm-11 1L8.5 8.5l.94-2.06 2.06-.94-2.06-.94L8.5 2.5l-.94 2.06-2.06.94zm10 10l.94 2.06.94-2.06 2.06-.94-2.06-.94-.94-2.06-.94 2.06-2.06.94z\"/><path d=\"M17.41 7.96l-1.37-1.37c-.4-.4-.92-.59-1.43-.59-.52 0-1.04.2-1.43.59L10.3 9.45l-7.72 7.72c-.78.78-.78 2.05 0 2.83L4 21.41c.39.39.9.59 1.41.59.51 0 1.02-.2 1.41-.59l7.78-7.78 2.81-2.81c.8-.78.8-2.07 0-2.86zM5.41 20L4 18.59l7.72-7.72 1.47 1.35L5.41 20z\"/>\n",
              "  </svg>\n",
              "      </button>\n",
              "      \n",
              "  <style>\n",
              "    .colab-df-container {\n",
              "      display:flex;\n",
              "      flex-wrap:wrap;\n",
              "      gap: 12px;\n",
              "    }\n",
              "\n",
              "    .colab-df-convert {\n",
              "      background-color: #E8F0FE;\n",
              "      border: none;\n",
              "      border-radius: 50%;\n",
              "      cursor: pointer;\n",
              "      display: none;\n",
              "      fill: #1967D2;\n",
              "      height: 32px;\n",
              "      padding: 0 0 0 0;\n",
              "      width: 32px;\n",
              "    }\n",
              "\n",
              "    .colab-df-convert:hover {\n",
              "      background-color: #E2EBFA;\n",
              "      box-shadow: 0px 1px 2px rgba(60, 64, 67, 0.3), 0px 1px 3px 1px rgba(60, 64, 67, 0.15);\n",
              "      fill: #174EA6;\n",
              "    }\n",
              "\n",
              "    [theme=dark] .colab-df-convert {\n",
              "      background-color: #3B4455;\n",
              "      fill: #D2E3FC;\n",
              "    }\n",
              "\n",
              "    [theme=dark] .colab-df-convert:hover {\n",
              "      background-color: #434B5C;\n",
              "      box-shadow: 0px 1px 3px 1px rgba(0, 0, 0, 0.15);\n",
              "      filter: drop-shadow(0px 1px 2px rgba(0, 0, 0, 0.3));\n",
              "      fill: #FFFFFF;\n",
              "    }\n",
              "  </style>\n",
              "\n",
              "      <script>\n",
              "        const buttonEl =\n",
              "          document.querySelector('#df-590880ac-526f-4a1a-865b-354512325416 button.colab-df-convert');\n",
              "        buttonEl.style.display =\n",
              "          google.colab.kernel.accessAllowed ? 'block' : 'none';\n",
              "\n",
              "        async function convertToInteractive(key) {\n",
              "          const element = document.querySelector('#df-590880ac-526f-4a1a-865b-354512325416');\n",
              "          const dataTable =\n",
              "            await google.colab.kernel.invokeFunction('convertToInteractive',\n",
              "                                                     [key], {});\n",
              "          if (!dataTable) return;\n",
              "\n",
              "          const docLinkHtml = 'Like what you see? Visit the ' +\n",
              "            '<a target=\"_blank\" href=https://colab.research.google.com/notebooks/data_table.ipynb>data table notebook</a>'\n",
              "            + ' to learn more about interactive tables.';\n",
              "          element.innerHTML = '';\n",
              "          dataTable['output_type'] = 'display_data';\n",
              "          await google.colab.output.renderOutput(dataTable, element);\n",
              "          const docLink = document.createElement('div');\n",
              "          docLink.innerHTML = docLinkHtml;\n",
              "          element.appendChild(docLink);\n",
              "        }\n",
              "      </script>\n",
              "    </div>\n",
              "  </div>\n",
              "  "
            ]
          },
          "metadata": {},
          "execution_count": 27
        }
      ]
    },
    {
      "cell_type": "code",
      "source": [
        "sample_X = df1.drop( \"Y\" , axis = 1)\n",
        "sample_Y = df1[ \"Y\" ]"
      ],
      "metadata": {
        "id": "sznqp10izS23"
      },
      "execution_count": null,
      "outputs": []
    },
    {
      "cell_type": "markdown",
      "source": [
        "Create LinearRegression object and fit data sample_X and sample_Y"
      ],
      "metadata": {
        "id": "KZk9fIKYzbIP"
      }
    },
    {
      "cell_type": "code",
      "source": [
        "from sklearn.linear_model import LinearRegression\n",
        "\n",
        "lin_reg = LinearRegression()\n",
        "lin_reg.fit(sample_X,sample_Y )"
      ],
      "metadata": {
        "id": "Lhbttm4FzoSm",
        "colab": {
          "base_uri": "https://localhost:8080/"
        },
        "outputId": "5b76aa2b-4a80-4846-95d5-0f0c24af18f7"
      },
      "execution_count": null,
      "outputs": [
        {
          "output_type": "execute_result",
          "data": {
            "text/plain": [
              "LinearRegression()"
            ]
          },
          "metadata": {},
          "execution_count": 20
        }
      ]
    },
    {
      "cell_type": "markdown",
      "source": [
        "**Predict the result**"
      ],
      "metadata": {
        "id": "tDcp03e0OCTL"
      }
    },
    {
      "cell_type": "code",
      "source": [
        "y_pred = lin_reg.predict(sample_X)"
      ],
      "metadata": {
        "id": "q8uYE5Bw0B5q"
      },
      "execution_count": null,
      "outputs": []
    },
    {
      "cell_type": "markdown",
      "source": [
        "**Plot actual data and predicted data**"
      ],
      "metadata": {
        "id": "M9aQkNz6OHGj"
      }
    },
    {
      "cell_type": "code",
      "source": [
        "plt.scatter(sample_X['X'],sample_Y  , label = 'actual')\n",
        "plt.plot(sample_X['X'],y_pred, label = 'predicted', color = 'red')\n",
        "\n",
        "plt.legend()"
      ],
      "metadata": {
        "id": "uzTHCwJTOLDI",
        "colab": {
          "base_uri": "https://localhost:8080/",
          "height": 282
        },
        "outputId": "909445c4-43d2-43d6-b33b-5363d4a7b4d1"
      },
      "execution_count": null,
      "outputs": [
        {
          "output_type": "execute_result",
          "data": {
            "text/plain": [
              "<matplotlib.legend.Legend at 0x7f291a5a0b90>"
            ]
          },
          "metadata": {},
          "execution_count": 22
        },
        {
          "output_type": "display_data",
          "data": {
            "text/plain": [
              "<Figure size 432x288 with 1 Axes>"
            ],
            "image/png": "[encoded data removed]"
          },
          "metadata": {
            "needs_background": "light"
          }
        }
      ]
    },
    {
      "cell_type": "markdown",
      "source": [
        "**WOW u made it, Hurray!!!**\n",
        "\n",
        "Here's another one, Have Fun solving it :)"
      ],
      "metadata": {
        "id": "wiC3jADn67AN"
      }
    },
    {
      "cell_type": "code",
      "source": [
        "data3 = {'X':[-5. , -4. , -3. , -2. , -1. ,0. ,  1. ,  2. ,  2.33333333,  2.66666667,3. ,  3.33333333,  3.66666667,  4. ,  4.33333333,4.66666667,  5. ,  5. ,  6. ,  7. ,8. ,  9. , 10. , 11. , 12.,13.],\n",
        "         'Y': [-1.07984907e+02, -1.07958973e+02, -1.07888477e+02, -1.07696849e+02,-1.07175950e+02, -1.05760000e+02, -1.01911049e+02, -9.14485143e+01,-8.49005410e+01, -7.57621078e+01, -6.30083973e+01, -4.52091604e+01,-2.03683236e+01,  1.42998561e+01,  6.26831982e+01,  1.30207594e+02, 2.24445476e+02,  2.24445476e+02,  7.95680497e+02,  2.34845827e+03, 6.56934589e+03,  1.80429080e+04,  4.92312834e+04,  1.34010077e+05, 3.64462733e+05,  9.90897998e+05]}\n",
        "\n",
        "df3 = pd.DataFrame(data3)"
      ],
      "metadata": {
        "id": "1EvWPrmP7UDA"
      },
      "execution_count": null,
      "outputs": []
    },
    {
      "cell_type": "code",
      "source": [
        "df3.head()"
      ],
      "metadata": {
        "colab": {
          "base_uri": "https://localhost:8080/",
          "height": 206
        },
        "id": "Bsg7-n1v82yr",
        "outputId": "65b74e5e-90de-4978-95d0-d51c8a692297"
      },
      "execution_count": null,
      "outputs": [
        {
          "output_type": "execute_result",
          "data": {
            "text/plain": [
              "     X           Y\n",
              "0 -5.0 -107.984907\n",
              "1 -4.0 -107.958973\n",
              "2 -3.0 -107.888477\n",
              "3 -2.0 -107.696849\n",
              "4 -1.0 -107.175950"
            ],
            "text/html": [
              "\n",
              "  <div id=\"df-05749cad-74d8-4871-8f6f-16b462f29e09\">\n",
              "    <div class=\"colab-df-container\">\n",
              "      <div>\n",
              "<style scoped>\n",
              "    .dataframe tbody tr th:only-of-type {\n",
              "        vertical-align: middle;\n",
              "    }\n",
              "\n",
              "    .dataframe tbody tr th {\n",
              "        vertical-align: top;\n",
              "    }\n",
              "\n",
              "    .dataframe thead th {\n",
              "        text-align: right;\n",
              "    }\n",
              "</style>\n",
              "<table border=\"1\" class=\"dataframe\">\n",
              "  <thead>\n",
              "    <tr style=\"text-align: right;\">\n",
              "      <th></th>\n",
              "      <th>X</th>\n",
              "      <th>Y</th>\n",
              "    </tr>\n",
              "  </thead>\n",
              "  <tbody>\n",
              "    <tr>\n",
              "      <th>0</th>\n",
              "      <td>-5.0</td>\n",
              "      <td>-107.984907</td>\n",
              "    </tr>\n",
              "    <tr>\n",
              "      <th>1</th>\n",
              "      <td>-4.0</td>\n",
              "      <td>-107.958973</td>\n",
              "    </tr>\n",
              "    <tr>\n",
              "      <th>2</th>\n",
              "      <td>-3.0</td>\n",
              "      <td>-107.888477</td>\n",
              "    </tr>\n",
              "    <tr>\n",
              "      <th>3</th>\n",
              "      <td>-2.0</td>\n",
              "      <td>-107.696849</td>\n",
              "    </tr>\n",
              "    <tr>\n",
              "      <th>4</th>\n",
              "      <td>-1.0</td>\n",
              "      <td>-107.175950</td>\n",
              "    </tr>\n",
              "  </tbody>\n",
              "</table>\n",
              "</div>\n",
              "      <button class=\"colab-df-convert\" onclick=\"convertToInteractive('df-05749cad-74d8-4871-8f6f-16b462f29e09')\"\n",
              "              title=\"Convert this dataframe to an interactive table.\"\n",
              "              style=\"display:none;\">\n",
              "        \n",
              "  <svg xmlns=\"http://www.w3.org/2000/svg\" height=\"24px\"viewBox=\"0 0 24 24\"\n",
              "       width=\"24px\">\n",
              "    <path d=\"M0 0h24v24H0V0z\" fill=\"none\"/>\n",
              "    <path d=\"M18.56 5.44l.94 2.06.94-2.06 2.06-.94-2.06-.94-.94-2.06-.94 2.06-2.06.94zm-11 1L8.5 8.5l.94-2.06 2.06-.94-2.06-.94L8.5 2.5l-.94 2.06-2.06.94zm10 10l.94 2.06.94-2.06 2.06-.94-2.06-.94-.94-2.06-.94 2.06-2.06.94z\"/><path d=\"M17.41 7.96l-1.37-1.37c-.4-.4-.92-.59-1.43-.59-.52 0-1.04.2-1.43.59L10.3 9.45l-7.72 7.72c-.78.78-.78 2.05 0 2.83L4 21.41c.39.39.9.59 1.41.59.51 0 1.02-.2 1.41-.59l7.78-7.78 2.81-2.81c.8-.78.8-2.07 0-2.86zM5.41 20L4 18.59l7.72-7.72 1.47 1.35L5.41 20z\"/>\n",
              "  </svg>\n",
              "      </button>\n",
              "      \n",
              "  <style>\n",
              "    .colab-df-container {\n",
              "      display:flex;\n",
              "      flex-wrap:wrap;\n",
              "      gap: 12px;\n",
              "    }\n",
              "\n",
              "    .colab-df-convert {\n",
              "      background-color: #E8F0FE;\n",
              "      border: none;\n",
              "      border-radius: 50%;\n",
              "      cursor: pointer;\n",
              "      display: none;\n",
              "      fill: #1967D2;\n",
              "      height: 32px;\n",
              "      padding: 0 0 0 0;\n",
              "      width: 32px;\n",
              "    }\n",
              "\n",
              "    .colab-df-convert:hover {\n",
              "      background-color: #E2EBFA;\n",
              "      box-shadow: 0px 1px 2px rgba(60, 64, 67, 0.3), 0px 1px 3px 1px rgba(60, 64, 67, 0.15);\n",
              "      fill: #174EA6;\n",
              "    }\n",
              "\n",
              "    [theme=dark] .colab-df-convert {\n",
              "      background-color: #3B4455;\n",
              "      fill: #D2E3FC;\n",
              "    }\n",
              "\n",
              "    [theme=dark] .colab-df-convert:hover {\n",
              "      background-color: #434B5C;\n",
              "      box-shadow: 0px 1px 3px 1px rgba(0, 0, 0, 0.15);\n",
              "      filter: drop-shadow(0px 1px 2px rgba(0, 0, 0, 0.3));\n",
              "      fill: #FFFFFF;\n",
              "    }\n",
              "  </style>\n",
              "\n",
              "      <script>\n",
              "        const buttonEl =\n",
              "          document.querySelector('#df-05749cad-74d8-4871-8f6f-16b462f29e09 button.colab-df-convert');\n",
              "        buttonEl.style.display =\n",
              "          google.colab.kernel.accessAllowed ? 'block' : 'none';\n",
              "\n",
              "        async function convertToInteractive(key) {\n",
              "          const element = document.querySelector('#df-05749cad-74d8-4871-8f6f-16b462f29e09');\n",
              "          const dataTable =\n",
              "            await google.colab.kernel.invokeFunction('convertToInteractive',\n",
              "                                                     [key], {});\n",
              "          if (!dataTable) return;\n",
              "\n",
              "          const docLinkHtml = 'Like what you see? Visit the ' +\n",
              "            '<a target=\"_blank\" href=https://colab.research.google.com/notebooks/data_table.ipynb>data table notebook</a>'\n",
              "            + ' to learn more about interactive tables.';\n",
              "          element.innerHTML = '';\n",
              "          dataTable['output_type'] = 'display_data';\n",
              "          await google.colab.output.renderOutput(dataTable, element);\n",
              "          const docLink = document.createElement('div');\n",
              "          docLink.innerHTML = docLinkHtml;\n",
              "          element.appendChild(docLink);\n",
              "        }\n",
              "      </script>\n",
              "    </div>\n",
              "  </div>\n",
              "  "
            ]
          },
          "metadata": {},
          "execution_count": 24
        }
      ]
    },
    {
      "cell_type": "markdown",
      "source": [
        "plot the data then add new necessary features"
      ],
      "metadata": {
        "id": "NkQ8UU6s7UDD"
      }
    },
    {
      "cell_type": "code",
      "source": [
        "plt.plot(df3[\"X\"],df3[\"Y\"])"
      ],
      "metadata": {
        "id": "hUqq14LI-WYE",
        "colab": {
          "base_uri": "https://localhost:8080/",
          "height": 293
        },
        "outputId": "c31d65e9-dcd7-42c6-fe62-be6401416524"
      },
      "execution_count": null,
      "outputs": [
        {
          "output_type": "execute_result",
          "data": {
            "text/plain": [
              "[<matplotlib.lines.Line2D at 0x7f291a51fa90>]"
            ]
          },
          "metadata": {},
          "execution_count": 25
        },
        {
          "output_type": "display_data",
          "data": {
            "text/plain": [
              "<Figure size 432x288 with 1 Axes>"
            ],
            "image/png": "[encoded data removed]"
          },
          "metadata": {
            "needs_background": "light"
          }
        }
      ]
    },
    {
      "cell_type": "markdown",
      "source": [
        "**add new necessary feature's**"
      ],
      "metadata": {
        "id": "r1To5Mdn-ofH"
      }
    },
    {
      "cell_type": "code",
      "source": [],
      "metadata": {
        "id": "Ck2ai35e4JxT"
      },
      "execution_count": null,
      "outputs": []
    },
    {
      "cell_type": "code",
      "source": [
        "df3['NewFeature'] = np.exp(df3['X'])"
      ],
      "metadata": {
        "id": "oYpDIhtB7UDI"
      },
      "execution_count": null,
      "outputs": []
    },
    {
      "cell_type": "markdown",
      "source": [
        "prepare X and Y for training."
      ],
      "metadata": {
        "id": "kQvyxcdX-uCo"
      }
    },
    {
      "cell_type": "code",
      "source": [
        "X = df3.drop(\"Y\",axis=1)\n",
        "y = df3[\"Y\"]"
      ],
      "metadata": {
        "id": "0ys5VKT17UDJ"
      },
      "execution_count": null,
      "outputs": []
    },
    {
      "cell_type": "markdown",
      "source": [
        "**Fit and predict**"
      ],
      "metadata": {
        "id": "e276B95DHI37"
      }
    },
    {
      "cell_type": "code",
      "source": [
        "X.shape"
      ],
      "metadata": {
        "colab": {
          "base_uri": "https://localhost:8080/"
        },
        "id": "hDDaG5_Z54E2",
        "outputId": "05fd8fbb-11a2-4c71-b5b9-a01a5126b953"
      },
      "execution_count": null,
      "outputs": [
        {
          "output_type": "execute_result",
          "data": {
            "text/plain": [
              "(26, 2)"
            ]
          },
          "metadata": {},
          "execution_count": 36
        }
      ]
    },
    {
      "cell_type": "code",
      "source": [],
      "metadata": {
        "id": "uzxeo32G7tvZ"
      },
      "execution_count": null,
      "outputs": []
    },
    {
      "cell_type": "code",
      "source": [],
      "metadata": {
        "id": "_GUt_v5k7rdP"
      },
      "execution_count": null,
      "outputs": []
    },
    {
      "cell_type": "code",
      "source": [
        "lin_reg.fit(X,y)\n",
        "y_pred = lin_reg.predict(X)"
      ],
      "metadata": {
        "id": "TcOXOgL07UDL"
      },
      "execution_count": null,
      "outputs": []
    },
    {
      "cell_type": "markdown",
      "source": [
        "**Plot IT**\n",
        "\n",
        "If u did not get the same result in plot try adding different NewFeature"
      ],
      "metadata": {
        "id": "RZZrF6gcHLcp"
      }
    },
    {
      "cell_type": "code",
      "source": [
        "plt.scatter(df3['X'], df3['Y'], label='axtual')\n",
        "plt.plot( df3['X'], y_pred, label='pred', color = 'red')\n",
        "\n",
        "plt.legend()\n",
        "plt.show()"
      ],
      "metadata": {
        "id": "k7aJiM5jOs_s",
        "colab": {
          "base_uri": "https://localhost:8080/",
          "height": 276
        },
        "outputId": "152b69a9-aa68-4c7d-dd41-11915134879f"
      },
      "execution_count": null,
      "outputs": [
        {
          "output_type": "display_data",
          "data": {
            "text/plain": [
              "<Figure size 432x288 with 1 Axes>"
            ],
            "image/png": "[encoded data removed]"
          },
          "metadata": {
            "needs_background": "light"
          }
        }
      ]
    },
    {
      "cell_type": "markdown",
      "source": [
        "**Great Job You did it**\n",
        "\n",
        "it's time to see a new problem"
      ],
      "metadata": {
        "id": "zvvyRVlzvsPJ"
      }
    },
    {
      "cell_type": "code",
      "source": [
        "data5 = {'X' : [-180, -160, -140, -120, -100,  -80,  -60,  -40,  -20,    0,   20,40,   60,   80,  100,  120,  140,  160],\n",
        "         'Y' : [-1.22464680e-16, -3.42020143e-01, -6.42787610e-01, -8.66025404e-01,       -9.84807753e-01, -9.84807753e-01, -8.66025404e-01, -6.42787610e-01,       -3.42020143e-01,  0.00000000e+00,  3.42020143e-01,  6.42787610e-01,        8.66025404e-01,  9.84807753e-01,  9.84807753e-01,  8.66025404e-01, 6.42787610e-01,  3.42020143e-01]   }\n",
        "df4 = pd.DataFrame(data5)"
      ],
      "metadata": {
        "id": "Y-DaatIwvygp"
      },
      "execution_count": null,
      "outputs": []
    },
    {
      "cell_type": "code",
      "source": [
        "df4"
      ],
      "metadata": {
        "id": "K1b48DS1wDd2",
        "colab": {
          "base_uri": "https://localhost:8080/",
          "height": 614
        },
        "outputId": "fba7ee8d-59ed-46dd-d288-1275a5c5e77b"
      },
      "execution_count": null,
      "outputs": [
        {
          "output_type": "execute_result",
          "data": {
            "text/plain": [
              "      X             Y\n",
              "0  -180 -1.224647e-16\n",
              "1  -160 -3.420201e-01\n",
              "2  -140 -6.427876e-01\n",
              "3  -120 -8.660254e-01\n",
              "4  -100 -9.848078e-01\n",
              "5   -80 -9.848078e-01\n",
              "6   -60 -8.660254e-01\n",
              "7   -40 -6.427876e-01\n",
              "8   -20 -3.420201e-01\n",
              "9     0  0.000000e+00\n",
              "10   20  3.420201e-01\n",
              "11   40  6.427876e-01\n",
              "12   60  8.660254e-01\n",
              "13   80  9.848078e-01\n",
              "14  100  9.848078e-01\n",
              "15  120  8.660254e-01\n",
              "16  140  6.427876e-01\n",
              "17  160  3.420201e-01"
            ],
            "text/html": [
              "\n",
              "  <div id=\"df-32164445-c10b-4b6d-b44b-1db3d0e840df\">\n",
              "    <div class=\"colab-df-container\">\n",
              "      <div>\n",
              "<style scoped>\n",
              "    .dataframe tbody tr th:only-of-type {\n",
              "        vertical-align: middle;\n",
              "    }\n",
              "\n",
              "    .dataframe tbody tr th {\n",
              "        vertical-align: top;\n",
              "    }\n",
              "\n",
              "    .dataframe thead th {\n",
              "        text-align: right;\n",
              "    }\n",
              "</style>\n",
              "<table border=\"1\" class=\"dataframe\">\n",
              "  <thead>\n",
              "    <tr style=\"text-align: right;\">\n",
              "      <th></th>\n",
              "      <th>X</th>\n",
              "      <th>Y</th>\n",
              "    </tr>\n",
              "  </thead>\n",
              "  <tbody>\n",
              "    <tr>\n",
              "      <th>0</th>\n",
              "      <td>-180</td>\n",
              "      <td>-1.224647e-16</td>\n",
              "    </tr>\n",
              "    <tr>\n",
              "      <th>1</th>\n",
              "      <td>-160</td>\n",
              "      <td>-3.420201e-01</td>\n",
              "    </tr>\n",
              "    <tr>\n",
              "      <th>2</th>\n",
              "      <td>-140</td>\n",
              "      <td>-6.427876e-01</td>\n",
              "    </tr>\n",
              "    <tr>\n",
              "      <th>3</th>\n",
              "      <td>-120</td>\n",
              "      <td>-8.660254e-01</td>\n",
              "    </tr>\n",
              "    <tr>\n",
              "      <th>4</th>\n",
              "      <td>-100</td>\n",
              "      <td>-9.848078e-01</td>\n",
              "    </tr>\n",
              "    <tr>\n",
              "      <th>5</th>\n",
              "      <td>-80</td>\n",
              "      <td>-9.848078e-01</td>\n",
              "    </tr>\n",
              "    <tr>\n",
              "      <th>6</th>\n",
              "      <td>-60</td>\n",
              "      <td>-8.660254e-01</td>\n",
              "    </tr>\n",
              "    <tr>\n",
              "      <th>7</th>\n",
              "      <td>-40</td>\n",
              "      <td>-6.427876e-01</td>\n",
              "    </tr>\n",
              "    <tr>\n",
              "      <th>8</th>\n",
              "      <td>-20</td>\n",
              "      <td>-3.420201e-01</td>\n",
              "    </tr>\n",
              "    <tr>\n",
              "      <th>9</th>\n",
              "      <td>0</td>\n",
              "      <td>0.000000e+00</td>\n",
              "    </tr>\n",
              "    <tr>\n",
              "      <th>10</th>\n",
              "      <td>20</td>\n",
              "      <td>3.420201e-01</td>\n",
              "    </tr>\n",
              "    <tr>\n",
              "      <th>11</th>\n",
              "      <td>40</td>\n",
              "      <td>6.427876e-01</td>\n",
              "    </tr>\n",
              "    <tr>\n",
              "      <th>12</th>\n",
              "      <td>60</td>\n",
              "      <td>8.660254e-01</td>\n",
              "    </tr>\n",
              "    <tr>\n",
              "      <th>13</th>\n",
              "      <td>80</td>\n",
              "      <td>9.848078e-01</td>\n",
              "    </tr>\n",
              "    <tr>\n",
              "      <th>14</th>\n",
              "      <td>100</td>\n",
              "      <td>9.848078e-01</td>\n",
              "    </tr>\n",
              "    <tr>\n",
              "      <th>15</th>\n",
              "      <td>120</td>\n",
              "      <td>8.660254e-01</td>\n",
              "    </tr>\n",
              "    <tr>\n",
              "      <th>16</th>\n",
              "      <td>140</td>\n",
              "      <td>6.427876e-01</td>\n",
              "    </tr>\n",
              "    <tr>\n",
              "      <th>17</th>\n",
              "      <td>160</td>\n",
              "      <td>3.420201e-01</td>\n",
              "    </tr>\n",
              "  </tbody>\n",
              "</table>\n",
              "</div>\n",
              "      <button class=\"colab-df-convert\" onclick=\"convertToInteractive('df-32164445-c10b-4b6d-b44b-1db3d0e840df')\"\n",
              "              title=\"Convert this dataframe to an interactive table.\"\n",
              "              style=\"display:none;\">\n",
              "        \n",
              "  <svg xmlns=\"http://www.w3.org/2000/svg\" height=\"24px\"viewBox=\"0 0 24 24\"\n",
              "       width=\"24px\">\n",
              "    <path d=\"M0 0h24v24H0V0z\" fill=\"none\"/>\n",
              "    <path d=\"M18.56 5.44l.94 2.06.94-2.06 2.06-.94-2.06-.94-.94-2.06-.94 2.06-2.06.94zm-11 1L8.5 8.5l.94-2.06 2.06-.94-2.06-.94L8.5 2.5l-.94 2.06-2.06.94zm10 10l.94 2.06.94-2.06 2.06-.94-2.06-.94-.94-2.06-.94 2.06-2.06.94z\"/><path d=\"M17.41 7.96l-1.37-1.37c-.4-.4-.92-.59-1.43-.59-.52 0-1.04.2-1.43.59L10.3 9.45l-7.72 7.72c-.78.78-.78 2.05 0 2.83L4 21.41c.39.39.9.59 1.41.59.51 0 1.02-.2 1.41-.59l7.78-7.78 2.81-2.81c.8-.78.8-2.07 0-2.86zM5.41 20L4 18.59l7.72-7.72 1.47 1.35L5.41 20z\"/>\n",
              "  </svg>\n",
              "      </button>\n",
              "      \n",
              "  <style>\n",
              "    .colab-df-container {\n",
              "      display:flex;\n",
              "      flex-wrap:wrap;\n",
              "      gap: 12px;\n",
              "    }\n",
              "\n",
              "    .colab-df-convert {\n",
              "      background-color: #E8F0FE;\n",
              "      border: none;\n",
              "      border-radius: 50%;\n",
              "      cursor: pointer;\n",
              "      display: none;\n",
              "      fill: #1967D2;\n",
              "      height: 32px;\n",
              "      padding: 0 0 0 0;\n",
              "      width: 32px;\n",
              "    }\n",
              "\n",
              "    .colab-df-convert:hover {\n",
              "      background-color: #E2EBFA;\n",
              "      box-shadow: 0px 1px 2px rgba(60, 64, 67, 0.3), 0px 1px 3px 1px rgba(60, 64, 67, 0.15);\n",
              "      fill: #174EA6;\n",
              "    }\n",
              "\n",
              "    [theme=dark] .colab-df-convert {\n",
              "      background-color: #3B4455;\n",
              "      fill: #D2E3FC;\n",
              "    }\n",
              "\n",
              "    [theme=dark] .colab-df-convert:hover {\n",
              "      background-color: #434B5C;\n",
              "      box-shadow: 0px 1px 3px 1px rgba(0, 0, 0, 0.15);\n",
              "      filter: drop-shadow(0px 1px 2px rgba(0, 0, 0, 0.3));\n",
              "      fill: #FFFFFF;\n",
              "    }\n",
              "  </style>\n",
              "\n",
              "      <script>\n",
              "        const buttonEl =\n",
              "          document.querySelector('#df-32164445-c10b-4b6d-b44b-1db3d0e840df button.colab-df-convert');\n",
              "        buttonEl.style.display =\n",
              "          google.colab.kernel.accessAllowed ? 'block' : 'none';\n",
              "\n",
              "        async function convertToInteractive(key) {\n",
              "          const element = document.querySelector('#df-32164445-c10b-4b6d-b44b-1db3d0e840df');\n",
              "          const dataTable =\n",
              "            await google.colab.kernel.invokeFunction('convertToInteractive',\n",
              "                                                     [key], {});\n",
              "          if (!dataTable) return;\n",
              "\n",
              "          const docLinkHtml = 'Like what you see? Visit the ' +\n",
              "            '<a target=\"_blank\" href=https://colab.research.google.com/notebooks/data_table.ipynb>data table notebook</a>'\n",
              "            + ' to learn more about interactive tables.';\n",
              "          element.innerHTML = '';\n",
              "          dataTable['output_type'] = 'display_data';\n",
              "          await google.colab.output.renderOutput(dataTable, element);\n",
              "          const docLink = document.createElement('div');\n",
              "          docLink.innerHTML = docLinkHtml;\n",
              "          element.appendChild(docLink);\n",
              "        }\n",
              "      </script>\n",
              "    </div>\n",
              "  </div>\n",
              "  "
            ]
          },
          "metadata": {},
          "execution_count": 41
        }
      ]
    },
    {
      "cell_type": "markdown",
      "source": [
        "plot the data and then add the new necessary feature"
      ],
      "metadata": {
        "id": "AyrM1l73wJ_B"
      }
    },
    {
      "cell_type": "code",
      "source": [
        "plt.scatter(df4[\"X\"],df4[\"Y\"])"
      ],
      "metadata": {
        "id": "j_muRC9PwTY3",
        "colab": {
          "base_uri": "https://localhost:8080/",
          "height": 282
        },
        "outputId": "edff65f7-d679-4806-b152-87138a9374d2"
      },
      "execution_count": null,
      "outputs": [
        {
          "output_type": "execute_result",
          "data": {
            "text/plain": [
              "<matplotlib.collections.PathCollection at 0x7f291a334b50>"
            ]
          },
          "metadata": {},
          "execution_count": 42
        },
        {
          "output_type": "display_data",
          "data": {
            "text/plain": [
              "<Figure size 432x288 with 1 Axes>"
            ],
            "image/png": "[encoded data removed]"
          },
          "metadata": {
            "needs_background": "light"
          }
        }
      ]
    },
    {
      "cell_type": "code",
      "source": [
        "in_array = np.linspace(-np.pi, np.pi, 18)\n",
        "out_array = np.sin(in_array)"
      ],
      "metadata": {
        "id": "X0sOYlui-S3s"
      },
      "execution_count": null,
      "outputs": []
    },
    {
      "cell_type": "code",
      "source": [
        "df4['NewFeature'] = out_array"
      ],
      "metadata": {
        "id": "gOiE_syKwZDo"
      },
      "execution_count": null,
      "outputs": []
    },
    {
      "cell_type": "markdown",
      "source": [
        "prepare X and Y for training"
      ],
      "metadata": {
        "id": "cck1kGljw2EB"
      }
    },
    {
      "cell_type": "code",
      "source": [
        "x = df4.drop(\"Y\",axis=1)\n",
        "y = df4[\"Y\"]"
      ],
      "metadata": {
        "id": "qyXsGhyiwsdK"
      },
      "execution_count": null,
      "outputs": []
    },
    {
      "cell_type": "markdown",
      "source": [
        "fit and predict"
      ],
      "metadata": {
        "id": "UnQFX-7qxEZR"
      }
    },
    {
      "cell_type": "code",
      "source": [
        "from sklearn.linear_model import LinearRegression\n",
        "\n",
        "lin_reg = LinearRegression()"
      ],
      "metadata": {
        "id": "m6QCAuL0xYln"
      },
      "execution_count": null,
      "outputs": []
    },
    {
      "cell_type": "code",
      "source": [
        "lin_reg.fit(x,y)\n",
        "y_pred = lin_reg.predict(x)"
      ],
      "metadata": {
        "id": "dYjxpntzwZAj"
      },
      "execution_count": null,
      "outputs": []
    },
    {
      "cell_type": "markdown",
      "source": [
        "plot\n",
        "\n",
        "If u did not get the same result in plot try adding different NewFeature"
      ],
      "metadata": {
        "id": "StfhMzHRxhBK"
      }
    },
    {
      "cell_type": "code",
      "source": [
        "plt.scatter(df4[\"X\"],df4[\"Y\"],label=\"actual\")\n",
        "plt.plot(df4[\"X\"],y_pred,label=\"pred\",color=\"red\")\n",
        "\n",
        "plt.legend()\n",
        "plt.show()"
      ],
      "metadata": {
        "id": "7-rlPdBux35C",
        "colab": {
          "base_uri": "https://localhost:8080/",
          "height": 265
        },
        "outputId": "5e644cb8-75e2-428f-dcf3-1c21fbe38a13"
      },
      "execution_count": null,
      "outputs": [
        {
          "output_type": "display_data",
          "data": {
            "text/plain": [
              "<Figure size 432x288 with 1 Axes>"
            ],
            "image/png": "[encoded data removed]"
          },
          "metadata": {
            "needs_background": "light"
          }
        }
      ]
    },
    {
      "cell_type": "markdown",
      "source": [
        "**Now Some tricky things**\n",
        "\n",
        "Try as many possible features to get better accuracy"
      ],
      "metadata": {
        "id": "UzdKT1oo_COM"
      }
    },
    {
      "cell_type": "code",
      "source": [
        "df = pd.read_csv('https://raw.githubusercontent.com/aman5898/Pepcoding-Data-Science/main/dataset/data3.csv')\n",
        "df.drop(['Unnamed: 0'], axis = 1, inplace = True)\n",
        "df.sample(7)"
      ],
      "metadata": {
        "colab": {
          "base_uri": "https://localhost:8080/",
          "height": 269
        },
        "id": "1N9VpP_AJczq",
        "outputId": "fe8d179f-b997-477e-b5ca-9f7f2992fcbb"
      },
      "execution_count": null,
      "outputs": [
        {
          "output_type": "execute_result",
          "data": {
            "text/plain": [
              "    x1         x2         x3             Y\n",
              "28   2  -1.263158  10.638901  1.491386e+04\n",
              "15  15 -14.605263  28.551423  4.242647e+07\n",
              "12  18 -17.684211  12.222015  8.469914e+08\n",
              "25   5  -4.342105   7.182598  3.506856e+03\n",
              "17  13 -12.552632  10.835468  5.699863e+06\n",
              "0   30 -30.000000   3.908991  1.378555e+14\n",
              "27   3  -2.289474  26.411231  2.242051e+05"
            ],
            "text/html": [
              "\n",
              "  <div id=\"df-f1633c22-ecc3-450c-8ba3-566b8bc8096b\">\n",
              "    <div class=\"colab-df-container\">\n",
              "      <div>\n",
              "<style scoped>\n",
              "    .dataframe tbody tr th:only-of-type {\n",
              "        vertical-align: middle;\n",
              "    }\n",
              "\n",
              "    .dataframe tbody tr th {\n",
              "        vertical-align: top;\n",
              "    }\n",
              "\n",
              "    .dataframe thead th {\n",
              "        text-align: right;\n",
              "    }\n",
              "</style>\n",
              "<table border=\"1\" class=\"dataframe\">\n",
              "  <thead>\n",
              "    <tr style=\"text-align: right;\">\n",
              "      <th></th>\n",
              "      <th>x1</th>\n",
              "      <th>x2</th>\n",
              "      <th>x3</th>\n",
              "      <th>Y</th>\n",
              "    </tr>\n",
              "  </thead>\n",
              "  <tbody>\n",
              "    <tr>\n",
              "      <th>28</th>\n",
              "      <td>2</td>\n",
              "      <td>-1.263158</td>\n",
              "      <td>10.638901</td>\n",
              "      <td>1.491386e+04</td>\n",
              "    </tr>\n",
              "    <tr>\n",
              "      <th>15</th>\n",
              "      <td>15</td>\n",
              "      <td>-14.605263</td>\n",
              "      <td>28.551423</td>\n",
              "      <td>4.242647e+07</td>\n",
              "    </tr>\n",
              "    <tr>\n",
              "      <th>12</th>\n",
              "      <td>18</td>\n",
              "      <td>-17.684211</td>\n",
              "      <td>12.222015</td>\n",
              "      <td>8.469914e+08</td>\n",
              "    </tr>\n",
              "    <tr>\n",
              "      <th>25</th>\n",
              "      <td>5</td>\n",
              "      <td>-4.342105</td>\n",
              "      <td>7.182598</td>\n",
              "      <td>3.506856e+03</td>\n",
              "    </tr>\n",
              "    <tr>\n",
              "      <th>17</th>\n",
              "      <td>13</td>\n",
              "      <td>-12.552632</td>\n",
              "      <td>10.835468</td>\n",
              "      <td>5.699863e+06</td>\n",
              "    </tr>\n",
              "    <tr>\n",
              "      <th>0</th>\n",
              "      <td>30</td>\n",
              "      <td>-30.000000</td>\n",
              "      <td>3.908991</td>\n",
              "      <td>1.378555e+14</td>\n",
              "    </tr>\n",
              "    <tr>\n",
              "      <th>27</th>\n",
              "      <td>3</td>\n",
              "      <td>-2.289474</td>\n",
              "      <td>26.411231</td>\n",
              "      <td>2.242051e+05</td>\n",
              "    </tr>\n",
              "  </tbody>\n",
              "</table>\n",
              "</div>\n",
              "      <button class=\"colab-df-convert\" onclick=\"convertToInteractive('df-f1633c22-ecc3-450c-8ba3-566b8bc8096b')\"\n",
              "              title=\"Convert this dataframe to an interactive table.\"\n",
              "              style=\"display:none;\">\n",
              "        \n",
              "  <svg xmlns=\"http://www.w3.org/2000/svg\" height=\"24px\"viewBox=\"0 0 24 24\"\n",
              "       width=\"24px\">\n",
              "    <path d=\"M0 0h24v24H0V0z\" fill=\"none\"/>\n",
              "    <path d=\"M18.56 5.44l.94 2.06.94-2.06 2.06-.94-2.06-.94-.94-2.06-.94 2.06-2.06.94zm-11 1L8.5 8.5l.94-2.06 2.06-.94-2.06-.94L8.5 2.5l-.94 2.06-2.06.94zm10 10l.94 2.06.94-2.06 2.06-.94-2.06-.94-.94-2.06-.94 2.06-2.06.94z\"/><path d=\"M17.41 7.96l-1.37-1.37c-.4-.4-.92-.59-1.43-.59-.52 0-1.04.2-1.43.59L10.3 9.45l-7.72 7.72c-.78.78-.78 2.05 0 2.83L4 21.41c.39.39.9.59 1.41.59.51 0 1.02-.2 1.41-.59l7.78-7.78 2.81-2.81c.8-.78.8-2.07 0-2.86zM5.41 20L4 18.59l7.72-7.72 1.47 1.35L5.41 20z\"/>\n",
              "  </svg>\n",
              "      </button>\n",
              "      \n",
              "  <style>\n",
              "    .colab-df-container {\n",
              "      display:flex;\n",
              "      flex-wrap:wrap;\n",
              "      gap: 12px;\n",
              "    }\n",
              "\n",
              "    .colab-df-convert {\n",
              "      background-color: #E8F0FE;\n",
              "      border: none;\n",
              "      border-radius: 50%;\n",
              "      cursor: pointer;\n",
              "      display: none;\n",
              "      fill: #1967D2;\n",
              "      height: 32px;\n",
              "      padding: 0 0 0 0;\n",
              "      width: 32px;\n",
              "    }\n",
              "\n",
              "    .colab-df-convert:hover {\n",
              "      background-color: #E2EBFA;\n",
              "      box-shadow: 0px 1px 2px rgba(60, 64, 67, 0.3), 0px 1px 3px 1px rgba(60, 64, 67, 0.15);\n",
              "      fill: #174EA6;\n",
              "    }\n",
              "\n",
              "    [theme=dark] .colab-df-convert {\n",
              "      background-color: #3B4455;\n",
              "      fill: #D2E3FC;\n",
              "    }\n",
              "\n",
              "    [theme=dark] .colab-df-convert:hover {\n",
              "      background-color: #434B5C;\n",
              "      box-shadow: 0px 1px 3px 1px rgba(0, 0, 0, 0.15);\n",
              "      filter: drop-shadow(0px 1px 2px rgba(0, 0, 0, 0.3));\n",
              "      fill: #FFFFFF;\n",
              "    }\n",
              "  </style>\n",
              "\n",
              "      <script>\n",
              "        const buttonEl =\n",
              "          document.querySelector('#df-f1633c22-ecc3-450c-8ba3-566b8bc8096b button.colab-df-convert');\n",
              "        buttonEl.style.display =\n",
              "          google.colab.kernel.accessAllowed ? 'block' : 'none';\n",
              "\n",
              "        async function convertToInteractive(key) {\n",
              "          const element = document.querySelector('#df-f1633c22-ecc3-450c-8ba3-566b8bc8096b');\n",
              "          const dataTable =\n",
              "            await google.colab.kernel.invokeFunction('convertToInteractive',\n",
              "                                                     [key], {});\n",
              "          if (!dataTable) return;\n",
              "\n",
              "          const docLinkHtml = 'Like what you see? Visit the ' +\n",
              "            '<a target=\"_blank\" href=https://colab.research.google.com/notebooks/data_table.ipynb>data table notebook</a>'\n",
              "            + ' to learn more about interactive tables.';\n",
              "          element.innerHTML = '';\n",
              "          dataTable['output_type'] = 'display_data';\n",
              "          await google.colab.output.renderOutput(dataTable, element);\n",
              "          const docLink = document.createElement('div');\n",
              "          docLink.innerHTML = docLinkHtml;\n",
              "          element.appendChild(docLink);\n",
              "        }\n",
              "      </script>\n",
              "    </div>\n",
              "  </div>\n",
              "  "
            ]
          },
          "metadata": {},
          "execution_count": 64
        }
      ]
    },
    {
      "cell_type": "code",
      "source": [
        "import plotly.express as px\n",
        "\n",
        "px.scatter_3d(df, x = 'x1', y = 'x2', z = 'x3')"
      ],
      "metadata": {
        "colab": {
          "base_uri": "https://localhost:8080/",
          "height": 542
        },
        "id": "wBbFdPet_tao",
        "outputId": "0ec6e488-533a-4408-a61c-4a5c05654a37"
      },
      "execution_count": null,
      "outputs": [
        {
          "output_type": "display_data",
          "data": {
            "text/html": [
              "<html>\n",
              "<head><meta charset=\"utf-8\" /></head>\n",
              "<body>\n",
              "    <div>            <script src=\"https://cdnjs.cloudflare.com/ajax/libs/mathjax/2.7.5/MathJax.js?config=TeX-AMS-MML_SVG\"></script><script type=\"text/javascript\">if (window.MathJax) {MathJax.Hub.Config({SVG: {font: \"STIX-Web\"}});}</script>                <script type=\"text/javascript\">window.PlotlyConfig = {MathJaxConfig: 'local'};</script>\n",
              "        <script src=\"https://cdn.plot.ly/plotly-2.8.3.min.js\"></script>                <div id=\"4317c6cb-2dfa-44be-8d3d-9a18387c25e6\" class=\"plotly-graph-div\" style=\"height:525px; width:100%;\"></div>            <script type=\"text/javascript\">                                    window.PLOTLYENV=window.PLOTLYENV || {};                                    if (document.getElementById(\"4317c6cb-2dfa-44be-8d3d-9a18387c25e6\")) {                    Plotly.newPlot(                        \"4317c6cb-2dfa-44be-8d3d-9a18387c25e6\",                        [{\"hovertemplate\":\"x1=%{x}<br>x2=%{y}<br>x3=%{z}<extra></extra>\",\"legendgroup\":\"\",\"marker\":{\"color\":\"#636efa\",\"symbol\":\"circle\"},\"mode\":\"markers\",\"name\":\"\",\"scene\":\"scene\",\"showlegend\":false,\"x\":[30,29,28,27,26,25,24,23,22,21,20,19,18,17,16,15,14,13,12,11,10,9,8,7,6,5,4,3,2,1,0,-1,-2,-3,-4,-5,-6,-7,-8],\"y\":[-30.0,-28.973684210526315,-27.94736842105263,-26.921052631578945,-25.894736842105264,-24.86842105263158,-23.84210526315789,-22.81578947368421,-21.789473684210527,-20.76315789473684,-19.73684210526316,-18.710526315789476,-17.684210526315788,-16.657894736842103,-15.63157894736842,-14.605263157894736,-13.578947368421051,-12.552631578947366,-11.52631578947368,-10.5,-9.473684210526317,-8.44736842105263,-7.421052631578945,-6.39473684210526,-5.368421052631575,-4.342105263157894,-3.315789473684209,-2.289473684210524,-1.263157894736839,-0.2368421052631539,0.7894736842105274,1.8157894736842124,2.8421052631578974,3.8684210526315823,4.894736842105267,5.921052631578952,6.947368421052637,7.973684210526322,9.0],\"z\":[3.908991434003044,18.402618459755107,22.617838995710603,7.953190915471815,16.550851994661386,6.509888592230589,7.114551419852015,18.729798880403305,26.0512539564649,6.75529371530053,21.64750697712372,24.4406425099113,12.222014654468506,5.414654730471145,25.160410245129217,28.55142337177258,18.5600229290016,10.835467643475363,2.409582397792187,28.09551153448832,17.606139953535717,26.382054704690287,0.9828865741960358,29.216803144996707,0.4942558355935322,7.182598038430449,2.062233372527935,26.411230694691085,10.638900721043518,25.589026312372027,23.484454612470707,16.936435149407178,2.193917990130193,25.661858168301748,18.55212430499003,14.286566175494892,11.623951909234126,21.152997006496506,4.489689498968782],\"type\":\"scatter3d\"}],                        {\"template\":{\"data\":{\"bar\":[{\"error_x\":{\"color\":\"#2a3f5f\"},\"error_y\":{\"color\":\"#2a3f5f\"},\"marker\":{\"line\":{\"color\":\"#E5ECF6\",\"width\":0.5},\"pattern\":{\"fillmode\":\"overlay\",\"size\":10,\"solidity\":0.2}},\"type\":\"bar\"}],\"barpolar\":[{\"marker\":{\"line\":{\"color\":\"#E5ECF6\",\"width\":0.5},\"pattern\":{\"fillmode\":\"overlay\",\"size\":10,\"solidity\":0.2}},\"type\":\"barpolar\"}],\"carpet\":[{\"aaxis\":{\"endlinecolor\":\"#2a3f5f\",\"gridcolor\":\"white\",\"linecolor\":\"white\",\"minorgridcolor\":\"white\",\"startlinecolor\":\"#2a3f5f\"},\"baxis\":{\"endlinecolor\":\"#2a3f5f\",\"gridcolor\":\"white\",\"linecolor\":\"white\",\"minorgridcolor\":\"white\",\"startlinecolor\":\"#2a3f5f\"},\"type\":\"carpet\"}],\"choropleth\":[{\"colorbar\":{\"outlinewidth\":0,\"ticks\":\"\"},\"type\":\"choropleth\"}],\"contour\":[{\"colorbar\":{\"outlinewidth\":0,\"ticks\":\"\"},\"colorscale\":[[0.0,\"#0d0887\"],[0.1111111111111111,\"#46039f\"],[0.2222222222222222,\"#7201a8\"],[0.3333333333333333,\"#9c179e\"],[0.4444444444444444,\"#bd3786\"],[0.5555555555555556,\"#d8576b\"],[0.6666666666666666,\"#ed7953\"],[0.7777777777777778,\"#fb9f3a\"],[0.8888888888888888,\"#fdca26\"],[1.0,\"#f0f921\"]],\"type\":\"contour\"}],\"contourcarpet\":[{\"colorbar\":{\"outlinewidth\":0,\"ticks\":\"\"},\"type\":\"contourcarpet\"}],\"heatmap\":[{\"colorbar\":{\"outlinewidth\":0,\"ticks\":\"\"},\"colorscale\":[[0.0,\"#0d0887\"],[0.1111111111111111,\"#46039f\"],[0.2222222222222222,\"#7201a8\"],[0.3333333333333333,\"#9c179e\"],[0.4444444444444444,\"#bd3786\"],[0.5555555555555556,\"#d8576b\"],[0.6666666666666666,\"#ed7953\"],[0.7777777777777778,\"#fb9f3a\"],[0.8888888888888888,\"#fdca26\"],[1.0,\"#f0f921\"]],\"type\":\"heatmap\"}],\"heatmapgl\":[{\"colorbar\":{\"outlinewidth\":0,\"ticks\":\"\"},\"colorscale\":[[0.0,\"#0d0887\"],[0.1111111111111111,\"#46039f\"],[0.2222222222222222,\"#7201a8\"],[0.3333333333333333,\"#9c179e\"],[0.4444444444444444,\"#bd3786\"],[0.5555555555555556,\"#d8576b\"],[0.6666666666666666,\"#ed7953\"],[0.7777777777777778,\"#fb9f3a\"],[0.8888888888888888,\"#fdca26\"],[1.0,\"#f0f921\"]],\"type\":\"heatmapgl\"}],\"histogram\":[{\"marker\":{\"pattern\":{\"fillmode\":\"overlay\",\"size\":10,\"solidity\":0.2}},\"type\":\"histogram\"}],\"histogram2d\":[{\"colorbar\":{\"outlinewidth\":0,\"ticks\":\"\"},\"colorscale\":[[0.0,\"#0d0887\"],[0.1111111111111111,\"#46039f\"],[0.2222222222222222,\"#7201a8\"],[0.3333333333333333,\"#9c179e\"],[0.4444444444444444,\"#bd3786\"],[0.5555555555555556,\"#d8576b\"],[0.6666666666666666,\"#ed7953\"],[0.7777777777777778,\"#fb9f3a\"],[0.8888888888888888,\"#fdca26\"],[1.0,\"#f0f921\"]],\"type\":\"histogram2d\"}],\"histogram2dcontour\":[{\"colorbar\":{\"outlinewidth\":0,\"ticks\":\"\"},\"colorscale\":[[0.0,\"#0d0887\"],[0.1111111111111111,\"#46039f\"],[0.2222222222222222,\"#7201a8\"],[0.3333333333333333,\"#9c179e\"],[0.4444444444444444,\"#bd3786\"],[0.5555555555555556,\"#d8576b\"],[0.6666666666666666,\"#ed7953\"],[0.7777777777777778,\"#fb9f3a\"],[0.8888888888888888,\"#fdca26\"],[1.0,\"#f0f921\"]],\"type\":\"histogram2dcontour\"}],\"mesh3d\":[{\"colorbar\":{\"outlinewidth\":0,\"ticks\":\"\"},\"type\":\"mesh3d\"}],\"parcoords\":[{\"line\":{\"colorbar\":{\"outlinewidth\":0,\"ticks\":\"\"}},\"type\":\"parcoords\"}],\"pie\":[{\"automargin\":true,\"type\":\"pie\"}],\"scatter\":[{\"marker\":{\"colorbar\":{\"outlinewidth\":0,\"ticks\":\"\"}},\"type\":\"scatter\"}],\"scatter3d\":[{\"line\":{\"colorbar\":{\"outlinewidth\":0,\"ticks\":\"\"}},\"marker\":{\"colorbar\":{\"outlinewidth\":0,\"ticks\":\"\"}},\"type\":\"scatter3d\"}],\"scattercarpet\":[{\"marker\":{\"colorbar\":{\"outlinewidth\":0,\"ticks\":\"\"}},\"type\":\"scattercarpet\"}],\"scattergeo\":[{\"marker\":{\"colorbar\":{\"outlinewidth\":0,\"ticks\":\"\"}},\"type\":\"scattergeo\"}],\"scattergl\":[{\"marker\":{\"colorbar\":{\"outlinewidth\":0,\"ticks\":\"\"}},\"type\":\"scattergl\"}],\"scattermapbox\":[{\"marker\":{\"colorbar\":{\"outlinewidth\":0,\"ticks\":\"\"}},\"type\":\"scattermapbox\"}],\"scatterpolar\":[{\"marker\":{\"colorbar\":{\"outlinewidth\":0,\"ticks\":\"\"}},\"type\":\"scatterpolar\"}],\"scatterpolargl\":[{\"marker\":{\"colorbar\":{\"outlinewidth\":0,\"ticks\":\"\"}},\"type\":\"scatterpolargl\"}],\"scatterternary\":[{\"marker\":{\"colorbar\":{\"outlinewidth\":0,\"ticks\":\"\"}},\"type\":\"scatterternary\"}],\"surface\":[{\"colorbar\":{\"outlinewidth\":0,\"ticks\":\"\"},\"colorscale\":[[0.0,\"#0d0887\"],[0.1111111111111111,\"#46039f\"],[0.2222222222222222,\"#7201a8\"],[0.3333333333333333,\"#9c179e\"],[0.4444444444444444,\"#bd3786\"],[0.5555555555555556,\"#d8576b\"],[0.6666666666666666,\"#ed7953\"],[0.7777777777777778,\"#fb9f3a\"],[0.8888888888888888,\"#fdca26\"],[1.0,\"#f0f921\"]],\"type\":\"surface\"}],\"table\":[{\"cells\":{\"fill\":{\"color\":\"#EBF0F8\"},\"line\":{\"color\":\"white\"}},\"header\":{\"fill\":{\"color\":\"#C8D4E3\"},\"line\":{\"color\":\"white\"}},\"type\":\"table\"}]},\"layout\":{\"annotationdefaults\":{\"arrowcolor\":\"#2a3f5f\",\"arrowhead\":0,\"arrowwidth\":1},\"autotypenumbers\":\"strict\",\"coloraxis\":{\"colorbar\":{\"outlinewidth\":0,\"ticks\":\"\"}},\"colorscale\":{\"diverging\":[[0,\"#8e0152\"],[0.1,\"#c51b7d\"],[0.2,\"#de77ae\"],[0.3,\"#f1b6da\"],[0.4,\"#fde0ef\"],[0.5,\"#f7f7f7\"],[0.6,\"#e6f5d0\"],[0.7,\"#b8e186\"],[0.8,\"#7fbc41\"],[0.9,\"#4d9221\"],[1,\"#276419\"]],\"sequential\":[[0.0,\"#0d0887\"],[0.1111111111111111,\"#46039f\"],[0.2222222222222222,\"#7201a8\"],[0.3333333333333333,\"#9c179e\"],[0.4444444444444444,\"#bd3786\"],[0.5555555555555556,\"#d8576b\"],[0.6666666666666666,\"#ed7953\"],[0.7777777777777778,\"#fb9f3a\"],[0.8888888888888888,\"#fdca26\"],[1.0,\"#f0f921\"]],\"sequentialminus\":[[0.0,\"#0d0887\"],[0.1111111111111111,\"#46039f\"],[0.2222222222222222,\"#7201a8\"],[0.3333333333333333,\"#9c179e\"],[0.4444444444444444,\"#bd3786\"],[0.5555555555555556,\"#d8576b\"],[0.6666666666666666,\"#ed7953\"],[0.7777777777777778,\"#fb9f3a\"],[0.8888888888888888,\"#fdca26\"],[1.0,\"#f0f921\"]]},\"colorway\":[\"#636efa\",\"#EF553B\",\"#00cc96\",\"#ab63fa\",\"#FFA15A\",\"#19d3f3\",\"#FF6692\",\"#B6E880\",\"#FF97FF\",\"#FECB52\"],\"font\":{\"color\":\"#2a3f5f\"},\"geo\":{\"bgcolor\":\"white\",\"lakecolor\":\"white\",\"landcolor\":\"#E5ECF6\",\"showlakes\":true,\"showland\":true,\"subunitcolor\":\"white\"},\"hoverlabel\":{\"align\":\"left\"},\"hovermode\":\"closest\",\"mapbox\":{\"style\":\"light\"},\"paper_bgcolor\":\"white\",\"plot_bgcolor\":\"#E5ECF6\",\"polar\":{\"angularaxis\":{\"gridcolor\":\"white\",\"linecolor\":\"white\",\"ticks\":\"\"},\"bgcolor\":\"#E5ECF6\",\"radialaxis\":{\"gridcolor\":\"white\",\"linecolor\":\"white\",\"ticks\":\"\"}},\"scene\":{\"xaxis\":{\"backgroundcolor\":\"#E5ECF6\",\"gridcolor\":\"white\",\"gridwidth\":2,\"linecolor\":\"white\",\"showbackground\":true,\"ticks\":\"\",\"zerolinecolor\":\"white\"},\"yaxis\":{\"backgroundcolor\":\"#E5ECF6\",\"gridcolor\":\"white\",\"gridwidth\":2,\"linecolor\":\"white\",\"showbackground\":true,\"ticks\":\"\",\"zerolinecolor\":\"white\"},\"zaxis\":{\"backgroundcolor\":\"#E5ECF6\",\"gridcolor\":\"white\",\"gridwidth\":2,\"linecolor\":\"white\",\"showbackground\":true,\"ticks\":\"\",\"zerolinecolor\":\"white\"}},\"shapedefaults\":{\"line\":{\"color\":\"#2a3f5f\"}},\"ternary\":{\"aaxis\":{\"gridcolor\":\"white\",\"linecolor\":\"white\",\"ticks\":\"\"},\"baxis\":{\"gridcolor\":\"white\",\"linecolor\":\"white\",\"ticks\":\"\"},\"bgcolor\":\"#E5ECF6\",\"caxis\":{\"gridcolor\":\"white\",\"linecolor\":\"white\",\"ticks\":\"\"}},\"title\":{\"x\":0.05},\"xaxis\":{\"automargin\":true,\"gridcolor\":\"white\",\"linecolor\":\"white\",\"ticks\":\"\",\"title\":{\"standoff\":15},\"zerolinecolor\":\"white\",\"zerolinewidth\":2},\"yaxis\":{\"automargin\":true,\"gridcolor\":\"white\",\"linecolor\":\"white\",\"ticks\":\"\",\"title\":{\"standoff\":15},\"zerolinecolor\":\"white\",\"zerolinewidth\":2}}},\"scene\":{\"domain\":{\"x\":[0.0,1.0],\"y\":[0.0,1.0]},\"xaxis\":{\"title\":{\"text\":\"x1\"}},\"yaxis\":{\"title\":{\"text\":\"x2\"}},\"zaxis\":{\"title\":{\"text\":\"x3\"}}},\"legend\":{\"tracegroupgap\":0},\"margin\":{\"t\":60}},                        {\"responsive\": true}                    ).then(function(){\n",
              "                            \n",
              "var gd = document.getElementById('4317c6cb-2dfa-44be-8d3d-9a18387c25e6');\n",
              "var x = new MutationObserver(function (mutations, observer) {{\n",
              "        var display = window.getComputedStyle(gd).display;\n",
              "        if (!display || display === 'none') {{\n",
              "            console.log([gd, 'removed!']);\n",
              "            Plotly.purge(gd);\n",
              "            observer.disconnect();\n",
              "        }}\n",
              "}});\n",
              "\n",
              "// Listen for the removal of the full notebook cells\n",
              "var notebookContainer = gd.closest('#notebook-container');\n",
              "if (notebookContainer) {{\n",
              "    x.observe(notebookContainer, {childList: true});\n",
              "}}\n",
              "\n",
              "// Listen for the clearing of the current output cell\n",
              "var outputEl = gd.closest('.output');\n",
              "if (outputEl) {{\n",
              "    x.observe(outputEl, {childList: true});\n",
              "}}\n",
              "\n",
              "                        })                };                            </script>        </div>\n",
              "</body>\n",
              "</html>"
            ]
          },
          "metadata": {}
        }
      ]
    },
    {
      "cell_type": "markdown",
      "source": [
        "**Split X and Y**"
      ],
      "metadata": {
        "id": "YVufCicMPAXr"
      }
    },
    {
      "cell_type": "code",
      "source": [
        "X = df.drop(\"Y\",axis=1)\n",
        "y = df[\"Y\"]"
      ],
      "metadata": {
        "id": "vNABX_4cEIPY"
      },
      "execution_count": null,
      "outputs": []
    },
    {
      "cell_type": "markdown",
      "source": [
        "**Now Think of It and add some new features**\n",
        "\n",
        "HINT\n",
        "\n",
        "\n",
        "\n",
        "*   **PolynomialFeatures** of degree 10\n",
        "*   **e ^ x**\n",
        "*   **log**\n",
        "\n",
        "\n",
        "\n",
        "\n",
        "\n",
        "\n",
        "\n"
      ],
      "metadata": {
        "id": "U5Ju5KA8Fb1T"
      }
    },
    {
      "cell_type": "code",
      "source": [
        "from sklearn.preprocessing import PolynomialFeatures\n",
        "\n",
        "p = PolynomialFeatures(degree = 10)\n",
        "X = p.fit_transform(X)"
      ],
      "metadata": {
        "id": "LHo-ZyztFnw-"
      },
      "execution_count": null,
      "outputs": []
    },
    {
      "cell_type": "markdown",
      "source": [
        "**add some e^x feature**"
      ],
      "metadata": {
        "id": "SNuJ_DnWPQt-"
      }
    },
    {
      "cell_type": "code",
      "source": [
        "tmp = df['x1'].values\n",
        "\n",
        "X = np.hstack([X, np.exp(tmp).reshape(-1, 1)])"
      ],
      "metadata": {
        "id": "f0zKN7cOF-qV"
      },
      "execution_count": null,
      "outputs": []
    },
    {
      "cell_type": "code",
      "source": [
        "tmp2 = df['x2'].values"
      ],
      "metadata": {
        "id": "r00ToOrHGPp8"
      },
      "execution_count": null,
      "outputs": []
    },
    {
      "cell_type": "code",
      "source": [
        "X = np.hstack([X, np.exp(tmp2).reshape(-1, 1)])"
      ],
      "metadata": {
        "id": "4M0dvQ32GP02"
      },
      "execution_count": null,
      "outputs": []
    },
    {
      "cell_type": "code",
      "source": [
        "tmp3 = df['x3'].values\n",
        "X = np.hstack([X, np.exp(tmp3).reshape(-1, 1)])"
      ],
      "metadata": {
        "id": "qOiGD4tJBigs"
      },
      "execution_count": null,
      "outputs": []
    },
    {
      "cell_type": "markdown",
      "source": [
        "**Add log feature if possible**"
      ],
      "metadata": {
        "id": "HgQJkmiRPVr_"
      }
    },
    {
      "cell_type": "code",
      "source": [
        "lg1 = df['x3'].values\n",
        "X = np.hstack([X, np.log2(lg1).reshape(-1, 1)])"
      ],
      "metadata": {
        "id": "vWwf4bjt_tin"
      },
      "execution_count": null,
      "outputs": []
    },
    {
      "cell_type": "code",
      "source": [
        "\n",
        "X = pd.DataFrame(X)"
      ],
      "metadata": {
        "id": "f-gHXe60Boxi"
      },
      "execution_count": null,
      "outputs": []
    },
    {
      "cell_type": "code",
      "source": [
        "X"
      ],
      "metadata": {
        "colab": {
          "base_uri": "https://localhost:8080/",
          "height": 1000
        },
        "id": "G4r8M-EiBrFX",
        "outputId": "30b599d5-7b43-4dda-dc78-bdc03d9d7941"
      },
      "execution_count": null,
      "outputs": [
        {
          "output_type": "execute_result",
          "data": {
            "text/plain": [
              "    0     1          2          3      4           5           6    \\\n",
              "0   1.0  30.0 -30.000000   3.908991  900.0 -900.000000  117.269743   \n",
              "1   1.0  29.0 -28.973684  18.402618  841.0 -840.236842  533.675935   \n",
              "2   1.0  28.0 -27.947368  22.617839  784.0 -782.526316  633.299492   \n",
              "3   1.0  27.0 -26.921053   7.953191  729.0 -726.868421  214.736155   \n",
              "4   1.0  26.0 -25.894737  16.550852  676.0 -673.263158  430.322152   \n",
              "5   1.0  25.0 -24.868421   6.509889  625.0 -621.710526  162.747215   \n",
              "6   1.0  24.0 -23.842105   7.114551  576.0 -572.210526  170.749234   \n",
              "7   1.0  23.0 -22.815789  18.729799  529.0 -524.763158  430.785374   \n",
              "8   1.0  22.0 -21.789474  26.051254  484.0 -479.368421  573.127587   \n",
              "9   1.0  21.0 -20.763158   6.755294  441.0 -436.026316  141.861168   \n",
              "10  1.0  20.0 -19.736842  21.647507  400.0 -394.736842  432.950140   \n",
              "11  1.0  19.0 -18.710526  24.440643  361.0 -355.500000  464.372208   \n",
              "12  1.0  18.0 -17.684211  12.222015  324.0 -318.315789  219.996264   \n",
              "13  1.0  17.0 -16.657895   5.414655  289.0 -283.184211   92.049130   \n",
              "14  1.0  16.0 -15.631579  25.160410  256.0 -250.105263  402.566564   \n",
              "15  1.0  15.0 -14.605263  28.551423  225.0 -219.078947  428.271351   \n",
              "16  1.0  14.0 -13.578947  18.560023  196.0 -190.105263  259.840321   \n",
              "17  1.0  13.0 -12.552632  10.835468  169.0 -163.184211  140.861079   \n",
              "18  1.0  12.0 -11.526316   2.409582  144.0 -138.315789   28.914989   \n",
              "19  1.0  11.0 -10.500000  28.095512  121.0 -115.500000  309.050627   \n",
              "20  1.0  10.0  -9.473684  17.606140  100.0  -94.736842  176.061400   \n",
              "21  1.0   9.0  -8.447368  26.382055   81.0  -76.026316  237.438492   \n",
              "22  1.0   8.0  -7.421053   0.982887   64.0  -59.368421    7.863093   \n",
              "23  1.0   7.0  -6.394737  29.216803   49.0  -44.763158  204.517622   \n",
              "24  1.0   6.0  -5.368421   0.494256   36.0  -32.210526    2.965535   \n",
              "25  1.0   5.0  -4.342105   7.182598   25.0  -21.710526   35.912990   \n",
              "26  1.0   4.0  -3.315789   2.062233   16.0  -13.263158    8.248933   \n",
              "27  1.0   3.0  -2.289474  26.411231    9.0   -6.868421   79.233692   \n",
              "28  1.0   2.0  -1.263158  10.638901    4.0   -2.526316   21.277801   \n",
              "29  1.0   1.0  -0.236842  25.589026    1.0   -0.236842   25.589026   \n",
              "30  1.0   0.0   0.789474  23.484455    0.0    0.000000    0.000000   \n",
              "31  1.0  -1.0   1.815789  16.936435    1.0   -1.815789  -16.936435   \n",
              "32  1.0  -2.0   2.842105   2.193918    4.0   -5.684211   -4.387836   \n",
              "33  1.0  -3.0   3.868421  25.661858    9.0  -11.605263  -76.985575   \n",
              "34  1.0  -4.0   4.894737  18.552124   16.0  -19.578947  -74.208497   \n",
              "35  1.0  -5.0   5.921053  14.286566   25.0  -29.605263  -71.432831   \n",
              "36  1.0  -6.0   6.947368  11.623952   36.0  -41.684211  -69.743711   \n",
              "37  1.0  -7.0   7.973684  21.152997   49.0  -55.815789 -148.070979   \n",
              "38  1.0  -8.0   9.000000   4.489689   64.0  -72.000000  -35.917516   \n",
              "\n",
              "           7           8           9    ...           280           281  \\\n",
              "0   900.000000 -117.269743   15.280214  ... -2.217838e+10  2.889837e+09   \n",
              "1   839.474377 -533.191656  338.656366  ... -4.309399e+13  2.737112e+13   \n",
              "2   781.055402 -632.109079  511.566641  ... -1.009160e+14  8.167146e+13   \n",
              "3   724.743075 -214.108271   63.253246  ... -4.499531e+11  1.329280e+11   \n",
              "4   670.537396 -428.579957  273.930702  ... -1.445970e+13  9.242046e+12   \n",
              "5   618.438366 -161.890651   42.378649  ... -1.112010e+11  2.910946e+10   \n",
              "6   568.445983 -169.625884   50.616842  ... -1.404302e+11  4.190478e+10   \n",
              "7   520.560249 -427.335148  350.805366  ... -1.425093e+13  1.169878e+13   \n",
              "8   474.781163 -567.643113  678.667833  ... -5.893549e+13  7.046261e+13   \n",
              "9   431.108726 -140.261230   45.633993  ... -5.428605e+10  1.766197e+10   \n",
              "10  389.542936 -427.253427  468.614558  ... -1.423730e+13  1.561558e+13   \n",
              "11  350.083795 -457.297285  597.345006  ... -1.999830e+13  2.612280e+13   \n",
              "12  312.731302 -216.136680  149.377642  ... -4.716745e+11  3.259864e+11   \n",
              "13  277.485457  -90.196749   29.318486  ... -5.969726e+09  1.940462e+09   \n",
              "14  244.346260 -393.296939  633.046244  ... -9.410286e+12  1.514669e+13   \n",
              "15  213.313712 -417.001052  815.183777  ... -1.260915e+13  2.464927e+13   \n",
              "16  184.387812 -252.025575  344.474451  ... -1.016771e+12  1.389746e+12   \n",
              "17  157.568560 -136.013633  117.407359  ... -4.654920e+10  4.018140e+10   \n",
              "18  132.855956  -27.773608    5.806087  ... -1.652576e+07  3.454719e+06   \n",
              "19  110.250000 -295.002871  789.357768  ... -2.234247e+12  5.978316e+12   \n",
              "20   89.750693 -166.795010  309.976164  ... -1.290967e+11  2.399167e+11   \n",
              "21   71.358033 -222.858936  696.012810  ... -5.497310e+11  1.716870e+12   \n",
              "22   55.072022   -7.294053    0.966066  ... -2.064641e+04  2.734529e+03   \n",
              "23   40.892659 -186.833767  853.621586  ... -2.276548e+11  1.040128e+12   \n",
              "24   28.819945   -2.653373    0.244289  ... -1.315200e+02  1.210869e+01   \n",
              "25   18.853878  -31.187597   51.589715  ... -2.950595e+07  4.880797e+07   \n",
              "26   10.994460   -6.837932    4.252806  ... -1.494940e+04  9.297681e+03   \n",
              "27    5.241690  -60.467818  697.553107  ... -8.083910e+08  9.325550e+09   \n",
              "28    1.595568  -13.438611  113.186209  ... -4.383005e+05  3.691570e+06   \n",
              "29    0.056094   -6.060559  654.798268  ... -8.176423e+03  8.834017e+05   \n",
              "30    0.623269   18.540359  551.519608  ...  2.190739e+06  6.516787e+07   \n",
              "31    3.297091   30.753001  286.842836  ...  2.750664e+07  2.565630e+08   \n",
              "32    8.077562    6.235346    4.813276  ...  9.425464e+03  7.275837e+03   \n",
              "33   14.964681   99.270872  658.530965  ...  9.640714e+09  6.395339e+10   \n",
              "34   23.958449   90.807766  344.181316  ...  6.174687e+09  2.340342e+10   \n",
              "35   35.058864   84.591510  204.105973  ...  4.331456e+09  1.045112e+10   \n",
              "36   48.265928   80.755876  135.116258  ...  3.434557e+09  5.746510e+09   \n",
              "37   63.579640  168.667318  447.449282  ...  1.365069e+11  3.621326e+11   \n",
              "38   81.000000   40.407205   20.157312  ...  1.077194e+08  5.373631e+07   \n",
              "\n",
              "             282           283           284           285           286  \\\n",
              "0  -3.765449e+08  4.906370e+07 -6.392986e+06  8.330042e+05  1.068647e+13   \n",
              "1  -1.738475e+13  1.104192e+13 -7.013266e+12  4.454472e+12  3.931334e+12   \n",
              "2  -6.609681e+13  5.349223e+13 -4.329133e+13  3.503572e+13  1.446257e+12   \n",
              "3  -3.927046e+10  1.160153e+10 -3.427399e+09  1.012544e+09  5.320482e+11   \n",
              "4  -5.907136e+12  3.775599e+12 -2.413208e+12  1.542423e+12  1.957296e+11   \n",
              "5  -7.620080e+09  1.994733e+09 -5.221680e+08  1.366896e+08  7.200490e+10   \n",
              "6  -1.250450e+10  3.731379e+09 -1.113454e+09  3.322578e+08  2.648912e+10   \n",
              "7  -9.603694e+12  7.883806e+12 -6.471926e+12  5.312894e+12  9.744803e+09   \n",
              "8  -8.424432e+13  1.007216e+14 -1.204216e+14  1.439747e+14  3.584913e+09   \n",
              "9  -5.746321e+09  1.869566e+09 -6.082632e+08  1.978984e+08  1.318816e+09   \n",
              "10 -1.712727e+13  1.878531e+13 -2.060386e+13  2.259846e+13  4.851652e+08   \n",
              "11 -3.412293e+13  4.457311e+13 -5.822367e+13  7.605472e+13  1.784823e+08   \n",
              "12 -2.252976e+11  1.557090e+11 -1.076145e+11  7.437518e+10  6.565997e+07   \n",
              "13 -6.307478e+08  2.050248e+08 -6.664338e+07  2.166246e+07  2.415495e+07   \n",
              "14 -2.437994e+13  3.924167e+13 -6.316294e+13  1.016663e+14  8.886111e+06   \n",
              "15 -4.818618e+13  9.419783e+13 -1.841447e+14  3.599794e+14  3.269017e+06   \n",
              "16 -1.899538e+12  2.596332e+12 -3.548728e+12  4.850484e+12  1.202604e+06   \n",
              "17 -3.468470e+10  2.993993e+10 -2.584424e+10  2.230882e+10  4.424134e+05   \n",
              "18 -7.222109e+05  1.509786e+05 -3.156215e+04  6.598084e+03  1.627548e+05   \n",
              "19 -1.599656e+13  4.280299e+13 -1.145307e+14  3.064569e+14  5.987414e+04   \n",
              "20 -4.458674e+11  8.286116e+11 -1.539913e+12  2.861815e+12  2.202647e+04   \n",
              "21 -5.361973e+12  1.674603e+13 -5.229967e+13  1.633376e+14  8.103084e+03   \n",
              "22 -3.621766e+02  4.796873e+01 -6.353253e+00  8.414611e-01  2.980958e+03   \n",
              "23 -4.752224e+12  2.171235e+13 -9.920120e+13  4.532387e+14  1.096633e+03   \n",
              "24 -1.114814e+00  1.026379e-01 -9.449587e-03  8.699976e-04  4.034288e+02   \n",
              "25 -8.073688e+07  1.335529e+08 -2.209197e+08  3.654396e+08  1.484132e+02   \n",
              "26 -5.782632e+03  3.596470e+03 -2.236800e+03  1.391163e+03  5.459815e+01   \n",
              "27 -1.075790e+11  1.241025e+12 -1.431639e+13  1.651530e+14  2.008554e+01   \n",
              "28 -3.109211e+07  2.618722e+08 -2.205609e+09  1.857666e+10  7.389056e+00   \n",
              "29 -9.544497e+07  1.031212e+10 -1.114148e+12  1.203754e+14  2.718282e+00   \n",
              "30  1.938547e+09  5.766591e+10  1.715386e+12  5.102756e+13  1.000000e+00   \n",
              "31  2.393043e+09  2.232066e+10  2.081918e+11  1.941869e+12  3.678794e-01   \n",
              "32  5.616467e+03  4.335542e+03  3.346753e+03  2.583473e+03  1.353353e-01   \n",
              "33  4.242462e+11  2.814312e+12  1.866924e+13  1.238457e+14  4.978707e-02   \n",
              "34  8.870407e+10  3.362079e+11  1.274301e+12  4.829881e+12  1.831564e-02   \n",
              "35  2.521690e+10  6.084441e+10  1.468080e+11  3.542245e+11  6.737947e-03   \n",
              "36  9.614742e+09  1.608685e+10  2.691563e+10  4.503374e+10  2.478752e-03   \n",
              "37  9.606838e+11  2.548551e+12  6.760926e+12  1.793573e+13  9.118820e-04   \n",
              "38  2.680660e+07  1.337259e+07  6.670974e+06  3.327845e+06  3.354626e-04   \n",
              "\n",
              "             287           288       289  \n",
              "0   9.357623e-14  4.984865e+01  1.966796  \n",
              "1   2.611493e-13  9.820999e+07  4.201839  \n",
              "2   7.288063e-13  6.649709e+09  4.499389  \n",
              "3   2.033927e-12  2.844637e+03  2.991534  \n",
              "4   5.676213e-12  1.541501e+07  4.048834  \n",
              "5   1.584098e-11  6.717516e+02  2.702633  \n",
              "6   4.420845e-11  1.229732e+03  2.830773  \n",
              "7   1.233754e-10  1.362223e+08  4.227264  \n",
              "8   3.443117e-10  2.060231e+11  4.703281  \n",
              "9   9.608932e-10  8.585919e+02  2.756018  \n",
              "10  2.681627e-09  2.519955e+09  4.436129  \n",
              "11  7.483791e-09  4.115629e+10  4.611210  \n",
              "12  2.088550e-08  2.032140e+05  3.611410  \n",
              "13  5.828653e-08  2.246750e+02  2.436869  \n",
              "14  1.626640e-07  8.453320e+10  4.653084  \n",
              "15  4.539571e-07  2.510300e+12  4.835491  \n",
              "16  1.266888e-06  1.149517e+08  4.214127  \n",
              "17  3.535586e-06  5.079065e+04  3.437690  \n",
              "18  9.866989e-06  1.112931e+01  1.268783  \n",
              "19  2.753645e-05  1.591203e+12  4.812268  \n",
              "20  7.684776e-05  4.428426e+07  4.138007  \n",
              "21  2.144641e-04  2.868011e+11  4.721485  \n",
              "22  5.985188e-04  2.672159e+00 -0.024903  \n",
              "23  1.670325e-03  4.883109e+12  4.868726  \n",
              "24  4.661486e-03  1.639278e+00 -1.016670  \n",
              "25  1.300911e-02  1.316324e+03  2.844506  \n",
              "26  3.630538e-02  7.863512e+00  1.044208  \n",
              "27  1.013198e-01  2.952920e+11  4.723080  \n",
              "28  2.827597e-01  4.172688e+04  3.411277  \n",
              "29  7.891159e-01  1.297696e+11  4.677453  \n",
              "30  2.202237e+00  1.581864e+10  4.553634  \n",
              "31  6.145926e+00  2.266733e+07  4.082058  \n",
              "32  1.715184e+01  8.970290e+00  1.133510  \n",
              "33  4.786675e+01  1.395736e+11  4.681554  \n",
              "34  1.335848e+02  1.140474e+08  4.213512  \n",
              "35  3.728039e+02  1.601684e+06  3.836587  \n",
              "36  1.040408e+03  1.117424e+05  3.539029  \n",
              "37  2.903535e+03  1.536844e+09  4.402790  \n",
              "38  8.103084e+03  8.909378e+01  2.166616  \n",
              "\n",
              "[39 rows x 290 columns]"
            ],
            "text/html": [
              "\n",
              "  <div id=\"df-31a94474-4f08-4d18-b859-ae3f429c508c\">\n",
              "    <div class=\"colab-df-container\">\n",
              "      <div>\n",
              "<style scoped>\n",
              "    .dataframe tbody tr th:only-of-type {\n",
              "        vertical-align: middle;\n",
              "    }\n",
              "\n",
              "    .dataframe tbody tr th {\n",
              "        vertical-align: top;\n",
              "    }\n",
              "\n",
              "    .dataframe thead th {\n",
              "        text-align: right;\n",
              "    }\n",
              "</style>\n",
              "<table border=\"1\" class=\"dataframe\">\n",
              "  <thead>\n",
              "    <tr style=\"text-align: right;\">\n",
              "      <th></th>\n",
              "      <th>0</th>\n",
              "      <th>1</th>\n",
              "      <th>2</th>\n",
              "      <th>3</th>\n",
              "      <th>4</th>\n",
              "      <th>5</th>\n",
              "      <th>6</th>\n",
              "      <th>7</th>\n",
              "      <th>8</th>\n",
              "      <th>9</th>\n",
              "      <th>...</th>\n",
              "      <th>280</th>\n",
              "      <th>281</th>\n",
              "      <th>282</th>\n",
              "      <th>283</th>\n",
              "      <th>284</th>\n",
              "      <th>285</th>\n",
              "      <th>286</th>\n",
              "      <th>287</th>\n",
              "      <th>288</th>\n",
              "      <th>289</th>\n",
              "    </tr>\n",
              "  </thead>\n",
              "  <tbody>\n",
              "    <tr>\n",
              "      <th>0</th>\n",
              "      <td>1.0</td>\n",
              "      <td>30.0</td>\n",
              "      <td>-30.000000</td>\n",
              "      <td>3.908991</td>\n",
              "      <td>900.0</td>\n",
              "      <td>-900.000000</td>\n",
              "      <td>117.269743</td>\n",
              "      <td>900.000000</td>\n",
              "      <td>-117.269743</td>\n",
              "      <td>15.280214</td>\n",
              "      <td>...</td>\n",
              "      <td>-2.217838e+10</td>\n",
              "      <td>2.889837e+09</td>\n",
              "      <td>-3.765449e+08</td>\n",
              "      <td>4.906370e+07</td>\n",
              "      <td>-6.392986e+06</td>\n",
              "      <td>8.330042e+05</td>\n",
              "      <td>1.068647e+13</td>\n",
              "      <td>9.357623e-14</td>\n",
              "      <td>4.984865e+01</td>\n",
              "      <td>1.966796</td>\n",
              "    </tr>\n",
              "    <tr>\n",
              "      <th>1</th>\n",
              "      <td>1.0</td>\n",
              "      <td>29.0</td>\n",
              "      <td>-28.973684</td>\n",
              "      <td>18.402618</td>\n",
              "      <td>841.0</td>\n",
              "      <td>-840.236842</td>\n",
              "      <td>533.675935</td>\n",
              "      <td>839.474377</td>\n",
              "      <td>-533.191656</td>\n",
              "      <td>338.656366</td>\n",
              "      <td>...</td>\n",
              "      <td>-4.309399e+13</td>\n",
              "      <td>2.737112e+13</td>\n",
              "      <td>-1.738475e+13</td>\n",
              "      <td>1.104192e+13</td>\n",
              "      <td>-7.013266e+12</td>\n",
              "      <td>4.454472e+12</td>\n",
              "      <td>3.931334e+12</td>\n",
              "      <td>2.611493e-13</td>\n",
              "      <td>9.820999e+07</td>\n",
              "      <td>4.201839</td>\n",
              "    </tr>\n",
              "    <tr>\n",
              "      <th>2</th>\n",
              "      <td>1.0</td>\n",
              "      <td>28.0</td>\n",
              "      <td>-27.947368</td>\n",
              "      <td>22.617839</td>\n",
              "      <td>784.0</td>\n",
              "      <td>-782.526316</td>\n",
              "      <td>633.299492</td>\n",
              "      <td>781.055402</td>\n",
              "      <td>-632.109079</td>\n",
              "      <td>511.566641</td>\n",
              "      <td>...</td>\n",
              "      <td>-1.009160e+14</td>\n",
              "      <td>8.167146e+13</td>\n",
              "      <td>-6.609681e+13</td>\n",
              "      <td>5.349223e+13</td>\n",
              "      <td>-4.329133e+13</td>\n",
              "      <td>3.503572e+13</td>\n",
              "      <td>1.446257e+12</td>\n",
              "      <td>7.288063e-13</td>\n",
              "      <td>6.649709e+09</td>\n",
              "      <td>4.499389</td>\n",
              "    </tr>\n",
              "    <tr>\n",
              "      <th>3</th>\n",
              "      <td>1.0</td>\n",
              "      <td>27.0</td>\n",
              "      <td>-26.921053</td>\n",
              "      <td>7.953191</td>\n",
              "      <td>729.0</td>\n",
              "      <td>-726.868421</td>\n",
              "      <td>214.736155</td>\n",
              "      <td>724.743075</td>\n",
              "      <td>-214.108271</td>\n",
              "      <td>63.253246</td>\n",
              "      <td>...</td>\n",
              "      <td>-4.499531e+11</td>\n",
              "      <td>1.329280e+11</td>\n",
              "      <td>-3.927046e+10</td>\n",
              "      <td>1.160153e+10</td>\n",
              "      <td>-3.427399e+09</td>\n",
              "      <td>1.012544e+09</td>\n",
              "      <td>5.320482e+11</td>\n",
              "      <td>2.033927e-12</td>\n",
              "      <td>2.844637e+03</td>\n",
              "      <td>2.991534</td>\n",
              "    </tr>\n",
              "    <tr>\n",
              "      <th>4</th>\n",
              "      <td>1.0</td>\n",
              "      <td>26.0</td>\n",
              "      <td>-25.894737</td>\n",
              "      <td>16.550852</td>\n",
              "      <td>676.0</td>\n",
              "      <td>-673.263158</td>\n",
              "      <td>430.322152</td>\n",
              "      <td>670.537396</td>\n",
              "      <td>-428.579957</td>\n",
              "      <td>273.930702</td>\n",
              "      <td>...</td>\n",
              "      <td>-1.445970e+13</td>\n",
              "      <td>9.242046e+12</td>\n",
              "      <td>-5.907136e+12</td>\n",
              "      <td>3.775599e+12</td>\n",
              "      <td>-2.413208e+12</td>\n",
              "      <td>1.542423e+12</td>\n",
              "      <td>1.957296e+11</td>\n",
              "      <td>5.676213e-12</td>\n",
              "      <td>1.541501e+07</td>\n",
              "      <td>4.048834</td>\n",
              "    </tr>\n",
              "    <tr>\n",
              "      <th>5</th>\n",
              "      <td>1.0</td>\n",
              "      <td>25.0</td>\n",
              "      <td>-24.868421</td>\n",
              "      <td>6.509889</td>\n",
              "      <td>625.0</td>\n",
              "      <td>-621.710526</td>\n",
              "      <td>162.747215</td>\n",
              "      <td>618.438366</td>\n",
              "      <td>-161.890651</td>\n",
              "      <td>42.378649</td>\n",
              "      <td>...</td>\n",
              "      <td>-1.112010e+11</td>\n",
              "      <td>2.910946e+10</td>\n",
              "      <td>-7.620080e+09</td>\n",
              "      <td>1.994733e+09</td>\n",
              "      <td>-5.221680e+08</td>\n",
              "      <td>1.366896e+08</td>\n",
              "      <td>7.200490e+10</td>\n",
              "      <td>1.584098e-11</td>\n",
              "      <td>6.717516e+02</td>\n",
              "      <td>2.702633</td>\n",
              "    </tr>\n",
              "    <tr>\n",
              "      <th>6</th>\n",
              "      <td>1.0</td>\n",
              "      <td>24.0</td>\n",
              "      <td>-23.842105</td>\n",
              "      <td>7.114551</td>\n",
              "      <td>576.0</td>\n",
              "      <td>-572.210526</td>\n",
              "      <td>170.749234</td>\n",
              "      <td>568.445983</td>\n",
              "      <td>-169.625884</td>\n",
              "      <td>50.616842</td>\n",
              "      <td>...</td>\n",
              "      <td>-1.404302e+11</td>\n",
              "      <td>4.190478e+10</td>\n",
              "      <td>-1.250450e+10</td>\n",
              "      <td>3.731379e+09</td>\n",
              "      <td>-1.113454e+09</td>\n",
              "      <td>3.322578e+08</td>\n",
              "      <td>2.648912e+10</td>\n",
              "      <td>4.420845e-11</td>\n",
              "      <td>1.229732e+03</td>\n",
              "      <td>2.830773</td>\n",
              "    </tr>\n",
              "    <tr>\n",
              "      <th>7</th>\n",
              "      <td>1.0</td>\n",
              "      <td>23.0</td>\n",
              "      <td>-22.815789</td>\n",
              "      <td>18.729799</td>\n",
              "      <td>529.0</td>\n",
              "      <td>-524.763158</td>\n",
              "      <td>430.785374</td>\n",
              "      <td>520.560249</td>\n",
              "      <td>-427.335148</td>\n",
              "      <td>350.805366</td>\n",
              "      <td>...</td>\n",
              "      <td>-1.425093e+13</td>\n",
              "      <td>1.169878e+13</td>\n",
              "      <td>-9.603694e+12</td>\n",
              "      <td>7.883806e+12</td>\n",
              "      <td>-6.471926e+12</td>\n",
              "      <td>5.312894e+12</td>\n",
              "      <td>9.744803e+09</td>\n",
              "      <td>1.233754e-10</td>\n",
              "      <td>1.362223e+08</td>\n",
              "      <td>4.227264</td>\n",
              "    </tr>\n",
              "    <tr>\n",
              "      <th>8</th>\n",
              "      <td>1.0</td>\n",
              "      <td>22.0</td>\n",
              "      <td>-21.789474</td>\n",
              "      <td>26.051254</td>\n",
              "      <td>484.0</td>\n",
              "      <td>-479.368421</td>\n",
              "      <td>573.127587</td>\n",
              "      <td>474.781163</td>\n",
              "      <td>-567.643113</td>\n",
              "      <td>678.667833</td>\n",
              "      <td>...</td>\n",
              "      <td>-5.893549e+13</td>\n",
              "      <td>7.046261e+13</td>\n",
              "      <td>-8.424432e+13</td>\n",
              "      <td>1.007216e+14</td>\n",
              "      <td>-1.204216e+14</td>\n",
              "      <td>1.439747e+14</td>\n",
              "      <td>3.584913e+09</td>\n",
              "      <td>3.443117e-10</td>\n",
              "      <td>2.060231e+11</td>\n",
              "      <td>4.703281</td>\n",
              "    </tr>\n",
              "    <tr>\n",
              "      <th>9</th>\n",
              "      <td>1.0</td>\n",
              "      <td>21.0</td>\n",
              "      <td>-20.763158</td>\n",
              "      <td>6.755294</td>\n",
              "      <td>441.0</td>\n",
              "      <td>-436.026316</td>\n",
              "      <td>141.861168</td>\n",
              "      <td>431.108726</td>\n",
              "      <td>-140.261230</td>\n",
              "      <td>45.633993</td>\n",
              "      <td>...</td>\n",
              "      <td>-5.428605e+10</td>\n",
              "      <td>1.766197e+10</td>\n",
              "      <td>-5.746321e+09</td>\n",
              "      <td>1.869566e+09</td>\n",
              "      <td>-6.082632e+08</td>\n",
              "      <td>1.978984e+08</td>\n",
              "      <td>1.318816e+09</td>\n",
              "      <td>9.608932e-10</td>\n",
              "      <td>8.585919e+02</td>\n",
              "      <td>2.756018</td>\n",
              "    </tr>\n",
              "    <tr>\n",
              "      <th>10</th>\n",
              "      <td>1.0</td>\n",
              "      <td>20.0</td>\n",
              "      <td>-19.736842</td>\n",
              "      <td>21.647507</td>\n",
              "      <td>400.0</td>\n",
              "      <td>-394.736842</td>\n",
              "      <td>432.950140</td>\n",
              "      <td>389.542936</td>\n",
              "      <td>-427.253427</td>\n",
              "      <td>468.614558</td>\n",
              "      <td>...</td>\n",
              "      <td>-1.423730e+13</td>\n",
              "      <td>1.561558e+13</td>\n",
              "      <td>-1.712727e+13</td>\n",
              "      <td>1.878531e+13</td>\n",
              "      <td>-2.060386e+13</td>\n",
              "      <td>2.259846e+13</td>\n",
              "      <td>4.851652e+08</td>\n",
              "      <td>2.681627e-09</td>\n",
              "      <td>2.519955e+09</td>\n",
              "      <td>4.436129</td>\n",
              "    </tr>\n",
              "    <tr>\n",
              "      <th>11</th>\n",
              "      <td>1.0</td>\n",
              "      <td>19.0</td>\n",
              "      <td>-18.710526</td>\n",
              "      <td>24.440643</td>\n",
              "      <td>361.0</td>\n",
              "      <td>-355.500000</td>\n",
              "      <td>464.372208</td>\n",
              "      <td>350.083795</td>\n",
              "      <td>-457.297285</td>\n",
              "      <td>597.345006</td>\n",
              "      <td>...</td>\n",
              "      <td>-1.999830e+13</td>\n",
              "      <td>2.612280e+13</td>\n",
              "      <td>-3.412293e+13</td>\n",
              "      <td>4.457311e+13</td>\n",
              "      <td>-5.822367e+13</td>\n",
              "      <td>7.605472e+13</td>\n",
              "      <td>1.784823e+08</td>\n",
              "      <td>7.483791e-09</td>\n",
              "      <td>4.115629e+10</td>\n",
              "      <td>4.611210</td>\n",
              "    </tr>\n",
              "    <tr>\n",
              "      <th>12</th>\n",
              "      <td>1.0</td>\n",
              "      <td>18.0</td>\n",
              "      <td>-17.684211</td>\n",
              "      <td>12.222015</td>\n",
              "      <td>324.0</td>\n",
              "      <td>-318.315789</td>\n",
              "      <td>219.996264</td>\n",
              "      <td>312.731302</td>\n",
              "      <td>-216.136680</td>\n",
              "      <td>149.377642</td>\n",
              "      <td>...</td>\n",
              "      <td>-4.716745e+11</td>\n",
              "      <td>3.259864e+11</td>\n",
              "      <td>-2.252976e+11</td>\n",
              "      <td>1.557090e+11</td>\n",
              "      <td>-1.076145e+11</td>\n",
              "      <td>7.437518e+10</td>\n",
              "      <td>6.565997e+07</td>\n",
              "      <td>2.088550e-08</td>\n",
              "      <td>2.032140e+05</td>\n",
              "      <td>3.611410</td>\n",
              "    </tr>\n",
              "    <tr>\n",
              "      <th>13</th>\n",
              "      <td>1.0</td>\n",
              "      <td>17.0</td>\n",
              "      <td>-16.657895</td>\n",
              "      <td>5.414655</td>\n",
              "      <td>289.0</td>\n",
              "      <td>-283.184211</td>\n",
              "      <td>92.049130</td>\n",
              "      <td>277.485457</td>\n",
              "      <td>-90.196749</td>\n",
              "      <td>29.318486</td>\n",
              "      <td>...</td>\n",
              "      <td>-5.969726e+09</td>\n",
              "      <td>1.940462e+09</td>\n",
              "      <td>-6.307478e+08</td>\n",
              "      <td>2.050248e+08</td>\n",
              "      <td>-6.664338e+07</td>\n",
              "      <td>2.166246e+07</td>\n",
              "      <td>2.415495e+07</td>\n",
              "      <td>5.828653e-08</td>\n",
              "      <td>2.246750e+02</td>\n",
              "      <td>2.436869</td>\n",
              "    </tr>\n",
              "    <tr>\n",
              "      <th>14</th>\n",
              "      <td>1.0</td>\n",
              "      <td>16.0</td>\n",
              "      <td>-15.631579</td>\n",
              "      <td>25.160410</td>\n",
              "      <td>256.0</td>\n",
              "      <td>-250.105263</td>\n",
              "      <td>402.566564</td>\n",
              "      <td>244.346260</td>\n",
              "      <td>-393.296939</td>\n",
              "      <td>633.046244</td>\n",
              "      <td>...</td>\n",
              "      <td>-9.410286e+12</td>\n",
              "      <td>1.514669e+13</td>\n",
              "      <td>-2.437994e+13</td>\n",
              "      <td>3.924167e+13</td>\n",
              "      <td>-6.316294e+13</td>\n",
              "      <td>1.016663e+14</td>\n",
              "      <td>8.886111e+06</td>\n",
              "      <td>1.626640e-07</td>\n",
              "      <td>8.453320e+10</td>\n",
              "      <td>4.653084</td>\n",
              "    </tr>\n",
              "    <tr>\n",
              "      <th>15</th>\n",
              "      <td>1.0</td>\n",
              "      <td>15.0</td>\n",
              "      <td>-14.605263</td>\n",
              "      <td>28.551423</td>\n",
              "      <td>225.0</td>\n",
              "      <td>-219.078947</td>\n",
              "      <td>428.271351</td>\n",
              "      <td>213.313712</td>\n",
              "      <td>-417.001052</td>\n",
              "      <td>815.183777</td>\n",
              "      <td>...</td>\n",
              "      <td>-1.260915e+13</td>\n",
              "      <td>2.464927e+13</td>\n",
              "      <td>-4.818618e+13</td>\n",
              "      <td>9.419783e+13</td>\n",
              "      <td>-1.841447e+14</td>\n",
              "      <td>3.599794e+14</td>\n",
              "      <td>3.269017e+06</td>\n",
              "      <td>4.539571e-07</td>\n",
              "      <td>2.510300e+12</td>\n",
              "      <td>4.835491</td>\n",
              "    </tr>\n",
              "    <tr>\n",
              "      <th>16</th>\n",
              "      <td>1.0</td>\n",
              "      <td>14.0</td>\n",
              "      <td>-13.578947</td>\n",
              "      <td>18.560023</td>\n",
              "      <td>196.0</td>\n",
              "      <td>-190.105263</td>\n",
              "      <td>259.840321</td>\n",
              "      <td>184.387812</td>\n",
              "      <td>-252.025575</td>\n",
              "      <td>344.474451</td>\n",
              "      <td>...</td>\n",
              "      <td>-1.016771e+12</td>\n",
              "      <td>1.389746e+12</td>\n",
              "      <td>-1.899538e+12</td>\n",
              "      <td>2.596332e+12</td>\n",
              "      <td>-3.548728e+12</td>\n",
              "      <td>4.850484e+12</td>\n",
              "      <td>1.202604e+06</td>\n",
              "      <td>1.266888e-06</td>\n",
              "      <td>1.149517e+08</td>\n",
              "      <td>4.214127</td>\n",
              "    </tr>\n",
              "    <tr>\n",
              "      <th>17</th>\n",
              "      <td>1.0</td>\n",
              "      <td>13.0</td>\n",
              "      <td>-12.552632</td>\n",
              "      <td>10.835468</td>\n",
              "      <td>169.0</td>\n",
              "      <td>-163.184211</td>\n",
              "      <td>140.861079</td>\n",
              "      <td>157.568560</td>\n",
              "      <td>-136.013633</td>\n",
              "      <td>117.407359</td>\n",
              "      <td>...</td>\n",
              "      <td>-4.654920e+10</td>\n",
              "      <td>4.018140e+10</td>\n",
              "      <td>-3.468470e+10</td>\n",
              "      <td>2.993993e+10</td>\n",
              "      <td>-2.584424e+10</td>\n",
              "      <td>2.230882e+10</td>\n",
              "      <td>4.424134e+05</td>\n",
              "      <td>3.535586e-06</td>\n",
              "      <td>5.079065e+04</td>\n",
              "      <td>3.437690</td>\n",
              "    </tr>\n",
              "    <tr>\n",
              "      <th>18</th>\n",
              "      <td>1.0</td>\n",
              "      <td>12.0</td>\n",
              "      <td>-11.526316</td>\n",
              "      <td>2.409582</td>\n",
              "      <td>144.0</td>\n",
              "      <td>-138.315789</td>\n",
              "      <td>28.914989</td>\n",
              "      <td>132.855956</td>\n",
              "      <td>-27.773608</td>\n",
              "      <td>5.806087</td>\n",
              "      <td>...</td>\n",
              "      <td>-1.652576e+07</td>\n",
              "      <td>3.454719e+06</td>\n",
              "      <td>-7.222109e+05</td>\n",
              "      <td>1.509786e+05</td>\n",
              "      <td>-3.156215e+04</td>\n",
              "      <td>6.598084e+03</td>\n",
              "      <td>1.627548e+05</td>\n",
              "      <td>9.866989e-06</td>\n",
              "      <td>1.112931e+01</td>\n",
              "      <td>1.268783</td>\n",
              "    </tr>\n",
              "    <tr>\n",
              "      <th>19</th>\n",
              "      <td>1.0</td>\n",
              "      <td>11.0</td>\n",
              "      <td>-10.500000</td>\n",
              "      <td>28.095512</td>\n",
              "      <td>121.0</td>\n",
              "      <td>-115.500000</td>\n",
              "      <td>309.050627</td>\n",
              "      <td>110.250000</td>\n",
              "      <td>-295.002871</td>\n",
              "      <td>789.357768</td>\n",
              "      <td>...</td>\n",
              "      <td>-2.234247e+12</td>\n",
              "      <td>5.978316e+12</td>\n",
              "      <td>-1.599656e+13</td>\n",
              "      <td>4.280299e+13</td>\n",
              "      <td>-1.145307e+14</td>\n",
              "      <td>3.064569e+14</td>\n",
              "      <td>5.987414e+04</td>\n",
              "      <td>2.753645e-05</td>\n",
              "      <td>1.591203e+12</td>\n",
              "      <td>4.812268</td>\n",
              "    </tr>\n",
              "    <tr>\n",
              "      <th>20</th>\n",
              "      <td>1.0</td>\n",
              "      <td>10.0</td>\n",
              "      <td>-9.473684</td>\n",
              "      <td>17.606140</td>\n",
              "      <td>100.0</td>\n",
              "      <td>-94.736842</td>\n",
              "      <td>176.061400</td>\n",
              "      <td>89.750693</td>\n",
              "      <td>-166.795010</td>\n",
              "      <td>309.976164</td>\n",
              "      <td>...</td>\n",
              "      <td>-1.290967e+11</td>\n",
              "      <td>2.399167e+11</td>\n",
              "      <td>-4.458674e+11</td>\n",
              "      <td>8.286116e+11</td>\n",
              "      <td>-1.539913e+12</td>\n",
              "      <td>2.861815e+12</td>\n",
              "      <td>2.202647e+04</td>\n",
              "      <td>7.684776e-05</td>\n",
              "      <td>4.428426e+07</td>\n",
              "      <td>4.138007</td>\n",
              "    </tr>\n",
              "    <tr>\n",
              "      <th>21</th>\n",
              "      <td>1.0</td>\n",
              "      <td>9.0</td>\n",
              "      <td>-8.447368</td>\n",
              "      <td>26.382055</td>\n",
              "      <td>81.0</td>\n",
              "      <td>-76.026316</td>\n",
              "      <td>237.438492</td>\n",
              "      <td>71.358033</td>\n",
              "      <td>-222.858936</td>\n",
              "      <td>696.012810</td>\n",
              "      <td>...</td>\n",
              "      <td>-5.497310e+11</td>\n",
              "      <td>1.716870e+12</td>\n",
              "      <td>-5.361973e+12</td>\n",
              "      <td>1.674603e+13</td>\n",
              "      <td>-5.229967e+13</td>\n",
              "      <td>1.633376e+14</td>\n",
              "      <td>8.103084e+03</td>\n",
              "      <td>2.144641e-04</td>\n",
              "      <td>2.868011e+11</td>\n",
              "      <td>4.721485</td>\n",
              "    </tr>\n",
              "    <tr>\n",
              "      <th>22</th>\n",
              "      <td>1.0</td>\n",
              "      <td>8.0</td>\n",
              "      <td>-7.421053</td>\n",
              "      <td>0.982887</td>\n",
              "      <td>64.0</td>\n",
              "      <td>-59.368421</td>\n",
              "      <td>7.863093</td>\n",
              "      <td>55.072022</td>\n",
              "      <td>-7.294053</td>\n",
              "      <td>0.966066</td>\n",
              "      <td>...</td>\n",
              "      <td>-2.064641e+04</td>\n",
              "      <td>2.734529e+03</td>\n",
              "      <td>-3.621766e+02</td>\n",
              "      <td>4.796873e+01</td>\n",
              "      <td>-6.353253e+00</td>\n",
              "      <td>8.414611e-01</td>\n",
              "      <td>2.980958e+03</td>\n",
              "      <td>5.985188e-04</td>\n",
              "      <td>2.672159e+00</td>\n",
              "      <td>-0.024903</td>\n",
              "    </tr>\n",
              "    <tr>\n",
              "      <th>23</th>\n",
              "      <td>1.0</td>\n",
              "      <td>7.0</td>\n",
              "      <td>-6.394737</td>\n",
              "      <td>29.216803</td>\n",
              "      <td>49.0</td>\n",
              "      <td>-44.763158</td>\n",
              "      <td>204.517622</td>\n",
              "      <td>40.892659</td>\n",
              "      <td>-186.833767</td>\n",
              "      <td>853.621586</td>\n",
              "      <td>...</td>\n",
              "      <td>-2.276548e+11</td>\n",
              "      <td>1.040128e+12</td>\n",
              "      <td>-4.752224e+12</td>\n",
              "      <td>2.171235e+13</td>\n",
              "      <td>-9.920120e+13</td>\n",
              "      <td>4.532387e+14</td>\n",
              "      <td>1.096633e+03</td>\n",
              "      <td>1.670325e-03</td>\n",
              "      <td>4.883109e+12</td>\n",
              "      <td>4.868726</td>\n",
              "    </tr>\n",
              "    <tr>\n",
              "      <th>24</th>\n",
              "      <td>1.0</td>\n",
              "      <td>6.0</td>\n",
              "      <td>-5.368421</td>\n",
              "      <td>0.494256</td>\n",
              "      <td>36.0</td>\n",
              "      <td>-32.210526</td>\n",
              "      <td>2.965535</td>\n",
              "      <td>28.819945</td>\n",
              "      <td>-2.653373</td>\n",
              "      <td>0.244289</td>\n",
              "      <td>...</td>\n",
              "      <td>-1.315200e+02</td>\n",
              "      <td>1.210869e+01</td>\n",
              "      <td>-1.114814e+00</td>\n",
              "      <td>1.026379e-01</td>\n",
              "      <td>-9.449587e-03</td>\n",
              "      <td>8.699976e-04</td>\n",
              "      <td>4.034288e+02</td>\n",
              "      <td>4.661486e-03</td>\n",
              "      <td>1.639278e+00</td>\n",
              "      <td>-1.016670</td>\n",
              "    </tr>\n",
              "    <tr>\n",
              "      <th>25</th>\n",
              "      <td>1.0</td>\n",
              "      <td>5.0</td>\n",
              "      <td>-4.342105</td>\n",
              "      <td>7.182598</td>\n",
              "      <td>25.0</td>\n",
              "      <td>-21.710526</td>\n",
              "      <td>35.912990</td>\n",
              "      <td>18.853878</td>\n",
              "      <td>-31.187597</td>\n",
              "      <td>51.589715</td>\n",
              "      <td>...</td>\n",
              "      <td>-2.950595e+07</td>\n",
              "      <td>4.880797e+07</td>\n",
              "      <td>-8.073688e+07</td>\n",
              "      <td>1.335529e+08</td>\n",
              "      <td>-2.209197e+08</td>\n",
              "      <td>3.654396e+08</td>\n",
              "      <td>1.484132e+02</td>\n",
              "      <td>1.300911e-02</td>\n",
              "      <td>1.316324e+03</td>\n",
              "      <td>2.844506</td>\n",
              "    </tr>\n",
              "    <tr>\n",
              "      <th>26</th>\n",
              "      <td>1.0</td>\n",
              "      <td>4.0</td>\n",
              "      <td>-3.315789</td>\n",
              "      <td>2.062233</td>\n",
              "      <td>16.0</td>\n",
              "      <td>-13.263158</td>\n",
              "      <td>8.248933</td>\n",
              "      <td>10.994460</td>\n",
              "      <td>-6.837932</td>\n",
              "      <td>4.252806</td>\n",
              "      <td>...</td>\n",
              "      <td>-1.494940e+04</td>\n",
              "      <td>9.297681e+03</td>\n",
              "      <td>-5.782632e+03</td>\n",
              "      <td>3.596470e+03</td>\n",
              "      <td>-2.236800e+03</td>\n",
              "      <td>1.391163e+03</td>\n",
              "      <td>5.459815e+01</td>\n",
              "      <td>3.630538e-02</td>\n",
              "      <td>7.863512e+00</td>\n",
              "      <td>1.044208</td>\n",
              "    </tr>\n",
              "    <tr>\n",
              "      <th>27</th>\n",
              "      <td>1.0</td>\n",
              "      <td>3.0</td>\n",
              "      <td>-2.289474</td>\n",
              "      <td>26.411231</td>\n",
              "      <td>9.0</td>\n",
              "      <td>-6.868421</td>\n",
              "      <td>79.233692</td>\n",
              "      <td>5.241690</td>\n",
              "      <td>-60.467818</td>\n",
              "      <td>697.553107</td>\n",
              "      <td>...</td>\n",
              "      <td>-8.083910e+08</td>\n",
              "      <td>9.325550e+09</td>\n",
              "      <td>-1.075790e+11</td>\n",
              "      <td>1.241025e+12</td>\n",
              "      <td>-1.431639e+13</td>\n",
              "      <td>1.651530e+14</td>\n",
              "      <td>2.008554e+01</td>\n",
              "      <td>1.013198e-01</td>\n",
              "      <td>2.952920e+11</td>\n",
              "      <td>4.723080</td>\n",
              "    </tr>\n",
              "    <tr>\n",
              "      <th>28</th>\n",
              "      <td>1.0</td>\n",
              "      <td>2.0</td>\n",
              "      <td>-1.263158</td>\n",
              "      <td>10.638901</td>\n",
              "      <td>4.0</td>\n",
              "      <td>-2.526316</td>\n",
              "      <td>21.277801</td>\n",
              "      <td>1.595568</td>\n",
              "      <td>-13.438611</td>\n",
              "      <td>113.186209</td>\n",
              "      <td>...</td>\n",
              "      <td>-4.383005e+05</td>\n",
              "      <td>3.691570e+06</td>\n",
              "      <td>-3.109211e+07</td>\n",
              "      <td>2.618722e+08</td>\n",
              "      <td>-2.205609e+09</td>\n",
              "      <td>1.857666e+10</td>\n",
              "      <td>7.389056e+00</td>\n",
              "      <td>2.827597e-01</td>\n",
              "      <td>4.172688e+04</td>\n",
              "      <td>3.411277</td>\n",
              "    </tr>\n",
              "    <tr>\n",
              "      <th>29</th>\n",
              "      <td>1.0</td>\n",
              "      <td>1.0</td>\n",
              "      <td>-0.236842</td>\n",
              "      <td>25.589026</td>\n",
              "      <td>1.0</td>\n",
              "      <td>-0.236842</td>\n",
              "      <td>25.589026</td>\n",
              "      <td>0.056094</td>\n",
              "      <td>-6.060559</td>\n",
              "      <td>654.798268</td>\n",
              "      <td>...</td>\n",
              "      <td>-8.176423e+03</td>\n",
              "      <td>8.834017e+05</td>\n",
              "      <td>-9.544497e+07</td>\n",
              "      <td>1.031212e+10</td>\n",
              "      <td>-1.114148e+12</td>\n",
              "      <td>1.203754e+14</td>\n",
              "      <td>2.718282e+00</td>\n",
              "      <td>7.891159e-01</td>\n",
              "      <td>1.297696e+11</td>\n",
              "      <td>4.677453</td>\n",
              "    </tr>\n",
              "    <tr>\n",
              "      <th>30</th>\n",
              "      <td>1.0</td>\n",
              "      <td>0.0</td>\n",
              "      <td>0.789474</td>\n",
              "      <td>23.484455</td>\n",
              "      <td>0.0</td>\n",
              "      <td>0.000000</td>\n",
              "      <td>0.000000</td>\n",
              "      <td>0.623269</td>\n",
              "      <td>18.540359</td>\n",
              "      <td>551.519608</td>\n",
              "      <td>...</td>\n",
              "      <td>2.190739e+06</td>\n",
              "      <td>6.516787e+07</td>\n",
              "      <td>1.938547e+09</td>\n",
              "      <td>5.766591e+10</td>\n",
              "      <td>1.715386e+12</td>\n",
              "      <td>5.102756e+13</td>\n",
              "      <td>1.000000e+00</td>\n",
              "      <td>2.202237e+00</td>\n",
              "      <td>1.581864e+10</td>\n",
              "      <td>4.553634</td>\n",
              "    </tr>\n",
              "    <tr>\n",
              "      <th>31</th>\n",
              "      <td>1.0</td>\n",
              "      <td>-1.0</td>\n",
              "      <td>1.815789</td>\n",
              "      <td>16.936435</td>\n",
              "      <td>1.0</td>\n",
              "      <td>-1.815789</td>\n",
              "      <td>-16.936435</td>\n",
              "      <td>3.297091</td>\n",
              "      <td>30.753001</td>\n",
              "      <td>286.842836</td>\n",
              "      <td>...</td>\n",
              "      <td>2.750664e+07</td>\n",
              "      <td>2.565630e+08</td>\n",
              "      <td>2.393043e+09</td>\n",
              "      <td>2.232066e+10</td>\n",
              "      <td>2.081918e+11</td>\n",
              "      <td>1.941869e+12</td>\n",
              "      <td>3.678794e-01</td>\n",
              "      <td>6.145926e+00</td>\n",
              "      <td>2.266733e+07</td>\n",
              "      <td>4.082058</td>\n",
              "    </tr>\n",
              "    <tr>\n",
              "      <th>32</th>\n",
              "      <td>1.0</td>\n",
              "      <td>-2.0</td>\n",
              "      <td>2.842105</td>\n",
              "      <td>2.193918</td>\n",
              "      <td>4.0</td>\n",
              "      <td>-5.684211</td>\n",
              "      <td>-4.387836</td>\n",
              "      <td>8.077562</td>\n",
              "      <td>6.235346</td>\n",
              "      <td>4.813276</td>\n",
              "      <td>...</td>\n",
              "      <td>9.425464e+03</td>\n",
              "      <td>7.275837e+03</td>\n",
              "      <td>5.616467e+03</td>\n",
              "      <td>4.335542e+03</td>\n",
              "      <td>3.346753e+03</td>\n",
              "      <td>2.583473e+03</td>\n",
              "      <td>1.353353e-01</td>\n",
              "      <td>1.715184e+01</td>\n",
              "      <td>8.970290e+00</td>\n",
              "      <td>1.133510</td>\n",
              "    </tr>\n",
              "    <tr>\n",
              "      <th>33</th>\n",
              "      <td>1.0</td>\n",
              "      <td>-3.0</td>\n",
              "      <td>3.868421</td>\n",
              "      <td>25.661858</td>\n",
              "      <td>9.0</td>\n",
              "      <td>-11.605263</td>\n",
              "      <td>-76.985575</td>\n",
              "      <td>14.964681</td>\n",
              "      <td>99.270872</td>\n",
              "      <td>658.530965</td>\n",
              "      <td>...</td>\n",
              "      <td>9.640714e+09</td>\n",
              "      <td>6.395339e+10</td>\n",
              "      <td>4.242462e+11</td>\n",
              "      <td>2.814312e+12</td>\n",
              "      <td>1.866924e+13</td>\n",
              "      <td>1.238457e+14</td>\n",
              "      <td>4.978707e-02</td>\n",
              "      <td>4.786675e+01</td>\n",
              "      <td>1.395736e+11</td>\n",
              "      <td>4.681554</td>\n",
              "    </tr>\n",
              "    <tr>\n",
              "      <th>34</th>\n",
              "      <td>1.0</td>\n",
              "      <td>-4.0</td>\n",
              "      <td>4.894737</td>\n",
              "      <td>18.552124</td>\n",
              "      <td>16.0</td>\n",
              "      <td>-19.578947</td>\n",
              "      <td>-74.208497</td>\n",
              "      <td>23.958449</td>\n",
              "      <td>90.807766</td>\n",
              "      <td>344.181316</td>\n",
              "      <td>...</td>\n",
              "      <td>6.174687e+09</td>\n",
              "      <td>2.340342e+10</td>\n",
              "      <td>8.870407e+10</td>\n",
              "      <td>3.362079e+11</td>\n",
              "      <td>1.274301e+12</td>\n",
              "      <td>4.829881e+12</td>\n",
              "      <td>1.831564e-02</td>\n",
              "      <td>1.335848e+02</td>\n",
              "      <td>1.140474e+08</td>\n",
              "      <td>4.213512</td>\n",
              "    </tr>\n",
              "    <tr>\n",
              "      <th>35</th>\n",
              "      <td>1.0</td>\n",
              "      <td>-5.0</td>\n",
              "      <td>5.921053</td>\n",
              "      <td>14.286566</td>\n",
              "      <td>25.0</td>\n",
              "      <td>-29.605263</td>\n",
              "      <td>-71.432831</td>\n",
              "      <td>35.058864</td>\n",
              "      <td>84.591510</td>\n",
              "      <td>204.105973</td>\n",
              "      <td>...</td>\n",
              "      <td>4.331456e+09</td>\n",
              "      <td>1.045112e+10</td>\n",
              "      <td>2.521690e+10</td>\n",
              "      <td>6.084441e+10</td>\n",
              "      <td>1.468080e+11</td>\n",
              "      <td>3.542245e+11</td>\n",
              "      <td>6.737947e-03</td>\n",
              "      <td>3.728039e+02</td>\n",
              "      <td>1.601684e+06</td>\n",
              "      <td>3.836587</td>\n",
              "    </tr>\n",
              "    <tr>\n",
              "      <th>36</th>\n",
              "      <td>1.0</td>\n",
              "      <td>-6.0</td>\n",
              "      <td>6.947368</td>\n",
              "      <td>11.623952</td>\n",
              "      <td>36.0</td>\n",
              "      <td>-41.684211</td>\n",
              "      <td>-69.743711</td>\n",
              "      <td>48.265928</td>\n",
              "      <td>80.755876</td>\n",
              "      <td>135.116258</td>\n",
              "      <td>...</td>\n",
              "      <td>3.434557e+09</td>\n",
              "      <td>5.746510e+09</td>\n",
              "      <td>9.614742e+09</td>\n",
              "      <td>1.608685e+10</td>\n",
              "      <td>2.691563e+10</td>\n",
              "      <td>4.503374e+10</td>\n",
              "      <td>2.478752e-03</td>\n",
              "      <td>1.040408e+03</td>\n",
              "      <td>1.117424e+05</td>\n",
              "      <td>3.539029</td>\n",
              "    </tr>\n",
              "    <tr>\n",
              "      <th>37</th>\n",
              "      <td>1.0</td>\n",
              "      <td>-7.0</td>\n",
              "      <td>7.973684</td>\n",
              "      <td>21.152997</td>\n",
              "      <td>49.0</td>\n",
              "      <td>-55.815789</td>\n",
              "      <td>-148.070979</td>\n",
              "      <td>63.579640</td>\n",
              "      <td>168.667318</td>\n",
              "      <td>447.449282</td>\n",
              "      <td>...</td>\n",
              "      <td>1.365069e+11</td>\n",
              "      <td>3.621326e+11</td>\n",
              "      <td>9.606838e+11</td>\n",
              "      <td>2.548551e+12</td>\n",
              "      <td>6.760926e+12</td>\n",
              "      <td>1.793573e+13</td>\n",
              "      <td>9.118820e-04</td>\n",
              "      <td>2.903535e+03</td>\n",
              "      <td>1.536844e+09</td>\n",
              "      <td>4.402790</td>\n",
              "    </tr>\n",
              "    <tr>\n",
              "      <th>38</th>\n",
              "      <td>1.0</td>\n",
              "      <td>-8.0</td>\n",
              "      <td>9.000000</td>\n",
              "      <td>4.489689</td>\n",
              "      <td>64.0</td>\n",
              "      <td>-72.000000</td>\n",
              "      <td>-35.917516</td>\n",
              "      <td>81.000000</td>\n",
              "      <td>40.407205</td>\n",
              "      <td>20.157312</td>\n",
              "      <td>...</td>\n",
              "      <td>1.077194e+08</td>\n",
              "      <td>5.373631e+07</td>\n",
              "      <td>2.680660e+07</td>\n",
              "      <td>1.337259e+07</td>\n",
              "      <td>6.670974e+06</td>\n",
              "      <td>3.327845e+06</td>\n",
              "      <td>3.354626e-04</td>\n",
              "      <td>8.103084e+03</td>\n",
              "      <td>8.909378e+01</td>\n",
              "      <td>2.166616</td>\n",
              "    </tr>\n",
              "  </tbody>\n",
              "</table>\n",
              "<p>39 rows × 290 columns</p>\n",
              "</div>\n",
              "      <button class=\"colab-df-convert\" onclick=\"convertToInteractive('df-31a94474-4f08-4d18-b859-ae3f429c508c')\"\n",
              "              title=\"Convert this dataframe to an interactive table.\"\n",
              "              style=\"display:none;\">\n",
              "        \n",
              "  <svg xmlns=\"http://www.w3.org/2000/svg\" height=\"24px\"viewBox=\"0 0 24 24\"\n",
              "       width=\"24px\">\n",
              "    <path d=\"M0 0h24v24H0V0z\" fill=\"none\"/>\n",
              "    <path d=\"M18.56 5.44l.94 2.06.94-2.06 2.06-.94-2.06-.94-.94-2.06-.94 2.06-2.06.94zm-11 1L8.5 8.5l.94-2.06 2.06-.94-2.06-.94L8.5 2.5l-.94 2.06-2.06.94zm10 10l.94 2.06.94-2.06 2.06-.94-2.06-.94-.94-2.06-.94 2.06-2.06.94z\"/><path d=\"M17.41 7.96l-1.37-1.37c-.4-.4-.92-.59-1.43-.59-.52 0-1.04.2-1.43.59L10.3 9.45l-7.72 7.72c-.78.78-.78 2.05 0 2.83L4 21.41c.39.39.9.59 1.41.59.51 0 1.02-.2 1.41-.59l7.78-7.78 2.81-2.81c.8-.78.8-2.07 0-2.86zM5.41 20L4 18.59l7.72-7.72 1.47 1.35L5.41 20z\"/>\n",
              "  </svg>\n",
              "      </button>\n",
              "      \n",
              "  <style>\n",
              "    .colab-df-container {\n",
              "      display:flex;\n",
              "      flex-wrap:wrap;\n",
              "      gap: 12px;\n",
              "    }\n",
              "\n",
              "    .colab-df-convert {\n",
              "      background-color: #E8F0FE;\n",
              "      border: none;\n",
              "      border-radius: 50%;\n",
              "      cursor: pointer;\n",
              "      display: none;\n",
              "      fill: #1967D2;\n",
              "      height: 32px;\n",
              "      padding: 0 0 0 0;\n",
              "      width: 32px;\n",
              "    }\n",
              "\n",
              "    .colab-df-convert:hover {\n",
              "      background-color: #E2EBFA;\n",
              "      box-shadow: 0px 1px 2px rgba(60, 64, 67, 0.3), 0px 1px 3px 1px rgba(60, 64, 67, 0.15);\n",
              "      fill: #174EA6;\n",
              "    }\n",
              "\n",
              "    [theme=dark] .colab-df-convert {\n",
              "      background-color: #3B4455;\n",
              "      fill: #D2E3FC;\n",
              "    }\n",
              "\n",
              "    [theme=dark] .colab-df-convert:hover {\n",
              "      background-color: #434B5C;\n",
              "      box-shadow: 0px 1px 3px 1px rgba(0, 0, 0, 0.15);\n",
              "      filter: drop-shadow(0px 1px 2px rgba(0, 0, 0, 0.3));\n",
              "      fill: #FFFFFF;\n",
              "    }\n",
              "  </style>\n",
              "\n",
              "      <script>\n",
              "        const buttonEl =\n",
              "          document.querySelector('#df-31a94474-4f08-4d18-b859-ae3f429c508c button.colab-df-convert');\n",
              "        buttonEl.style.display =\n",
              "          google.colab.kernel.accessAllowed ? 'block' : 'none';\n",
              "\n",
              "        async function convertToInteractive(key) {\n",
              "          const element = document.querySelector('#df-31a94474-4f08-4d18-b859-ae3f429c508c');\n",
              "          const dataTable =\n",
              "            await google.colab.kernel.invokeFunction('convertToInteractive',\n",
              "                                                     [key], {});\n",
              "          if (!dataTable) return;\n",
              "\n",
              "          const docLinkHtml = 'Like what you see? Visit the ' +\n",
              "            '<a target=\"_blank\" href=https://colab.research.google.com/notebooks/data_table.ipynb>data table notebook</a>'\n",
              "            + ' to learn more about interactive tables.';\n",
              "          element.innerHTML = '';\n",
              "          dataTable['output_type'] = 'display_data';\n",
              "          await google.colab.output.renderOutput(dataTable, element);\n",
              "          const docLink = document.createElement('div');\n",
              "          docLink.innerHTML = docLinkHtml;\n",
              "          element.appendChild(docLink);\n",
              "        }\n",
              "      </script>\n",
              "    </div>\n",
              "  </div>\n",
              "  "
            ]
          },
          "metadata": {},
          "execution_count": 77
        }
      ]
    },
    {
      "cell_type": "markdown",
      "source": [
        "now fit  in linear model and calculate mse"
      ],
      "metadata": {
        "id": "LDxSxsLRzHjF"
      }
    },
    {
      "cell_type": "code",
      "source": [
        "lin_reg.fit(X, y)\n",
        "\n",
        "from sklearn.metrics import mean_squared_error\n",
        "\n",
        "mean_squared_error(y, lin_reg.predict(X))"
      ],
      "metadata": {
        "id": "sKm3nVpPG6Rz",
        "colab": {
          "base_uri": "https://localhost:8080/"
        },
        "outputId": "f90c755e-7bfa-4749-db72-081b9e412551"
      },
      "execution_count": null,
      "outputs": [
        {
          "output_type": "execute_result",
          "data": {
            "text/plain": [
              "0.11522445300215627"
            ]
          },
          "metadata": {},
          "execution_count": 78
        }
      ]
    },
    {
      "cell_type": "code",
      "source": [
        "# This is what error i got try to minimize it"
      ],
      "metadata": {
        "colab": {
          "base_uri": "https://localhost:8080/"
        },
        "id": "Xqbg7ogeG6UW",
        "outputId": "17815365-2886-4bc8-eaf9-8bc37079aa50"
      },
      "execution_count": null,
      "outputs": [
        {
          "output_type": "execute_result",
          "data": {
            "text/plain": [
              "0.13336958755364892"
            ]
          },
          "metadata": {},
          "execution_count": 93
        }
      ]
    },
    {
      "cell_type": "markdown",
      "source": [
        "**Now it's time to check which features having more weights**"
      ],
      "metadata": {
        "id": "HYe-UUMYIHoe"
      }
    },
    {
      "cell_type": "code",
      "source": [
        "lin_reg.coef_"
      ],
      "metadata": {
        "id": "6ue6XNOtQE7P",
        "colab": {
          "base_uri": "https://localhost:8080/"
        },
        "outputId": "c7cf86c7-64af-406f-8f1b-afcb3887a716"
      },
      "execution_count": null,
      "outputs": [
        {
          "output_type": "execute_result",
          "data": {
            "text/plain": [
              "array([ 8.56714417e-07, -2.03254985e-04,  2.08750232e-04,  3.56156982e-05,\n",
              "       -5.42047503e-04,  3.95721438e-04, -2.56318946e-04, -2.41167617e-04,\n",
              "        2.91334055e-04,  8.52692211e-05, -3.09727801e-03,  2.75072033e-03,\n",
              "       -2.20456785e-04, -2.51068870e-03,  2.38823584e-05, -5.45521904e-04,\n",
              "        2.38637022e-03,  2.05487173e-04,  6.27195172e-04,  1.57327537e-04,\n",
              "       -1.03652785e-02,  8.19282949e-03, -2.19990767e-03, -6.23680894e-03,\n",
              "        2.08375511e-03, -4.57071207e-04,  4.41881264e-03, -2.11973627e-03,\n",
              "        3.84242089e-05, -1.44370727e-03, -2.65112070e-03,  2.33774553e-03,\n",
              "        4.55718705e-04,  1.60590552e-03,  2.86447754e-04, -3.39711964e-02,\n",
              "        2.66820606e-02, -3.89635010e-03, -2.09161969e-02,  2.26211642e-03,\n",
              "       -4.46136538e-03,  1.65428266e-02, -6.76575974e-04,  4.21792405e-03,\n",
              "       -1.99624869e-03, -1.34896278e-02, -9.79095401e-04, -4.29858715e-03,\n",
              "        9.09012654e-04, -4.40980209e-03,  1.17516280e-02,  2.85044964e-03,\n",
              "        4.77148578e-03,  3.34886105e-04,  4.75199247e-03,  1.51348931e-03,\n",
              "       -6.08013779e-02,  3.55820486e-02, -1.42318079e-02, -1.54536335e-02,\n",
              "        1.15302633e-02, -6.01453632e-03, -6.52478898e-04, -1.00478099e-02,\n",
              "        2.65068302e-03, -8.87085351e-03,  1.37297756e-02,  9.77808702e-03,\n",
              "        6.09502196e-04,  7.52831121e-03, -8.37232342e-03, -2.47407917e-02,\n",
              "       -1.08083752e-02, -4.01916316e-03, -7.00878310e-03,  5.11122502e-03,\n",
              "       -1.41098307e-02,  3.46694662e-02,  1.33431611e-02,  7.89189307e-03,\n",
              "        7.45760853e-03, -1.49415794e-03,  1.56760021e-02,  1.47784071e-02,\n",
              "       -6.67921920e-02,  2.05487935e-02, -2.80922816e-02,  7.00153979e-03,\n",
              "        1.75959144e-02,  2.73445598e-03, -1.93860278e-02, -8.95612529e-03,\n",
              "       -7.55473349e-03,  1.71914274e-03,  1.93810715e-02,  1.25933130e-03,\n",
              "        9.84618677e-03, -8.76768874e-03, -1.38910176e-02, -9.05180320e-03,\n",
              "        6.42707078e-03, -9.62411100e-03,  1.49418210e-02,  7.64684170e-03,\n",
              "       -2.70139558e-02, -1.02421954e-02, -1.51291320e-02,  6.70435352e-03,\n",
              "       -2.08682766e-02, -3.81289672e-03,  1.65855093e-02, -3.24991427e-02,\n",
              "        3.78823581e-02,  2.60613415e-02, -6.50341996e-04,  2.73050275e-02,\n",
              "        2.73363774e-03, -4.64617902e-03,  4.50215468e-02,  8.49382333e-02,\n",
              "       -4.50874136e-02, -6.45675362e-03, -3.22732635e-02,  2.28493999e-02,\n",
              "        1.09444424e-02,  1.65416987e-02, -1.79231683e-02,  2.65905709e-03,\n",
              "       -1.48182253e-02,  1.51309255e-02,  3.09007213e-03, -9.79965749e-03,\n",
              "        9.24391523e-03, -1.41718897e-02, -1.73937322e-02,  1.21294567e-02,\n",
              "        1.10517525e-02, -1.71387098e-03,  7.62297469e-03,  6.88486913e-03,\n",
              "       -1.96997901e-02, -1.95948132e-02, -6.26858458e-03, -5.83900968e-03,\n",
              "        3.97259542e-03, -1.02906960e-03, -1.10860152e-03, -2.42753490e-02,\n",
              "        1.20245223e-02, -5.51050409e-03,  1.12855784e-02, -2.05520924e-02,\n",
              "       -1.95403119e-03,  1.42315984e-02, -7.43043946e-04,  3.62721543e-02,\n",
              "        1.75661678e-02,  2.62302609e-02, -1.20959952e-02,  4.26495376e-02,\n",
              "        4.16358820e-03, -1.82741502e-02,  3.63059239e-02,  2.98298153e-02,\n",
              "       -1.33405260e-02, -1.35351635e-02, -2.17039817e-02, -2.18697060e-02,\n",
              "        1.71776955e-02, -3.03366461e-03,  2.25198136e-02,  4.09259696e-04,\n",
              "        1.17538485e-02, -1.00532066e-02,  1.41703743e-02, -1.45699010e-02,\n",
              "       -9.96390001e-03, -1.38083872e-03, -2.59781151e-03, -1.48330478e-02,\n",
              "        1.73928408e-02,  2.48953986e-03,  8.71500602e-03, -8.52215613e-03,\n",
              "        1.49149972e-03, -5.87388930e-03, -8.27466512e-03,  6.17001382e-03,\n",
              "       -1.02974048e-02,  1.47645623e-02,  3.90467227e-03, -9.52399587e-03,\n",
              "       -8.48416779e-03, -6.97716299e-03, -1.12812681e-02,  5.95864285e-03,\n",
              "       -1.20168431e-02, -4.81985210e-03,  8.89941718e-03, -1.04573176e-02,\n",
              "        1.17151690e-02,  1.66538162e-02,  7.22774243e-03,  2.79422011e-03,\n",
              "       -3.89225962e-03,  3.40403544e-03,  2.10185837e-03,  1.01458951e-02,\n",
              "        1.66124469e-02, -5.33420156e-03, -3.22405320e-03,  1.32901547e-02,\n",
              "       -1.24172226e-02,  3.76653740e-02, -2.06570854e-04, -1.65841326e-02,\n",
              "        1.82496812e-02,  6.50023677e-03, -5.05740953e-03,  6.88522765e-04,\n",
              "        3.19451068e-03, -1.39642360e-02, -6.14064987e-03, -2.80305378e-03,\n",
              "       -1.09632738e-02,  1.38141705e-02,  1.64380717e-02,  8.85683305e-03,\n",
              "        3.60112402e-03,  2.25154459e-03, -1.65474582e-02,  1.89494319e-04,\n",
              "       -1.16325488e-02,  8.87648188e-03, -6.69145137e-03,  5.48055136e-03,\n",
              "       -8.06076963e-03,  1.08485394e-02, -1.11609206e-02, -4.84287551e-03,\n",
              "        1.88513922e-03,  8.10635560e-03,  1.02382087e-02, -4.25380214e-03,\n",
              "        4.72656153e-03,  6.14771985e-03, -6.57198917e-03, -6.59706196e-05,\n",
              "       -1.48524270e-02, -5.63661937e-03, -3.76380482e-03,  6.80520484e-03,\n",
              "       -3.22692050e-03, -7.73976216e-04, -6.63031435e-03,  1.65683533e-03,\n",
              "        9.73497439e-03, -3.12135058e-03,  8.56701379e-03, -1.64713483e-02,\n",
              "       -4.93328408e-04,  7.82022578e-03, -1.45092702e-03,  7.54824453e-03,\n",
              "       -1.46250312e-03,  3.15654468e-03,  8.90953338e-03, -6.58647321e-03,\n",
              "        1.38319663e-02,  3.19372950e-03, -6.36669778e-03,  9.49903307e-03,\n",
              "        5.36812546e-03, -2.71020884e-03,  2.73479590e-04, -5.78500711e-03,\n",
              "        1.34822945e-03, -3.04328171e-03,  1.55398628e-02, -3.44085978e-03,\n",
              "       -6.55851350e-03,  4.65861204e-03, -3.77592374e-04, -1.21105032e-03,\n",
              "        2.62623868e-04, -1.42986863e-05,  1.29000097e+01,  5.57726824e-04,\n",
              "        8.79563611e-06,  4.92708909e-05])"
            ]
          },
          "metadata": {},
          "execution_count": 81
        }
      ]
    },
    {
      "cell_type": "markdown",
      "source": [
        "**Seems like its trying to overfit the data all the weights are too high to too low**\n",
        "\n",
        "\n",
        "**Let's use Ridge and Lasso to solve this**"
      ],
      "metadata": {
        "id": "RbILxNuWItVz"
      }
    },
    {
      "cell_type": "code",
      "source": [
        "from sklearn.linear_model import Ridge, Lasso"
      ],
      "metadata": {
        "id": "iYql1a8UG6Zd"
      },
      "execution_count": null,
      "outputs": []
    },
    {
      "cell_type": "code",
      "source": [
        "ridge = Ridge()\n",
        "lasso = Lasso()"
      ],
      "metadata": {
        "id": "iXfiiBY00obJ"
      },
      "execution_count": null,
      "outputs": []
    },
    {
      "cell_type": "code",
      "source": [
        "ridge.fit(X,y)\n",
        "lasso.fit(X, y)"
      ],
      "metadata": {
        "id": "Sn7njUiY090J",
        "colab": {
          "base_uri": "https://localhost:8080/"
        },
        "outputId": "654c8b55-68d3-4bca-b9c6-cba7d3634524"
      },
      "execution_count": null,
      "outputs": [
        {
          "output_type": "stream",
          "name": "stderr",
          "text": [
            "/usr/local/lib/python3.7/dist-packages/sklearn/linear_model/_ridge.py:197: UserWarning:\n",
            "\n",
            "Singular matrix in solving dual problem. Using least-squares solution instead.\n",
            "\n"
          ]
        },
        {
          "output_type": "execute_result",
          "data": {
            "text/plain": [
              "Lasso()"
            ]
          },
          "metadata": {},
          "execution_count": 85
        }
      ]
    },
    {
      "cell_type": "markdown",
      "source": [
        "**Now let's see how many unnecessary features are there**"
      ],
      "metadata": {
        "id": "yJwL1f3AJNKb"
      }
    },
    {
      "cell_type": "code",
      "source": [
        "lin_reg.coef_"
      ],
      "metadata": {
        "id": "EO-xbiMH1Hw8"
      },
      "execution_count": null,
      "outputs": []
    },
    {
      "cell_type": "code",
      "source": [
        "ridge.coef_"
      ],
      "metadata": {
        "id": "m9gr6p6kJUSq"
      },
      "execution_count": null,
      "outputs": []
    },
    {
      "cell_type": "code",
      "source": [
        "lasso.coef_"
      ],
      "metadata": {
        "id": "cvOcPwlSJVJy"
      },
      "execution_count": null,
      "outputs": []
    },
    {
      "cell_type": "markdown",
      "source": [
        "**Too Many data**\n",
        "\n",
        "Check in Validation DataSet"
      ],
      "metadata": {
        "id": "d_9AQ3SNNWge"
      }
    },
    {
      "cell_type": "markdown",
      "source": [
        "**Split data set into train and validation**"
      ],
      "metadata": {
        "id": "djbY-yY1NPyJ"
      }
    },
    {
      "cell_type": "code",
      "source": [
        "from sklearn.model_selection import train_test_split\n",
        "\n",
        "xtrain, xtest, ytrain, ytest = train_test_split(X, y, test_size=0.2, random_state=42)"
      ],
      "metadata": {
        "id": "NN8r-iiUJWWq"
      },
      "execution_count": null,
      "outputs": []
    },
    {
      "cell_type": "code",
      "source": [
        "lin_reg.fit(xtrain, ytrain)\n",
        "ridge.fit(xtrain, ytrain)\n",
        "lasso.fit(xtrain, ytrain)"
      ],
      "metadata": {
        "colab": {
          "base_uri": "https://localhost:8080/"
        },
        "id": "BFOEetf1L39Q",
        "outputId": "534ff843-976b-4e98-83bb-af8ca3ad3ef6"
      },
      "execution_count": null,
      "outputs": [
        {
          "output_type": "stream",
          "name": "stderr",
          "text": [
            "/usr/local/lib/python3.7/dist-packages/sklearn/linear_model/_ridge.py:197: UserWarning:\n",
            "\n",
            "Singular matrix in solving dual problem. Using least-squares solution instead.\n",
            "\n"
          ]
        },
        {
          "output_type": "execute_result",
          "data": {
            "text/plain": [
              "Lasso()"
            ]
          },
          "metadata": {},
          "execution_count": 90
        }
      ]
    },
    {
      "cell_type": "markdown",
      "source": [
        "**Check for errors and compare all 3 of them**"
      ],
      "metadata": {
        "id": "S0IjEZ1mM_G0"
      }
    },
    {
      "cell_type": "code",
      "source": [
        "print('Linear', mean_squared_error(ytest,lin_reg.predict(xtest) ))\n",
        "print('Ridge', mean_squared_error(ytest, ridge.predict(xtest)))\n",
        "print('Lasso', mean_squared_error(ytest, lasso.predict(xtest)))"
      ],
      "metadata": {
        "id": "2aeB8vXQQdSV",
        "colab": {
          "base_uri": "https://localhost:8080/"
        },
        "outputId": "a7c80c6d-3b0b-430a-9bb9-201c31525ae5"
      },
      "execution_count": null,
      "outputs": [
        {
          "output_type": "stream",
          "name": "stdout",
          "text": [
            "Linear 2.3074109561052995e+17\n",
            "Ridge 3.570219501374129e+19\n",
            "Lasso 1.879504392005368e+23\n"
          ]
        }
      ]
    },
    {
      "cell_type": "code",
      "source": [],
      "metadata": {
        "colab": {
          "base_uri": "https://localhost:8080/"
        },
        "id": "g6AUPNkRL-Js",
        "outputId": "85eeaccb-5705-4f19-93ea-fa84afef0828"
      },
      "execution_count": null,
      "outputs": [
        {
          "output_type": "stream",
          "name": "stdout",
          "text": [
            "Linear 2.340818611496725e+19\n",
            "Ridge 3.998413905356502e+22\n",
            "Lasso 3.0844465939438438e+25\n"
          ]
        }
      ]
    },
    {
      "cell_type": "markdown",
      "source": [
        "**Seems like Ridge and Lasso have not done a great job This time, Unfortunately**"
      ],
      "metadata": {
        "id": "ud9TcGcTLqpB"
      }
    }
  ]
}